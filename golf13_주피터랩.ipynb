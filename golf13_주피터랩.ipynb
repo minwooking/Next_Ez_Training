{
 "cells": [
  {
   "cell_type": "markdown",
   "id": "5d982a0a-0d95-468f-878c-50572dc616b3",
   "metadata": {},
   "source": [
    "# Jupyter lab 에서 써보기"
   ]
  },
  {
   "cell_type": "markdown",
   "id": "d57e9526-d665-4eda-97a3-8d536fdb8fe8",
   "metadata": {
    "tags": []
   },
   "source": [
    "## Tip 1\n",
    "- 자동완성시 탭키를 누르면서 하면 빠르게 할 수 있다."
   ]
  },
  {
   "cell_type": "code",
   "execution_count": 5,
   "id": "77cfd422-a462-47cf-a488-46805b1b2921",
   "metadata": {},
   "outputs": [],
   "source": [
    "import pandas as pd\n",
    "import numpy as np\n",
    "import matplotlib.pyplot as plt\n"
   ]
  },
  {
   "cell_type": "code",
   "execution_count": 8,
   "id": "9f868725-47d6-4116-aa2b-2aa95ecff482",
   "metadata": {
    "jupyter": {
     "source_hidden": true
    },
    "tags": []
   },
   "outputs": [
    {
     "name": "stdout",
     "output_type": "stream",
     "text": [
      "/media/minwookim/9C33-6BBD/WorkSpace/Next_Ez_jejudo\n"
     ]
    }
   ],
   "source": [
    "!pwd"
   ]
  },
  {
   "cell_type": "code",
   "execution_count": 13,
   "id": "0f8c2897-e9e2-43ae-a7c3-d0e46c1cf384",
   "metadata": {},
   "outputs": [
    {
     "name": "stdout",
     "output_type": "stream",
     "text": [
      "/media/minwookim/9C33-6BBD/WorkSpace/Next_Ez_jejudo\n"
     ]
    }
   ],
   "source": [
    "!pwd"
   ]
  },
  {
   "cell_type": "code",
   "execution_count": 12,
   "id": "73335589-8f5c-481e-af54-cb6b0b328e50",
   "metadata": {
    "tags": []
   },
   "outputs": [
    {
     "ename": "NameError",
     "evalue": "name 'Next_Ez_jejudo' is not defined",
     "output_type": "error",
     "traceback": [
      "\u001b[0;31m---------------------------------------------------------------------------\u001b[0m",
      "\u001b[0;31mNameError\u001b[0m                                 Traceback (most recent call last)",
      "\u001b[0;32m/tmp/ipykernel_68089/3455214239.py\u001b[0m in \u001b[0;36m<module>\u001b[0;34m\u001b[0m\n\u001b[0;32m----> 1\u001b[0;31m \u001b[0mNext_Ez_jejudo\u001b[0m\u001b[0;34m/\u001b[0m\u001b[0mdata\u001b[0m\u001b[0;34m/\u001b[0m\u001b[0m골프장데이터\u001b[0m\u001b[0;34m/\u001b[0m\u001b[0m예약취소데이터ver0305\u001b[0m\u001b[0;34m.\u001b[0m\u001b[0mcsv\u001b[0m\u001b[0;34m(\u001b[0m\u001b[0;34m)\u001b[0m\u001b[0;34m\u001b[0m\u001b[0;34m\u001b[0m\u001b[0m\n\u001b[0m",
      "\u001b[0;31mNameError\u001b[0m: name 'Next_Ez_jejudo' is not defined"
     ]
    }
   ],
   "source": [
    "/Next_Ez_jejudo/data/골프장데이터/예약취소데이터ver0305.csv"
   ]
  },
  {
   "cell_type": "code",
   "execution_count": 14,
   "id": "c1fa4829-8d29-4c5d-8529-06fa7a598936",
   "metadata": {
    "tags": []
   },
   "outputs": [],
   "source": [
    "df = pd.read_csv('/media/minwookim/9C33-6BBD/WorkSpace/Next_Ez_jejudo/data/골프장데이터/예약취소데이터ver0305.csv')"
   ]
  },
  {
   "cell_type": "code",
   "execution_count": 16,
   "id": "3990a369-bf23-4107-99a7-714b612eb7f0",
   "metadata": {},
   "outputs": [
    {
     "data": {
      "text/html": [
       "<div>\n",
       "<style scoped>\n",
       "    .dataframe tbody tr th:only-of-type {\n",
       "        vertical-align: middle;\n",
       "    }\n",
       "\n",
       "    .dataframe tbody tr th {\n",
       "        vertical-align: top;\n",
       "    }\n",
       "\n",
       "    .dataframe thead th {\n",
       "        text-align: right;\n",
       "    }\n",
       "</style>\n",
       "<table border=\"1\" class=\"dataframe\">\n",
       "  <thead>\n",
       "    <tr style=\"text-align: right;\">\n",
       "      <th></th>\n",
       "      <th>골프장명</th>\n",
       "      <th>골프장지역명</th>\n",
       "      <th>골프장멤버십값</th>\n",
       "      <th>골프장유형값</th>\n",
       "      <th>사용일자</th>\n",
       "      <th>사용시간값</th>\n",
       "      <th>사용유형명</th>\n",
       "      <th>거주자금액</th>\n",
       "      <th>비거주자금액</th>\n",
       "      <th>결제수단명</th>\n",
       "      <th>...</th>\n",
       "      <th>취소일자</th>\n",
       "      <th>취소시간</th>\n",
       "      <th>판매업체명</th>\n",
       "      <th>예약자성별코드</th>\n",
       "      <th>예약자연령대코드</th>\n",
       "      <th>예약자거주지값</th>\n",
       "      <th>예약자평균값</th>\n",
       "      <th>예약자골프경력값</th>\n",
       "      <th>예약자평균사용값</th>\n",
       "      <th>예약자사용성향값</th>\n",
       "    </tr>\n",
       "  </thead>\n",
       "  <tbody>\n",
       "    <tr>\n",
       "      <th>0</th>\n",
       "      <td>더클래식CC</td>\n",
       "      <td>동부권</td>\n",
       "      <td>대중제</td>\n",
       "      <td>18</td>\n",
       "      <td>20211213</td>\n",
       "      <td>730</td>\n",
       "      <td>Valley</td>\n",
       "      <td>80000</td>\n",
       "      <td>100000</td>\n",
       "      <td>현장결제</td>\n",
       "      <td>...</td>\n",
       "      <td>20211201</td>\n",
       "      <td>184931</td>\n",
       "      <td>섬프로</td>\n",
       "      <td>1</td>\n",
       "      <td>50</td>\n",
       "      <td>도민</td>\n",
       "      <td>14</td>\n",
       "      <td>10년이상</td>\n",
       "      <td>4회</td>\n",
       "      <td>주중골프</td>\n",
       "    </tr>\n",
       "    <tr>\n",
       "      <th>1</th>\n",
       "      <td>더클래식CC</td>\n",
       "      <td>동부권</td>\n",
       "      <td>대중제</td>\n",
       "      <td>18</td>\n",
       "      <td>20211217</td>\n",
       "      <td>730</td>\n",
       "      <td>valley</td>\n",
       "      <td>80000</td>\n",
       "      <td>100000</td>\n",
       "      <td>현장결제</td>\n",
       "      <td>...</td>\n",
       "      <td>20211201</td>\n",
       "      <td>93827</td>\n",
       "      <td>섬프로</td>\n",
       "      <td>X</td>\n",
       "      <td>X</td>\n",
       "      <td>도민</td>\n",
       "      <td>X</td>\n",
       "      <td>X</td>\n",
       "      <td>X</td>\n",
       "      <td>X</td>\n",
       "    </tr>\n",
       "    <tr>\n",
       "      <th>2</th>\n",
       "      <td>제주CC</td>\n",
       "      <td>제주시내권</td>\n",
       "      <td>대중제</td>\n",
       "      <td>18</td>\n",
       "      <td>20211217</td>\n",
       "      <td>738</td>\n",
       "      <td>랜덤</td>\n",
       "      <td>145000</td>\n",
       "      <td>145000</td>\n",
       "      <td>선결제</td>\n",
       "      <td>...</td>\n",
       "      <td>20211202</td>\n",
       "      <td>165324</td>\n",
       "      <td>슬기로운골프생활</td>\n",
       "      <td>1</td>\n",
       "      <td>40</td>\n",
       "      <td>도민</td>\n",
       "      <td>20</td>\n",
       "      <td>4~6년</td>\n",
       "      <td>1회이하</td>\n",
       "      <td>X</td>\n",
       "    </tr>\n",
       "  </tbody>\n",
       "</table>\n",
       "<p>3 rows × 25 columns</p>\n",
       "</div>"
      ],
      "text/plain": [
       "     골프장명 골프장지역명 골프장멤버십값  골프장유형값      사용일자  사용시간값   사용유형명   거주자금액  비거주자금액  \\\n",
       "0  더클래식CC    동부권     대중제      18  20211213    730  Valley   80000  100000   \n",
       "1  더클래식CC    동부권     대중제      18  20211217    730  valley   80000  100000   \n",
       "2    제주CC  제주시내권     대중제      18  20211217    738      랜덤  145000  145000   \n",
       "\n",
       "  결제수단명  ...      취소일자    취소시간     판매업체명  예약자성별코드  예약자연령대코드  예약자거주지값  예약자평균값  \\\n",
       "0  현장결제  ...  20211201  184931       섬프로        1        50       도민      14   \n",
       "1  현장결제  ...  20211201   93827       섬프로        X         X       도민       X   \n",
       "2   선결제  ...  20211202  165324  슬기로운골프생활        1        40       도민      20   \n",
       "\n",
       "  예약자골프경력값 예약자평균사용값 예약자사용성향값  \n",
       "0    10년이상       4회     주중골프  \n",
       "1        X        X        X  \n",
       "2     4~6년     1회이하        X  \n",
       "\n",
       "[3 rows x 25 columns]"
      ]
     },
     "execution_count": 16,
     "metadata": {},
     "output_type": "execute_result"
    }
   ],
   "source": [
    "df.head(3)"
   ]
  },
  {
   "cell_type": "code",
   "execution_count": 18,
   "id": "26f3bc0b-789b-4e58-91a4-c6366b13b2a4",
   "metadata": {},
   "outputs": [
    {
     "data": {
      "text/plain": [
       "Index(['골프장명', '골프장지역명', '골프장멤버십값', '골프장유형값', '사용일자', '사용시간값', '사용유형명',\n",
       "       '거주자금액', '비거주자금액', '결제수단명', '총인원수', '거주자인원수', '비거주자인원수', '예약일자', '예약시간',\n",
       "       '취소일자', '취소시간', '판매업체명', '예약자성별코드', '예약자연령대코드', '예약자거주지값', '예약자평균값',\n",
       "       '예약자골프경력값', '예약자평균사용값', '예약자사용성향값'],\n",
       "      dtype='object')"
      ]
     },
     "execution_count": 18,
     "metadata": {},
     "output_type": "execute_result"
    }
   ],
   "source": [
    "df.columns"
   ]
  },
  {
   "cell_type": "code",
   "execution_count": null,
   "id": "6ebf0dd5-67d6-4c27-a1c0-e1eb5e9fb5c4",
   "metadata": {},
   "outputs": [],
   "source": []
  }
 ],
 "metadata": {
  "kernelspec": {
   "display_name": "Python 3 (ipykernel)",
   "language": "python",
   "name": "python3"
  },
  "language_info": {
   "codemirror_mode": {
    "name": "ipython",
    "version": 3
   },
   "file_extension": ".py",
   "mimetype": "text/x-python",
   "name": "python",
   "nbconvert_exporter": "python",
   "pygments_lexer": "ipython3",
   "version": "3.9.7"
  }
 },
 "nbformat": 4,
 "nbformat_minor": 5
}
