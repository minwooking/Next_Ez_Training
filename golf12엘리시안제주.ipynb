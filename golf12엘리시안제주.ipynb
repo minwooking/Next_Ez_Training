{
 "cells": [
  {
   "cell_type": "code",
   "execution_count": 15,
   "metadata": {},
   "outputs": [],
   "source": [
    "import pandas as pd\n",
    "import numpy as np\n",
    "import matplotlib.pyplot as plt\n",
    "import seaborn as sns\n",
    "import matplotlib as mpl\n",
    "import datetime\n",
    "from datetime import timedelta\n",
    "mpl.rcParams['axes.unicode_minus'] = False\n",
    "plt.rcParams['font.family'] = 'Malgun Gothic'\n",
    "import os"
   ]
  },
  {
   "cell_type": "code",
   "execution_count": 3,
   "metadata": {},
   "outputs": [],
   "source": [
    "# os.chdir('/media/minwookim/9C33-6BBD/WorkSpace/Next_Ez_jejudo/data/골프장데이터')리눅스"
   ]
  },
  {
   "cell_type": "code",
   "execution_count": 6,
   "metadata": {},
   "outputs": [
    {
     "data": {
      "text/html": [
       "<div>\n",
       "<style scoped>\n",
       "    .dataframe tbody tr th:only-of-type {\n",
       "        vertical-align: middle;\n",
       "    }\n",
       "\n",
       "    .dataframe tbody tr th {\n",
       "        vertical-align: top;\n",
       "    }\n",
       "\n",
       "    .dataframe thead th {\n",
       "        text-align: right;\n",
       "    }\n",
       "</style>\n",
       "<table border=\"1\" class=\"dataframe\">\n",
       "  <thead>\n",
       "    <tr style=\"text-align: right;\">\n",
       "      <th></th>\n",
       "      <th>골프장명</th>\n",
       "      <th>골프장지역명</th>\n",
       "      <th>골프장멤버십값</th>\n",
       "      <th>골프장유형값</th>\n",
       "      <th>사용일자</th>\n",
       "      <th>사용시간값</th>\n",
       "      <th>사용유형명</th>\n",
       "      <th>거주자금액</th>\n",
       "      <th>비거주자금액</th>\n",
       "      <th>결제수단명</th>\n",
       "      <th>...</th>\n",
       "      <th>예약자골프경력값</th>\n",
       "      <th>예약자평균사용값</th>\n",
       "      <th>예약자사용성향값</th>\n",
       "      <th>요일별</th>\n",
       "      <th>계절</th>\n",
       "      <th>월</th>\n",
       "      <th>시간대</th>\n",
       "      <th>예약시간대</th>\n",
       "      <th>일</th>\n",
       "      <th>해당년도</th>\n",
       "    </tr>\n",
       "  </thead>\n",
       "  <tbody>\n",
       "    <tr>\n",
       "      <th>0</th>\n",
       "      <td>해비치CC</td>\n",
       "      <td>동부권</td>\n",
       "      <td>회원제+대중제</td>\n",
       "      <td>36</td>\n",
       "      <td>20210120</td>\n",
       "      <td>815</td>\n",
       "      <td>SKY</td>\n",
       "      <td>170000</td>\n",
       "      <td>170000</td>\n",
       "      <td>현장결제</td>\n",
       "      <td>...</td>\n",
       "      <td>NaN</td>\n",
       "      <td>NaN</td>\n",
       "      <td>NaN</td>\n",
       "      <td>수요일</td>\n",
       "      <td>겨울</td>\n",
       "      <td>1월</td>\n",
       "      <td>아침</td>\n",
       "      <td>아침</td>\n",
       "      <td>20일</td>\n",
       "      <td>2021년</td>\n",
       "    </tr>\n",
       "    <tr>\n",
       "      <th>1</th>\n",
       "      <td>아덴힐GC</td>\n",
       "      <td>서부권</td>\n",
       "      <td>대중제</td>\n",
       "      <td>18</td>\n",
       "      <td>20210121</td>\n",
       "      <td>809</td>\n",
       "      <td>왕이메</td>\n",
       "      <td>90000</td>\n",
       "      <td>135000</td>\n",
       "      <td>현장결제</td>\n",
       "      <td>...</td>\n",
       "      <td>NaN</td>\n",
       "      <td>NaN</td>\n",
       "      <td>NaN</td>\n",
       "      <td>목요일</td>\n",
       "      <td>겨울</td>\n",
       "      <td>1월</td>\n",
       "      <td>아침</td>\n",
       "      <td>아침</td>\n",
       "      <td>21일</td>\n",
       "      <td>2021년</td>\n",
       "    </tr>\n",
       "    <tr>\n",
       "      <th>2</th>\n",
       "      <td>아덴힐GC</td>\n",
       "      <td>서부권</td>\n",
       "      <td>대중제</td>\n",
       "      <td>18</td>\n",
       "      <td>20210126</td>\n",
       "      <td>823</td>\n",
       "      <td>왕이메</td>\n",
       "      <td>90000</td>\n",
       "      <td>135000</td>\n",
       "      <td>현장결제</td>\n",
       "      <td>...</td>\n",
       "      <td>NaN</td>\n",
       "      <td>NaN</td>\n",
       "      <td>NaN</td>\n",
       "      <td>화요일</td>\n",
       "      <td>겨울</td>\n",
       "      <td>1월</td>\n",
       "      <td>아침</td>\n",
       "      <td>아침</td>\n",
       "      <td>26일</td>\n",
       "      <td>2021년</td>\n",
       "    </tr>\n",
       "  </tbody>\n",
       "</table>\n",
       "<p>3 rows × 30 columns</p>\n",
       "</div>"
      ],
      "text/plain": [
       "    골프장명 골프장지역명  골프장멤버십값  골프장유형값      사용일자  사용시간값 사용유형명   거주자금액  비거주자금액 결제수단명  \\\n",
       "0  해비치CC    동부권  회원제+대중제      36  20210120    815   SKY  170000  170000  현장결제   \n",
       "1  아덴힐GC    서부권      대중제      18  20210121    809   왕이메   90000  135000  현장결제   \n",
       "2  아덴힐GC    서부권      대중제      18  20210126    823   왕이메   90000  135000  현장결제   \n",
       "\n",
       "   ...  예약자골프경력값  예약자평균사용값  예약자사용성향값  요일별  계절   월 시간대 예약시간대    일   해당년도  \n",
       "0  ...       NaN       NaN       NaN  수요일  겨울  1월  아침    아침  20일  2021년  \n",
       "1  ...       NaN       NaN       NaN  목요일  겨울  1월  아침    아침  21일  2021년  \n",
       "2  ...       NaN       NaN       NaN  화요일  겨울  1월  아침    아침  26일  2021년  \n",
       "\n",
       "[3 rows x 30 columns]"
      ]
     },
     "execution_count": 6,
     "metadata": {},
     "output_type": "execute_result"
    }
   ],
   "source": [
    "df = pd.read_csv('골프장예약만데이터ver0303.csv')\n",
    "df.head(3)"
   ]
  },
  {
   "cell_type": "markdown",
   "metadata": {},
   "source": [
    "### 1. 부킹시간대\n",
    "01 ~ 07 = [1,2,3,4,5,6,7]\n",
    "\n",
    "08 ~ 12 = [8,9,10,11,12]\n",
    "\n",
    "13 ~ 18 = [13,14,15,16,17,18]\n",
    "\n",
    "19 ~ 24 = [19,20,21,22,23,24]\n",
    "\n",
    "### 2. 사전예약(취소) 통계\n",
    "당일예약\n",
    "\n",
    "1~2일전\n",
    "\n",
    "3~7일전\n",
    "\n",
    "8~15일\n",
    "\n",
    "16일~\n",
    "\n",
    "\n",
    "### 3.사용일 통계\n",
    "\n",
    "시간대/일자\n",
    "\n",
    "06시~08시\n",
    "\n",
    "09시 ~ 10시\n",
    "\n",
    "11시~12시\n",
    "\n",
    "13시 ~\n",
    "\n",
    "\n",
    "### 4. 가격대 별 예약(취소) 통계\n",
    "- 도민, 비도민 나누기\n",
    "90,000 이하\n",
    "\n",
    "90,000~,110000\n",
    "\n",
    "110,000~120,000\n",
    "\n",
    "120,000~130,000\n",
    "\n",
    "130,000~140,000\n",
    "\n",
    "140,000~160,000\n",
    "\n",
    "160,000 ~ 180,000\n",
    "180,000 ~ 200,000\n",
    "200,000원 이상 \n",
    "\n",
    "\n",
    "### 5. 전화 연결 통계\n",
    "\n",
    "시간대/일자\n",
    "\n",
    "~ 09시 \n",
    "\n",
    "09시 ~ 12시\n",
    "\n",
    "13시 ~ 18시\n",
    "\n",
    "19시 ~ 24시\n"
   ]
  },
  {
   "cell_type": "code",
   "execution_count": 16,
   "metadata": {},
   "outputs": [],
   "source": [
    "df_cancel = pd.read_csv('/media/minwookim/9C33-6BBD/WorkSpace/Next_Ez_jejudo/data/골프장데이터/제주골프장_예약취소_2112-2202.csv',encoding='euc-KR',header=None)"
   ]
  },
  {
   "cell_type": "code",
   "execution_count": 17,
   "metadata": {},
   "outputs": [],
   "source": [
    "col_list = '''골프장명\n",
    "골프장지역명\n",
    "골프장멤버십값\n",
    "골프장유형값\n",
    "사용일자\n",
    "사용시간값\n",
    "사용유형명\n",
    "거주자금액\n",
    "비거주자금액\n",
    "결제수단명\n",
    "총인원수\n",
    "거주자인원수\n",
    "비거주자인원수\n",
    "예약일자\n",
    "예약시간\n",
    "취소일자\n",
    "취소시간\n",
    "판매업체명\n",
    "예약자성별코드\n",
    "예약자연령대코드\n",
    "예약자거주지값\n",
    "예약자평균값\n",
    "예약자골프경력값\n",
    "예약자평균사용값\n",
    "예약자사용성향값'''.split('\\n')"
   ]
  },
  {
   "cell_type": "code",
   "execution_count": 18,
   "metadata": {},
   "outputs": [
    {
     "data": {
      "text/plain": [
       "25"
      ]
     },
     "execution_count": 18,
     "metadata": {},
     "output_type": "execute_result"
    }
   ],
   "source": [
    "len(col_list)"
   ]
  },
  {
   "cell_type": "code",
   "execution_count": 19,
   "metadata": {},
   "outputs": [
    {
     "data": {
      "text/plain": [
       "25"
      ]
     },
     "execution_count": 19,
     "metadata": {},
     "output_type": "execute_result"
    }
   ],
   "source": [
    "len(df_cancel.columns)"
   ]
  },
  {
   "cell_type": "code",
   "execution_count": 21,
   "metadata": {},
   "outputs": [],
   "source": [
    "df_cancel.columns=col_list"
   ]
  },
  {
   "cell_type": "code",
   "execution_count": 22,
   "metadata": {},
   "outputs": [
    {
     "data": {
      "text/plain": [
       "array([4])"
      ]
     },
     "execution_count": 22,
     "metadata": {},
     "output_type": "execute_result"
    }
   ],
   "source": [
    "df_cancel.총인원수.unique()"
   ]
  },
  {
   "cell_type": "code",
   "execution_count": 23,
   "metadata": {},
   "outputs": [
    {
     "data": {
      "text/plain": [
       "Index(['골프장명', '골프장지역명', '골프장멤버십값', '골프장유형값', '사용일자', '사용시간값', '사용유형명',\n",
       "       '거주자금액', '비거주자금액', '결제수단명', '총인원수', '거주자인원수', '비거주자인원수', '예약일자', '예약시간',\n",
       "       '취소일자', '취소시간', '판매업체명', '예약자성별코드', '예약자연령대코드', '예약자거주지값', '예약자평균값',\n",
       "       '예약자골프경력값', '예약자평균사용값', '예약자사용성향값'],\n",
       "      dtype='object')"
      ]
     },
     "execution_count": 23,
     "metadata": {},
     "output_type": "execute_result"
    }
   ],
   "source": [
    "df_cancel.columns"
   ]
  },
  {
   "cell_type": "markdown",
   "metadata": {},
   "source": [
    "## 취소 "
   ]
  },
  {
   "cell_type": "code",
   "execution_count": null,
   "metadata": {},
   "outputs": [],
   "source": [
    "df_cancel.취소일자[0]-df_cancel.예약일자[0]"
   ]
  },
  {
   "cell_type": "code",
   "execution_count": 34,
   "metadata": {},
   "outputs": [
    {
     "data": {
      "text/plain": [
       "20211201"
      ]
     },
     "execution_count": 34,
     "metadata": {},
     "output_type": "execute_result"
    }
   ],
   "source": [
    "df_cancel.취소일자[0]"
   ]
  },
  {
   "cell_type": "code",
   "execution_count": 35,
   "metadata": {},
   "outputs": [
    {
     "data": {
      "text/plain": [
       "20211117"
      ]
     },
     "execution_count": 35,
     "metadata": {},
     "output_type": "execute_result"
    }
   ],
   "source": [
    "df_cancel.예약일자[0]"
   ]
  },
  {
   "cell_type": "markdown",
   "metadata": {},
   "source": [
    "## 당일예약"
   ]
  },
  {
   "cell_type": "markdown",
   "metadata": {},
   "source": [
    "## 참고 "
   ]
  },
  {
   "cell_type": "code",
   "execution_count": null,
   "metadata": {},
   "outputs": [],
   "source": [
    "df['월'] = df['사용일자'].apply(lambda x: str(x)[4:-2].lstrip('0')+'월' if ( int(str(x)[4:-2].lstrip('0')) in [3,4,5]) else \n",
    "                                    str(x)[4:-2].lstrip('0')+'월' if ( int(str(x)[4:-2].lstrip('0')) in [6,7,8]) else \n",
    "                                   str(x)[4:-2].lstrip('0')+'월' if ( int(str(x)[4:-2].lstrip('0')) in [9,10,11]) else \n",
    "                                    str(x)[4:-2].lstrip('0')+'월'  if ( int(str(x)[4:-2].lstrip('0')) in [12,1,2]) else '미분류')"
   ]
  },
  {
   "cell_type": "code",
   "execution_count": 13,
   "metadata": {},
   "outputs": [
    {
     "data": {
      "text/plain": [
       "True"
      ]
     },
     "execution_count": 13,
     "metadata": {},
     "output_type": "execute_result"
    }
   ],
   "source": [
    "days=datetime.date(2021,12,1)-datetime.date(2021,11,17)\n",
    "days.days == 14"
   ]
  },
  {
   "cell_type": "code",
   "execution_count": null,
   "metadata": {},
   "outputs": [],
   "source": []
  }
 ],
 "metadata": {
  "interpreter": {
   "hash": "d2fd8c4474f054a18d8dada1f1309894080d2f5dd228179df2638892ef1ae857"
  },
  "kernelspec": {
   "display_name": "Python 3.9.7 ('base')",
   "language": "python",
   "name": "python3"
  },
  "language_info": {
   "codemirror_mode": {
    "name": "ipython",
    "version": 3
   },
   "file_extension": ".py",
   "mimetype": "text/x-python",
   "name": "python",
   "nbconvert_exporter": "python",
   "pygments_lexer": "ipython3",
   "version": "3.9.7"
  },
  "orig_nbformat": 4
 },
 "nbformat": 4,
 "nbformat_minor": 2
}
