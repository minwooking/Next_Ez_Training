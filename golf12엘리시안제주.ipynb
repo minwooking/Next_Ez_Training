{
 "cells": [
  {
   "cell_type": "code",
   "execution_count": 1,
   "metadata": {},
   "outputs": [],
   "source": [
    "import pandas as pd\n",
    "import numpy as np\n",
    "import matplotlib.pyplot as plt\n",
    "import seaborn as sns\n",
    "import matplotlib as mpl\n",
    "import datetime\n",
    "from datetime import timedelta\n",
    "mpl.rcParams['axes.unicode_minus'] = False\n",
    "plt.rcParams['font.family'] = 'Malgun Gothic'\n",
    "import os"
   ]
  },
  {
   "cell_type": "code",
   "execution_count": 3,
   "metadata": {},
   "outputs": [],
   "source": [
    "# os.chdir('/media/minwookim/9C33-6BBD/WorkSpace/Next_Ez_jejudo/data/골프장데이터')리눅스"
   ]
  },
  {
   "cell_type": "code",
   "execution_count": null,
   "metadata": {},
   "outputs": [],
   "source": [
    "df = pd.read_csv('골프장예약만데이터ver0303.csv')\n",
    "df.head(3)"
   ]
  },
  {
   "cell_type": "markdown",
   "metadata": {},
   "source": [
    "### 1. 부킹시간대\n",
    "01 ~ 07 = [1,2,3,4,5,6,7]\n",
    "\n",
    "08 ~ 12 = [8,9,10,11,12]\n",
    "\n",
    "13 ~ 18 = [13,14,15,16,17,18]\n",
    "\n",
    "19 ~ 24 = [19,20,21,22,23,24]\n",
    "\n",
    "### 2. 사전예약(취소) 통계\n",
    "당일예약\n",
    "\n",
    "1~2일전\n",
    "\n",
    "3~7일전\n",
    "\n",
    "8~15일\n",
    "\n",
    "16일~\n",
    "\n",
    "\n",
    "### 3.사용일 통계\n",
    "\n",
    "시간대/일자\n",
    "\n",
    "06시~08시\n",
    "\n",
    "09시 ~ 10시\n",
    "\n",
    "11시~12시\n",
    "\n",
    "13시 ~\n",
    "\n",
    "\n",
    "### 4. 가격대 별 예약(취소) 통계\n",
    "- 도민, 비도민 나누기\n",
    "90,000 이하\n",
    "\n",
    "90,000~,110000\n",
    "\n",
    "110,000~120,000\n",
    "\n",
    "120,000~130,000\n",
    "\n",
    "130,000~140,000\n",
    "\n",
    "140,000~160,000\n",
    "\n",
    "160,000 ~ 180,000\n",
    "180,000 ~ 200,000\n",
    "200,000원 이상 \n",
    "\n",
    "\n",
    "### 5. 전화 연결 통계\n",
    "\n",
    "시간대/일자\n",
    "\n",
    "~ 09시 \n",
    "\n",
    "09시 ~ 12시\n",
    "\n",
    "13시 ~ 18시\n",
    "\n",
    "19시 ~ 24시\n"
   ]
  },
  {
   "cell_type": "code",
   "execution_count": 97,
   "metadata": {},
   "outputs": [],
   "source": [
    "df_cancel = pd.read_csv('/media/minwookim/9C33-6BBD/WorkSpace/Next_Ez_jejudo/data/골프장데이터/제주골프장_예약취소_2112-2202.csv',encoding='euc-KR',header=None)"
   ]
  },
  {
   "cell_type": "code",
   "execution_count": 98,
   "metadata": {},
   "outputs": [],
   "source": [
    "col_list = '''골프장명\n",
    "골프장지역명\n",
    "골프장멤버십값\n",
    "골프장유형값\n",
    "사용일자\n",
    "사용시간값\n",
    "사용유형명\n",
    "거주자금액\n",
    "비거주자금액\n",
    "결제수단명\n",
    "총인원수\n",
    "거주자인원수\n",
    "비거주자인원수\n",
    "예약일자\n",
    "예약시간\n",
    "취소일자\n",
    "취소시간\n",
    "판매업체명\n",
    "예약자성별코드\n",
    "예약자연령대코드\n",
    "예약자거주지값\n",
    "예약자평균값\n",
    "예약자골프경력값\n",
    "예약자평균사용값\n",
    "예약자사용성향값'''.split('\\n')"
   ]
  },
  {
   "cell_type": "code",
   "execution_count": 18,
   "metadata": {},
   "outputs": [
    {
     "data": {
      "text/plain": [
       "25"
      ]
     },
     "execution_count": 18,
     "metadata": {},
     "output_type": "execute_result"
    }
   ],
   "source": [
    "len(col_list)"
   ]
  },
  {
   "cell_type": "code",
   "execution_count": 19,
   "metadata": {},
   "outputs": [
    {
     "data": {
      "text/plain": [
       "25"
      ]
     },
     "execution_count": 19,
     "metadata": {},
     "output_type": "execute_result"
    }
   ],
   "source": [
    "len(df_cancel.columns)"
   ]
  },
  {
   "cell_type": "code",
   "execution_count": 99,
   "metadata": {},
   "outputs": [],
   "source": [
    "df_cancel.columns=col_list"
   ]
  },
  {
   "cell_type": "code",
   "execution_count": 6,
   "metadata": {},
   "outputs": [
    {
     "data": {
      "text/plain": [
       "array([4])"
      ]
     },
     "execution_count": 6,
     "metadata": {},
     "output_type": "execute_result"
    }
   ],
   "source": [
    "df_cancel.총인원수.unique()"
   ]
  },
  {
   "cell_type": "code",
   "execution_count": 100,
   "metadata": {},
   "outputs": [
    {
     "data": {
      "text/plain": [
       "Index(['골프장명', '골프장지역명', '골프장멤버십값', '골프장유형값', '사용일자', '사용시간값', '사용유형명',\n",
       "       '거주자금액', '비거주자금액', '결제수단명', '총인원수', '거주자인원수', '비거주자인원수', '예약일자', '예약시간',\n",
       "       '취소일자', '취소시간', '판매업체명', '예약자성별코드', '예약자연령대코드', '예약자거주지값', '예약자평균값',\n",
       "       '예약자골프경력값', '예약자평균사용값', '예약자사용성향값'],\n",
       "      dtype='object')"
      ]
     },
     "execution_count": 100,
     "metadata": {},
     "output_type": "execute_result"
    }
   ],
   "source": [
    "df_cancel.columns"
   ]
  },
  {
   "cell_type": "code",
   "execution_count": 19,
   "metadata": {},
   "outputs": [
    {
     "data": {
      "text/plain": [
       "20211201"
      ]
     },
     "execution_count": 19,
     "metadata": {},
     "output_type": "execute_result"
    }
   ],
   "source": [
    "df_cancel.취소일자[0]"
   ]
  },
  {
   "cell_type": "code",
   "execution_count": 25,
   "metadata": {},
   "outputs": [
    {
     "data": {
      "text/plain": [
       "'2021'"
      ]
     },
     "execution_count": 25,
     "metadata": {},
     "output_type": "execute_result"
    }
   ],
   "source": [
    "str(df_cancel.취소일자[0])[:4]"
   ]
  },
  {
   "cell_type": "code",
   "execution_count": 101,
   "metadata": {},
   "outputs": [],
   "source": [
    "def timemiuns(x):\n",
    "    return (datetime.date(int(str(x)[:4]) ,int(str(x)[4:-2].lstrip('0')) ,int(str(x)[-2:].lstrip('0'))))\n"
   ]
  },
  {
   "cell_type": "code",
   "execution_count": 44,
   "metadata": {},
   "outputs": [
    {
     "data": {
      "text/plain": [
       "14"
      ]
     },
     "execution_count": 44,
     "metadata": {},
     "output_type": "execute_result"
    }
   ],
   "source": [
    "(datetime.date(int(str(df_cancel.취소일자[0])[:4]) ,int(str(df_cancel.취소일자[0])[4:-2].lstrip('0')) ,int(str(df_cancel.취소일자[0])[-2:].lstrip('0')))\n",
    " -\n",
    " datetime.date(int(str(df_cancel.예약일자[0])[:4]) ,int(str(df_cancel.예약일자[0])[4:-2].lstrip('0')) ,int(str(df_cancel.예약일자[0])[-2:].lstrip('0')))\n",
    " ).days"
   ]
  },
  {
   "cell_type": "code",
   "execution_count": 102,
   "metadata": {},
   "outputs": [
    {
     "name": "stderr",
     "output_type": "stream",
     "text": [
      "/tmp/ipykernel_12639/4028847853.py:1: UserWarning: Pandas doesn't allow columns to be created via a new attribute name - see https://pandas.pydata.org/pandas-docs/stable/indexing.html#attribute-access\n",
      "  df_cancel.사전예약취소=(df_cancel.취소일자.apply(lambda x : timemiuns(x)) - df_cancel.예약일자.apply(lambda x: timemiuns(x)))\n"
     ]
    }
   ],
   "source": [
    "df_cancel.사전예약취소=(df_cancel.취소일자.apply(lambda x : timemiuns(x)) - df_cancel.예약일자.apply(lambda x: timemiuns(x)))\n",
    "df_cancel.사전예약취소 = df_cancel.사전예약취소.apply(lambda x : x.days)"
   ]
  },
  {
   "cell_type": "code",
   "execution_count": 103,
   "metadata": {},
   "outputs": [
    {
     "data": {
      "text/plain": [
       "0     578\n",
       "1     326\n",
       "2     167\n",
       "3     142\n",
       "4     123\n",
       "5      74\n",
       "6      69\n",
       "7      50\n",
       "8      41\n",
       "9      21\n",
       "12     18\n",
       "11     17\n",
       "10     16\n",
       "13     14\n",
       "14     11\n",
       "15      9\n",
       "20      8\n",
       "17      8\n",
       "16      7\n",
       "19      7\n",
       "18      6\n",
       "22      3\n",
       "21      1\n",
       "23      1\n",
       "dtype: int64"
      ]
     },
     "execution_count": 103,
     "metadata": {},
     "output_type": "execute_result"
    }
   ],
   "source": [
    "df_cancel.사전예약취소.value_counts()"
   ]
  },
  {
   "cell_type": "code",
   "execution_count": 68,
   "metadata": {},
   "outputs": [
    {
     "data": {
      "text/plain": [
       "<function __main__.<lambda>(x)>"
      ]
     },
     "execution_count": 68,
     "metadata": {},
     "output_type": "execute_result"
    }
   ],
   "source": []
  },
  {
   "cell_type": "code",
   "execution_count": 33,
   "metadata": {},
   "outputs": [
    {
     "data": {
      "text/plain": [
       "datetime.date(2021, 11, 17)"
      ]
     },
     "execution_count": 33,
     "metadata": {},
     "output_type": "execute_result"
    }
   ],
   "source": [
    "datetime.date(int(str(df_cancel.예약일자[0])[:4]) ,int(str(df_cancel.예약일자[0])[4:-2].lstrip('0')) ,int(str(df_cancel.예약일자[0])[-2:].lstrip('0')))"
   ]
  },
  {
   "cell_type": "markdown",
   "metadata": {},
   "source": [
    "## 취소 "
   ]
  },
  {
   "cell_type": "code",
   "execution_count": 8,
   "metadata": {},
   "outputs": [
    {
     "data": {
      "text/plain": [
       "84"
      ]
     },
     "execution_count": 8,
     "metadata": {},
     "output_type": "execute_result"
    }
   ],
   "source": [
    "df_cancel.취소일자[0]-df_cancel.예약일자[0]"
   ]
  },
  {
   "cell_type": "code",
   "execution_count": 34,
   "metadata": {},
   "outputs": [
    {
     "data": {
      "text/plain": [
       "20211201"
      ]
     },
     "execution_count": 34,
     "metadata": {},
     "output_type": "execute_result"
    }
   ],
   "source": [
    "df_cancel.취소일자[0]"
   ]
  },
  {
   "cell_type": "code",
   "execution_count": 35,
   "metadata": {},
   "outputs": [
    {
     "data": {
      "text/plain": [
       "20211117"
      ]
     },
     "execution_count": 35,
     "metadata": {},
     "output_type": "execute_result"
    }
   ],
   "source": [
    "df_cancel.예약일자[0]"
   ]
  },
  {
   "cell_type": "code",
   "execution_count": 79,
   "metadata": {},
   "outputs": [
    {
     "data": {
      "text/plain": [
       "0       14\n",
       "1        6\n",
       "2        0\n",
       "3        1\n",
       "4        2\n",
       "        ..\n",
       "1712     8\n",
       "1713     2\n",
       "1714     2\n",
       "1715     2\n",
       "1716     8\n",
       "Length: 1717, dtype: int64"
      ]
     },
     "execution_count": 79,
     "metadata": {},
     "output_type": "execute_result"
    }
   ],
   "source": [
    "df_cancel.사전예약취소"
   ]
  },
  {
   "cell_type": "markdown",
   "metadata": {},
   "source": [
    "##\n",
    "당일예약\n",
    "\n",
    "1~2일전\n",
    "\n",
    "3~7일전\n",
    "\n",
    "8~15일\n",
    "\n",
    "16일~"
   ]
  },
  {
   "cell_type": "code",
   "execution_count": 104,
   "metadata": {},
   "outputs": [],
   "source": [
    "df_cancel.사전예약취소 = df_cancel.사전예약취소.apply(lambda x : '당일예약' if (x in [0]) else\n",
    "                                          '1~2일전' if (x in [1,2]) else\n",
    "                                          '3~7일전' if (x in [3,4,5,6,7]) else\n",
    "                                          '8~15일전' if (x in [8,9,10,11,12,13,14,15]) else '16일~' )"
   ]
  },
  {
   "cell_type": "code",
   "execution_count": 106,
   "metadata": {},
   "outputs": [
    {
     "data": {
      "text/plain": [
       "당일예약      578\n",
       "1~2일전     493\n",
       "3~7일전     458\n",
       "8~15일전    147\n",
       "16일~       41\n",
       "dtype: int64"
      ]
     },
     "execution_count": 106,
     "metadata": {},
     "output_type": "execute_result"
    }
   ],
   "source": [
    "df_cancel.사전예약취소.value_counts()"
   ]
  },
  {
   "cell_type": "code",
   "execution_count": 82,
   "metadata": {},
   "outputs": [
    {
     "data": {
      "text/plain": [
       "1~2일전    1139\n",
       "당일예약      578\n",
       "dtype: int64"
      ]
     },
     "execution_count": 82,
     "metadata": {},
     "output_type": "execute_result"
    }
   ],
   "source": [
    "df_cancel.사전예약취소.value_counts()"
   ]
  },
  {
   "cell_type": "code",
   "execution_count": null,
   "metadata": {},
   "outputs": [],
   "source": [
    "df_cancel['월'] = df_cancel['사용일자'].apply(lambda x: str(x)[4:-2].lstrip('0')+'월' if ( int(str(x)[4:-2].lstrip('0')) in [3,4,5]) else \n",
    "                                    str(x)[4:-2].lstrip('0')+'월' if ( int(str(x)[4:-2].lstrip('0')) in [6,7,8]) else \n",
    "                                   str(x)[4:-2].lstrip('0')+'월' if ( int(str(x)[4:-2].lstrip('0')) in [9,10,11]) else \n",
    "                                    str(x)[4:-2].lstrip('0')+'월'  if ( int(str(x)[4:-2].lstrip('0')) in [12,1,2]) else '미분류')"
   ]
  },
  {
   "cell_type": "markdown",
   "metadata": {},
   "source": [
    "## 당일예약"
   ]
  },
  {
   "cell_type": "markdown",
   "metadata": {},
   "source": [
    "## 참고 "
   ]
  },
  {
   "cell_type": "code",
   "execution_count": null,
   "metadata": {},
   "outputs": [],
   "source": [
    "df['월'] = df['사용일자'].apply(lambda x: str(x)[4:-2].lstrip('0')+'월' if ( int(str(x)[4:-2].lstrip('0')) in [3,4,5]) else \n",
    "                                    str(x)[4:-2].lstrip('0')+'월' if ( int(str(x)[4:-2].lstrip('0')) in [6,7,8]) else \n",
    "                                   str(x)[4:-2].lstrip('0')+'월' if ( int(str(x)[4:-2].lstrip('0')) in [9,10,11]) else \n",
    "                                    str(x)[4:-2].lstrip('0')+'월'  if ( int(str(x)[4:-2].lstrip('0')) in [12,1,2]) else '미분류')"
   ]
  },
  {
   "cell_type": "code",
   "execution_count": 26,
   "metadata": {},
   "outputs": [],
   "source": [
    "days=datetime.date(2021,12,1)-datetime.date(2021,10,1)"
   ]
  },
  {
   "cell_type": "markdown",
   "metadata": {},
   "source": [
    "년 int(str(x)[:4]) \n",
    "\n",
    "월 int(str(x)[4:-2].lstrip('0')) \n",
    "\n",
    "일 int(str(x)[-2:].lstrip('0')) "
   ]
  },
  {
   "cell_type": "code",
   "execution_count": null,
   "metadata": {},
   "outputs": [],
   "source": []
  }
 ],
 "metadata": {
  "interpreter": {
   "hash": "d2fd8c4474f054a18d8dada1f1309894080d2f5dd228179df2638892ef1ae857"
  },
  "kernelspec": {
   "display_name": "Python 3.9.7 ('base')",
   "language": "python",
   "name": "python3"
  },
  "language_info": {
   "codemirror_mode": {
    "name": "ipython",
    "version": 3
   },
   "file_extension": ".py",
   "mimetype": "text/x-python",
   "name": "python",
   "nbconvert_exporter": "python",
   "pygments_lexer": "ipython3",
   "version": "3.9.7"
  },
  "orig_nbformat": 4
 },
 "nbformat": 4,
 "nbformat_minor": 2
}
