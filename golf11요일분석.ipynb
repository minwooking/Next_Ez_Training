{
 "cells": [
  {
   "cell_type": "code",
   "execution_count": 2,
   "metadata": {},
   "outputs": [],
   "source": [
    "import pandas as pd\n",
    "import numpy as np\n",
    "import matplotlib.pyplot as plt\n",
    "import seaborn as sns\n",
    "import matplotlib as mpl\n",
    "import datetime\n",
    "mpl.rcParams['axes.unicode_minus'] = False\n",
    "plt.rcParams['font.family'] = 'Malgun Gothic'\n",
    "import os"
   ]
  },
  {
   "cell_type": "code",
   "execution_count": 6,
   "metadata": {},
   "outputs": [
    {
     "name": "stderr",
     "output_type": "stream",
     "text": [
      "/home/minwookim/anaconda3/lib/python3.9/site-packages/IPython/core/interactiveshell.py:3444: DtypeWarning: Columns (6,9,32) have mixed types.Specify dtype option on import or set low_memory=False.\n",
      "  exec(code_obj, self.user_global_ns, self.user_ns)\n"
     ]
    }
   ],
   "source": [
    "df_m = pd.read_csv('/media/minwookim/9C33-6BBD/WorkSpace/Next_Ez_jejudo/data/골프장데이터/골프장데이터ver_date_0302.csv')"
   ]
  },
  {
   "cell_type": "code",
   "execution_count": 3,
   "metadata": {},
   "outputs": [],
   "source": [
    "df = pd.read_csv('/media/minwookim/9C33-6BBD/WorkSpace/Next_Ez_jejudo/data/골프장데이터/골프장예약만데이터ver0302.csv')"
   ]
  },
  {
   "cell_type": "code",
   "execution_count": 4,
   "metadata": {},
   "outputs": [
    {
     "data": {
      "text/plain": [
       "array(['해비치CC', '아덴힐GC', '더클래식CC', '롯데스카이힐제주CC', '오라CC ',\n",
       "       '그린필드CC(구 제피로스)', '우리들CC', '라온GC', '에코랜드GC', '크라운CC', '타미우스CC',\n",
       "       '세인트포CC', '제주CC', '스프링데일CC', '한라산CC', '샤인빌CC', '엘리시안CC', '사이프러스CC',\n",
       "       '그린필드CC'], dtype=object)"
      ]
     },
     "execution_count": 4,
     "metadata": {},
     "output_type": "execute_result"
    }
   ],
   "source": [
    "df.골프장명.unique()"
   ]
  },
  {
   "cell_type": "code",
   "execution_count": 5,
   "metadata": {},
   "outputs": [
    {
     "data": {
      "text/html": [
       "<div>\n",
       "<style scoped>\n",
       "    .dataframe tbody tr th:only-of-type {\n",
       "        vertical-align: middle;\n",
       "    }\n",
       "\n",
       "    .dataframe tbody tr th {\n",
       "        vertical-align: top;\n",
       "    }\n",
       "\n",
       "    .dataframe thead th {\n",
       "        text-align: right;\n",
       "    }\n",
       "</style>\n",
       "<table border=\"1\" class=\"dataframe\">\n",
       "  <thead>\n",
       "    <tr style=\"text-align: right;\">\n",
       "      <th></th>\n",
       "      <th>골프장명</th>\n",
       "      <th>골프장지역명</th>\n",
       "      <th>골프장멤버십값</th>\n",
       "      <th>골프장유형값</th>\n",
       "      <th>사용일자</th>\n",
       "      <th>사용시간값</th>\n",
       "      <th>사용유형명</th>\n",
       "      <th>거주자금액</th>\n",
       "      <th>비거주자금액</th>\n",
       "      <th>결제수단명</th>\n",
       "      <th>...</th>\n",
       "      <th>예약시간</th>\n",
       "      <th>판매업체명</th>\n",
       "      <th>예약자성별코드</th>\n",
       "      <th>예약자연령대코드</th>\n",
       "      <th>예약자거주지값</th>\n",
       "      <th>예약자평균값</th>\n",
       "      <th>예약자골프경력값</th>\n",
       "      <th>예약자평균사용값</th>\n",
       "      <th>예약자사용성향값</th>\n",
       "      <th>요일별</th>\n",
       "    </tr>\n",
       "  </thead>\n",
       "  <tbody>\n",
       "    <tr>\n",
       "      <th>15015</th>\n",
       "      <td>엘리시안CC</td>\n",
       "      <td>서부권</td>\n",
       "      <td>회원제+대중제</td>\n",
       "      <td>36</td>\n",
       "      <td>20200416</td>\n",
       "      <td>1333</td>\n",
       "      <td>대중제</td>\n",
       "      <td>80000</td>\n",
       "      <td>0</td>\n",
       "      <td>현장결제</td>\n",
       "      <td>...</td>\n",
       "      <td>102231</td>\n",
       "      <td>엘리시안C.C</td>\n",
       "      <td>2</td>\n",
       "      <td>50.0</td>\n",
       "      <td>도민</td>\n",
       "      <td>90</td>\n",
       "      <td>10년이상</td>\n",
       "      <td>5회이상</td>\n",
       "      <td>번개골프</td>\n",
       "      <td>목요일</td>\n",
       "    </tr>\n",
       "    <tr>\n",
       "      <th>15016</th>\n",
       "      <td>엘리시안CC</td>\n",
       "      <td>서부권</td>\n",
       "      <td>회원제+대중제</td>\n",
       "      <td>36</td>\n",
       "      <td>20200420</td>\n",
       "      <td>1216</td>\n",
       "      <td>대중제</td>\n",
       "      <td>80000</td>\n",
       "      <td>0</td>\n",
       "      <td>현장결제</td>\n",
       "      <td>...</td>\n",
       "      <td>91935</td>\n",
       "      <td>엘리시안C.C</td>\n",
       "      <td>0</td>\n",
       "      <td>NaN</td>\n",
       "      <td>도민</td>\n",
       "      <td>NaN</td>\n",
       "      <td>NaN</td>\n",
       "      <td>NaN</td>\n",
       "      <td>NaN</td>\n",
       "      <td>월요일</td>\n",
       "    </tr>\n",
       "    <tr>\n",
       "      <th>15022</th>\n",
       "      <td>엘리시안CC</td>\n",
       "      <td>서부권</td>\n",
       "      <td>회원제+대중제</td>\n",
       "      <td>36</td>\n",
       "      <td>20200322</td>\n",
       "      <td>1319</td>\n",
       "      <td>대중제</td>\n",
       "      <td>105000</td>\n",
       "      <td>0</td>\n",
       "      <td>현장결제</td>\n",
       "      <td>...</td>\n",
       "      <td>101705</td>\n",
       "      <td>엘리시안C.C</td>\n",
       "      <td>0</td>\n",
       "      <td>NaN</td>\n",
       "      <td>도민</td>\n",
       "      <td>NaN</td>\n",
       "      <td>NaN</td>\n",
       "      <td>NaN</td>\n",
       "      <td>NaN</td>\n",
       "      <td>일요일</td>\n",
       "    </tr>\n",
       "  </tbody>\n",
       "</table>\n",
       "<p>3 rows × 24 columns</p>\n",
       "</div>"
      ],
      "text/plain": [
       "         골프장명 골프장지역명  골프장멤버십값  골프장유형값      사용일자  사용시간값 사용유형명   거주자금액  비거주자금액  \\\n",
       "15015  엘리시안CC    서부권  회원제+대중제      36  20200416   1333   대중제   80000       0   \n",
       "15016  엘리시안CC    서부권  회원제+대중제      36  20200420   1216   대중제   80000       0   \n",
       "15022  엘리시안CC    서부권  회원제+대중제      36  20200322   1319   대중제  105000       0   \n",
       "\n",
       "      결제수단명  ...    예약시간    판매업체명  예약자성별코드  예약자연령대코드  예약자거주지값 예약자평균값 예약자골프경력값  \\\n",
       "15015  현장결제  ...  102231  엘리시안C.C        2      50.0       도민     90    10년이상   \n",
       "15016  현장결제  ...   91935  엘리시안C.C        0       NaN       도민    NaN      NaN   \n",
       "15022  현장결제  ...  101705  엘리시안C.C        0       NaN       도민    NaN      NaN   \n",
       "\n",
       "      예약자평균사용값 예약자사용성향값  요일별  \n",
       "15015     5회이상     번개골프  목요일  \n",
       "15016      NaN      NaN  월요일  \n",
       "15022      NaN      NaN  일요일  \n",
       "\n",
       "[3 rows x 24 columns]"
      ]
     },
     "execution_count": 5,
     "metadata": {},
     "output_type": "execute_result"
    }
   ],
   "source": [
    "df[df.골프장명=='엘리시안CC'].head(3)"
   ]
  },
  {
   "cell_type": "markdown",
   "metadata": {},
   "source": [
    "## 계절 추가"
   ]
  },
  {
   "cell_type": "code",
   "execution_count": 6,
   "metadata": {},
   "outputs": [],
   "source": [
    "df['계절'] = df['사용일자'].apply(lambda x: '봄' if ( int(str(x)[4:-2].lstrip('0')) in [3,4,5]) else \n",
    "                                    '여름' if ( int(str(x)[4:-2].lstrip('0')) in [6,7,8]) else \n",
    "                                    '가을' if ( int(str(x)[4:-2].lstrip('0')) in [9,10,11]) else \n",
    "                                    '겨울'  if ( int(str(x)[4:-2].lstrip('0')) in [12,1,2]) else '미분류')"
   ]
  },
  {
   "cell_type": "code",
   "execution_count": 7,
   "metadata": {},
   "outputs": [
    {
     "data": {
      "text/plain": [
       "여름    10094\n",
       "가을     9382\n",
       "겨울     7008\n",
       "봄      4434\n",
       "Name: 계절, dtype: int64"
      ]
     },
     "execution_count": 7,
     "metadata": {},
     "output_type": "execute_result"
    }
   ],
   "source": [
    "df.계절.value_counts()"
   ]
  },
  {
   "cell_type": "markdown",
   "metadata": {},
   "source": [
    "## 월추가"
   ]
  },
  {
   "cell_type": "code",
   "execution_count": 8,
   "metadata": {},
   "outputs": [],
   "source": [
    "df['월'] = df['사용일자'].apply(lambda x: str(x)[4:-2].lstrip('0')+'월' if ( int(str(x)[4:-2].lstrip('0')) in [3,4,5]) else \n",
    "                                    str(x)[4:-2].lstrip('0')+'월' if ( int(str(x)[4:-2].lstrip('0')) in [6,7,8]) else \n",
    "                                   str(x)[4:-2].lstrip('0')+'월' if ( int(str(x)[4:-2].lstrip('0')) in [9,10,11]) else \n",
    "                                    str(x)[4:-2].lstrip('0')+'월'  if ( int(str(x)[4:-2].lstrip('0')) in [12,1,2]) else '미분류')"
   ]
  },
  {
   "cell_type": "markdown",
   "metadata": {},
   "source": [
    "## 요일 추가"
   ]
  },
  {
   "cell_type": "code",
   "execution_count": null,
   "metadata": {},
   "outputs": [],
   "source": [
    "# days = '월요일 화요일 수요일 목요일 금요일 토요일 일요일'.split(' ')\n",
    "# df.요일별=df.요일별.apply(lambda x: days[datetime.date(int(str(x)[:4]),int(str(x)[4:-2].lstrip('0')),int(str(x)[-2:].lstrip('0'))).weekday()])"
   ]
  },
  {
   "cell_type": "markdown",
   "metadata": {},
   "source": [
    "## 일"
   ]
  },
  {
   "cell_type": "code",
   "execution_count": 22,
   "metadata": {},
   "outputs": [],
   "source": [
    "df['일'] = df['사용일자'].apply(lambda x: str(x)[-2:].lstrip('0')+'일')"
   ]
  },
  {
   "cell_type": "code",
   "execution_count": 23,
   "metadata": {},
   "outputs": [
    {
     "data": {
      "text/plain": [
       "30일    1325\n",
       "29일    1108\n",
       "16일    1091\n",
       "28일    1074\n",
       "1일     1070\n",
       "23일    1054\n",
       "26일    1048\n",
       "25일    1046\n",
       "7일     1044\n",
       "11일    1042\n",
       "2일     1040\n",
       "4일     1016\n",
       "17일    1012\n",
       "5일     1009\n",
       "15일    1004\n",
       "13일     998\n",
       "22일     994\n",
       "27일     988\n",
       "20일     983\n",
       "3일      974\n",
       "24일     972\n",
       "9일      963\n",
       "19일     955\n",
       "8일      947\n",
       "12일     929\n",
       "14일     905\n",
       "6일      905\n",
       "10일     899\n",
       "18일     893\n",
       "21일     886\n",
       "31일     744\n",
       "Name: 일, dtype: int64"
      ]
     },
     "execution_count": 23,
     "metadata": {},
     "output_type": "execute_result"
    }
   ],
   "source": [
    "df['일'].value_counts()"
   ]
  },
  {
   "cell_type": "markdown",
   "metadata": {},
   "source": [
    "## 년도별추가"
   ]
  },
  {
   "cell_type": "code",
   "execution_count": 24,
   "metadata": {},
   "outputs": [],
   "source": [
    "df['해당년도']=df['사용일자'].apply(lambda x:str(x)[:4]+'년')"
   ]
  },
  {
   "cell_type": "code",
   "execution_count": 25,
   "metadata": {},
   "outputs": [
    {
     "data": {
      "text/html": [
       "<div>\n",
       "<style scoped>\n",
       "    .dataframe tbody tr th:only-of-type {\n",
       "        vertical-align: middle;\n",
       "    }\n",
       "\n",
       "    .dataframe tbody tr th {\n",
       "        vertical-align: top;\n",
       "    }\n",
       "\n",
       "    .dataframe thead th {\n",
       "        text-align: right;\n",
       "    }\n",
       "</style>\n",
       "<table border=\"1\" class=\"dataframe\">\n",
       "  <thead>\n",
       "    <tr style=\"text-align: right;\">\n",
       "      <th></th>\n",
       "      <th>골프장명</th>\n",
       "      <th>골프장지역명</th>\n",
       "      <th>골프장멤버십값</th>\n",
       "      <th>골프장유형값</th>\n",
       "      <th>사용일자</th>\n",
       "      <th>사용시간값</th>\n",
       "      <th>사용유형명</th>\n",
       "      <th>거주자금액</th>\n",
       "      <th>비거주자금액</th>\n",
       "      <th>결제수단명</th>\n",
       "      <th>...</th>\n",
       "      <th>예약자골프경력값</th>\n",
       "      <th>예약자평균사용값</th>\n",
       "      <th>예약자사용성향값</th>\n",
       "      <th>요일별</th>\n",
       "      <th>계절</th>\n",
       "      <th>월</th>\n",
       "      <th>시간대</th>\n",
       "      <th>예약시간대</th>\n",
       "      <th>일</th>\n",
       "      <th>해당년도</th>\n",
       "    </tr>\n",
       "  </thead>\n",
       "  <tbody>\n",
       "    <tr>\n",
       "      <th>0</th>\n",
       "      <td>해비치CC</td>\n",
       "      <td>동부권</td>\n",
       "      <td>회원제+대중제</td>\n",
       "      <td>36</td>\n",
       "      <td>20210120</td>\n",
       "      <td>815</td>\n",
       "      <td>SKY</td>\n",
       "      <td>170000</td>\n",
       "      <td>170000</td>\n",
       "      <td>현장결제</td>\n",
       "      <td>...</td>\n",
       "      <td>NaN</td>\n",
       "      <td>NaN</td>\n",
       "      <td>NaN</td>\n",
       "      <td>수요일</td>\n",
       "      <td>겨울</td>\n",
       "      <td>1월</td>\n",
       "      <td>아침</td>\n",
       "      <td>아침</td>\n",
       "      <td>20일</td>\n",
       "      <td>2021년</td>\n",
       "    </tr>\n",
       "    <tr>\n",
       "      <th>1</th>\n",
       "      <td>아덴힐GC</td>\n",
       "      <td>서부권</td>\n",
       "      <td>대중제</td>\n",
       "      <td>18</td>\n",
       "      <td>20210121</td>\n",
       "      <td>809</td>\n",
       "      <td>왕이메</td>\n",
       "      <td>90000</td>\n",
       "      <td>135000</td>\n",
       "      <td>현장결제</td>\n",
       "      <td>...</td>\n",
       "      <td>NaN</td>\n",
       "      <td>NaN</td>\n",
       "      <td>NaN</td>\n",
       "      <td>목요일</td>\n",
       "      <td>겨울</td>\n",
       "      <td>1월</td>\n",
       "      <td>아침</td>\n",
       "      <td>아침</td>\n",
       "      <td>21일</td>\n",
       "      <td>2021년</td>\n",
       "    </tr>\n",
       "    <tr>\n",
       "      <th>2</th>\n",
       "      <td>아덴힐GC</td>\n",
       "      <td>서부권</td>\n",
       "      <td>대중제</td>\n",
       "      <td>18</td>\n",
       "      <td>20210126</td>\n",
       "      <td>823</td>\n",
       "      <td>왕이메</td>\n",
       "      <td>90000</td>\n",
       "      <td>135000</td>\n",
       "      <td>현장결제</td>\n",
       "      <td>...</td>\n",
       "      <td>NaN</td>\n",
       "      <td>NaN</td>\n",
       "      <td>NaN</td>\n",
       "      <td>화요일</td>\n",
       "      <td>겨울</td>\n",
       "      <td>1월</td>\n",
       "      <td>아침</td>\n",
       "      <td>아침</td>\n",
       "      <td>26일</td>\n",
       "      <td>2021년</td>\n",
       "    </tr>\n",
       "  </tbody>\n",
       "</table>\n",
       "<p>3 rows × 30 columns</p>\n",
       "</div>"
      ],
      "text/plain": [
       "    골프장명 골프장지역명  골프장멤버십값  골프장유형값      사용일자  사용시간값 사용유형명   거주자금액  비거주자금액 결제수단명  \\\n",
       "0  해비치CC    동부권  회원제+대중제      36  20210120    815   SKY  170000  170000  현장결제   \n",
       "1  아덴힐GC    서부권      대중제      18  20210121    809   왕이메   90000  135000  현장결제   \n",
       "2  아덴힐GC    서부권      대중제      18  20210126    823   왕이메   90000  135000  현장결제   \n",
       "\n",
       "   ...  예약자골프경력값  예약자평균사용값  예약자사용성향값  요일별  계절   월 시간대 예약시간대    일   해당년도  \n",
       "0  ...       NaN       NaN       NaN  수요일  겨울  1월  아침    아침  20일  2021년  \n",
       "1  ...       NaN       NaN       NaN  목요일  겨울  1월  아침    아침  21일  2021년  \n",
       "2  ...       NaN       NaN       NaN  화요일  겨울  1월  아침    아침  26일  2021년  \n",
       "\n",
       "[3 rows x 30 columns]"
      ]
     },
     "execution_count": 25,
     "metadata": {},
     "output_type": "execute_result"
    }
   ],
   "source": [
    "df.head(3)"
   ]
  },
  {
   "cell_type": "markdown",
   "metadata": {},
   "source": [
    "## 사용시간대 추가"
   ]
  },
  {
   "cell_type": "code",
   "execution_count": 10,
   "metadata": {},
   "outputs": [],
   "source": [
    "df['시간대'] = df['사용시간값'].apply(lambda x: '새벽' if ( round(x/100) in [1,2,3,4,5,6,7]) else \n",
    "                                    '아침' if ( round(x/100) in [8,9,10,11,12]) else \n",
    "                                   '오후' if ( round(x/100) in [13,14,15,16,17]) else \n",
    "                                    '야간'  if ( round(x/100) in [18,19,20,21,22,23,24]) else '미분류')"
   ]
  },
  {
   "cell_type": "code",
   "execution_count": 11,
   "metadata": {},
   "outputs": [
    {
     "data": {
      "text/html": [
       "<div>\n",
       "<style scoped>\n",
       "    .dataframe tbody tr th:only-of-type {\n",
       "        vertical-align: middle;\n",
       "    }\n",
       "\n",
       "    .dataframe tbody tr th {\n",
       "        vertical-align: top;\n",
       "    }\n",
       "\n",
       "    .dataframe thead th {\n",
       "        text-align: right;\n",
       "    }\n",
       "</style>\n",
       "<table border=\"1\" class=\"dataframe\">\n",
       "  <thead>\n",
       "    <tr style=\"text-align: right;\">\n",
       "      <th></th>\n",
       "      <th>골프장명</th>\n",
       "      <th>골프장지역명</th>\n",
       "      <th>골프장멤버십값</th>\n",
       "      <th>골프장유형값</th>\n",
       "      <th>사용일자</th>\n",
       "      <th>사용시간값</th>\n",
       "      <th>사용유형명</th>\n",
       "      <th>거주자금액</th>\n",
       "      <th>비거주자금액</th>\n",
       "      <th>결제수단명</th>\n",
       "      <th>...</th>\n",
       "      <th>예약자연령대코드</th>\n",
       "      <th>예약자거주지값</th>\n",
       "      <th>예약자평균값</th>\n",
       "      <th>예약자골프경력값</th>\n",
       "      <th>예약자평균사용값</th>\n",
       "      <th>예약자사용성향값</th>\n",
       "      <th>요일별</th>\n",
       "      <th>계절</th>\n",
       "      <th>월</th>\n",
       "      <th>시간대</th>\n",
       "    </tr>\n",
       "  </thead>\n",
       "  <tbody>\n",
       "    <tr>\n",
       "      <th>0</th>\n",
       "      <td>해비치CC</td>\n",
       "      <td>동부권</td>\n",
       "      <td>회원제+대중제</td>\n",
       "      <td>36</td>\n",
       "      <td>20210120</td>\n",
       "      <td>815</td>\n",
       "      <td>SKY</td>\n",
       "      <td>170000</td>\n",
       "      <td>170000</td>\n",
       "      <td>현장결제</td>\n",
       "      <td>...</td>\n",
       "      <td>50.0</td>\n",
       "      <td>비도민</td>\n",
       "      <td>8</td>\n",
       "      <td>NaN</td>\n",
       "      <td>NaN</td>\n",
       "      <td>NaN</td>\n",
       "      <td>수요일</td>\n",
       "      <td>겨울</td>\n",
       "      <td>1월</td>\n",
       "      <td>아침</td>\n",
       "    </tr>\n",
       "    <tr>\n",
       "      <th>1</th>\n",
       "      <td>아덴힐GC</td>\n",
       "      <td>서부권</td>\n",
       "      <td>대중제</td>\n",
       "      <td>18</td>\n",
       "      <td>20210121</td>\n",
       "      <td>809</td>\n",
       "      <td>왕이메</td>\n",
       "      <td>90000</td>\n",
       "      <td>135000</td>\n",
       "      <td>현장결제</td>\n",
       "      <td>...</td>\n",
       "      <td>50.0</td>\n",
       "      <td>비도민</td>\n",
       "      <td>8</td>\n",
       "      <td>NaN</td>\n",
       "      <td>NaN</td>\n",
       "      <td>NaN</td>\n",
       "      <td>목요일</td>\n",
       "      <td>겨울</td>\n",
       "      <td>1월</td>\n",
       "      <td>아침</td>\n",
       "    </tr>\n",
       "    <tr>\n",
       "      <th>2</th>\n",
       "      <td>아덴힐GC</td>\n",
       "      <td>서부권</td>\n",
       "      <td>대중제</td>\n",
       "      <td>18</td>\n",
       "      <td>20210126</td>\n",
       "      <td>823</td>\n",
       "      <td>왕이메</td>\n",
       "      <td>90000</td>\n",
       "      <td>135000</td>\n",
       "      <td>현장결제</td>\n",
       "      <td>...</td>\n",
       "      <td>50.0</td>\n",
       "      <td>도민</td>\n",
       "      <td>14</td>\n",
       "      <td>NaN</td>\n",
       "      <td>NaN</td>\n",
       "      <td>NaN</td>\n",
       "      <td>화요일</td>\n",
       "      <td>겨울</td>\n",
       "      <td>1월</td>\n",
       "      <td>아침</td>\n",
       "    </tr>\n",
       "  </tbody>\n",
       "</table>\n",
       "<p>3 rows × 27 columns</p>\n",
       "</div>"
      ],
      "text/plain": [
       "    골프장명 골프장지역명  골프장멤버십값  골프장유형값      사용일자  사용시간값 사용유형명   거주자금액  비거주자금액 결제수단명  \\\n",
       "0  해비치CC    동부권  회원제+대중제      36  20210120    815   SKY  170000  170000  현장결제   \n",
       "1  아덴힐GC    서부권      대중제      18  20210121    809   왕이메   90000  135000  현장결제   \n",
       "2  아덴힐GC    서부권      대중제      18  20210126    823   왕이메   90000  135000  현장결제   \n",
       "\n",
       "   ...  예약자연령대코드  예약자거주지값  예약자평균값  예약자골프경력값  예약자평균사용값 예약자사용성향값  요일별  계절   월  \\\n",
       "0  ...      50.0      비도민       8       NaN       NaN      NaN  수요일  겨울  1월   \n",
       "1  ...      50.0      비도민       8       NaN       NaN      NaN  목요일  겨울  1월   \n",
       "2  ...      50.0       도민      14       NaN       NaN      NaN  화요일  겨울  1월   \n",
       "\n",
       "  시간대  \n",
       "0  아침  \n",
       "1  아침  \n",
       "2  아침  \n",
       "\n",
       "[3 rows x 27 columns]"
      ]
     },
     "execution_count": 11,
     "metadata": {},
     "output_type": "execute_result"
    }
   ],
   "source": [
    "# df.rename(columns={'시간대':'사용시간대'},inplace=True)\n",
    "df.head(3)"
   ]
  },
  {
   "cell_type": "markdown",
   "metadata": {},
   "source": [
    "### 예약시간분류하기"
   ]
  },
  {
   "cell_type": "code",
   "execution_count": 12,
   "metadata": {},
   "outputs": [
    {
     "data": {
      "text/plain": [
       "115853    7\n",
       "201320    6\n",
       "145114    6\n",
       "Name: 예약시간, dtype: int64"
      ]
     },
     "execution_count": 12,
     "metadata": {},
     "output_type": "execute_result"
    }
   ],
   "source": [
    "df.예약시간.value_counts()[:3]"
   ]
  },
  {
   "cell_type": "code",
   "execution_count": 13,
   "metadata": {},
   "outputs": [],
   "source": [
    "df['예약시간대'] = df['예약시간'].apply(lambda x: '새벽' if ( round(x/10000) in [1,2,3,4,5,6,7]) else \n",
    "                                    '아침' if ( round(x/10000) in [8,9,10,11,12]) else \n",
    "                                   '오후' if ( round(x/10000) in [13,14,15,16,17]) else \n",
    "                                    '야간'  if ( round(x/10000) in [18,19,20,21,22,23,24,0]) else '미분류')"
   ]
  },
  {
   "cell_type": "code",
   "execution_count": 14,
   "metadata": {},
   "outputs": [
    {
     "data": {
      "text/plain": [
       "오후    12028\n",
       "아침     9310\n",
       "야간     8460\n",
       "새벽     1120\n",
       "Name: 예약시간대, dtype: int64"
      ]
     },
     "execution_count": 14,
     "metadata": {},
     "output_type": "execute_result"
    }
   ],
   "source": [
    "df.예약시간대.value_counts()"
   ]
  },
  {
   "cell_type": "code",
   "execution_count": 15,
   "metadata": {},
   "outputs": [
    {
     "data": {
      "text/plain": [
       "Index(['골프장명', '골프장지역명', '골프장멤버십값', '골프장유형값', '사용일자', '사용시간값', '사용유형명',\n",
       "       '거주자금액', '비거주자금액', '결제수단명', '총인원수', '거주자인원수', '비거주자인원수', '예약일자', '예약시간',\n",
       "       '판매업체명', '예약자성별코드', '예약자연령대코드', '예약자거주지값', '예약자평균값', '예약자골프경력값',\n",
       "       '예약자평균사용값', '예약자사용성향값', '요일별', '계절', '월', '시간대', '예약시간대'],\n",
       "      dtype='object')"
      ]
     },
     "execution_count": 15,
     "metadata": {},
     "output_type": "execute_result"
    }
   ],
   "source": [
    "df.columns"
   ]
  },
  {
   "cell_type": "code",
   "execution_count": 29,
   "metadata": {},
   "outputs": [],
   "source": [
    "df.to_csv('골프장예약만데이터ver0303.csv',index=False)"
   ]
  },
  {
   "cell_type": "markdown",
   "metadata": {},
   "source": [
    "## 참고"
   ]
  },
  {
   "cell_type": "markdown",
   "metadata": {},
   "source": [
    "#### 년,월일\n",
    "년 int(str(x)[:4]) \n",
    "\n",
    "월 int(str(x)[4:-2].lstrip('0')) \n",
    "\n",
    "일 int(str(x)[-2:].lstrip('0')) "
   ]
  },
  {
   "cell_type": "markdown",
   "metadata": {},
   "source": [
    "#### drop"
   ]
  },
  {
   "cell_type": "markdown",
   "metadata": {},
   "source": []
  }
 ],
 "metadata": {
  "interpreter": {
   "hash": "d2fd8c4474f054a18d8dada1f1309894080d2f5dd228179df2638892ef1ae857"
  },
  "kernelspec": {
   "display_name": "Python 3.9.7 ('base')",
   "language": "python",
   "name": "python3"
  },
  "language_info": {
   "codemirror_mode": {
    "name": "ipython",
    "version": 3
   },
   "file_extension": ".py",
   "mimetype": "text/x-python",
   "name": "python",
   "nbconvert_exporter": "python",
   "pygments_lexer": "ipython3",
   "version": "3.9.7"
  },
  "orig_nbformat": 4
 },
 "nbformat": 4,
 "nbformat_minor": 2
}
