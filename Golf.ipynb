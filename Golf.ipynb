{
 "cells": [
  {
   "cell_type": "code",
   "execution_count": 1,
   "metadata": {},
   "outputs": [],
   "source": [
    "import numpy as np\n",
    "import pandas as pd\n",
    "from skimage import sa\n"
   ]
  },
  {
   "cell_type": "code",
   "execution_count": 2,
   "metadata": {},
   "outputs": [],
   "source": [
    "golf_phone_col_list = '골프장명 골프장지역명 대중제,회원제 18 통화일자 통화시간 성별코드 나이 도민,비도민 실력 골프경력 평균사용값 사용성향'.split()"
   ]
  },
  {
   "cell_type": "code",
   "execution_count": 3,
   "metadata": {},
   "outputs": [
    {
     "data": {
      "text/plain": [
       "['골프장명',\n",
       " '골프장지역명',\n",
       " '대중제,회원제',\n",
       " '18',\n",
       " '통화일자',\n",
       " '통화시간',\n",
       " '성별코드',\n",
       " '나이',\n",
       " '도민,비도민',\n",
       " '실력',\n",
       " '골프경력',\n",
       " '평균사용값',\n",
       " '사용성향']"
      ]
     },
     "execution_count": 3,
     "metadata": {},
     "output_type": "execute_result"
    }
   ],
   "source": [
    "golf_phone_col_list"
   ]
  },
  {
   "cell_type": "code",
   "execution_count": 4,
   "metadata": {},
   "outputs": [],
   "source": [
    "golf_df_phone = pd.read_csv('C:\\workspace\\\\Next_Ez_Training\\\\data\\\\like\\\\NXEJEJUGFPHON.csv',header=None)\n",
    "golf_df = pd.read_csv('C:\\workspace\\\\Next_Ez_Training\\\\data\\\\like\\\\NXEJEJUGFRESV.csv',header=None)"
   ]
  },
  {
   "cell_type": "code",
   "execution_count": 5,
   "metadata": {},
   "outputs": [],
   "source": [
    "golf_df_phone.columns =golf_phone_col_list"
   ]
  },
  {
   "cell_type": "code",
   "execution_count": 6,
   "metadata": {},
   "outputs": [
    {
     "data": {
      "text/html": [
       "<div>\n",
       "<style scoped>\n",
       "    .dataframe tbody tr th:only-of-type {\n",
       "        vertical-align: middle;\n",
       "    }\n",
       "\n",
       "    .dataframe tbody tr th {\n",
       "        vertical-align: top;\n",
       "    }\n",
       "\n",
       "    .dataframe thead th {\n",
       "        text-align: right;\n",
       "    }\n",
       "</style>\n",
       "<table border=\"1\" class=\"dataframe\">\n",
       "  <thead>\n",
       "    <tr style=\"text-align: right;\">\n",
       "      <th></th>\n",
       "      <th>골프장명</th>\n",
       "      <th>골프장지역명</th>\n",
       "      <th>대중제,회원제</th>\n",
       "      <th>18</th>\n",
       "      <th>통화일자</th>\n",
       "      <th>통화시간</th>\n",
       "      <th>성별코드</th>\n",
       "      <th>나이</th>\n",
       "      <th>도민,비도민</th>\n",
       "      <th>실력</th>\n",
       "      <th>골프경력</th>\n",
       "      <th>평균사용값</th>\n",
       "      <th>사용성향</th>\n",
       "    </tr>\n",
       "  </thead>\n",
       "  <tbody>\n",
       "    <tr>\n",
       "      <th>0</th>\n",
       "      <td>라헨느CC</td>\n",
       "      <td>제주시내권</td>\n",
       "      <td>회원제</td>\n",
       "      <td>18</td>\n",
       "      <td>20211102</td>\n",
       "      <td>155435</td>\n",
       "      <td>2</td>\n",
       "      <td>40.0</td>\n",
       "      <td>도민</td>\n",
       "      <td>NaN</td>\n",
       "      <td>1년미만</td>\n",
       "      <td>1회이하</td>\n",
       "      <td>골프초년생</td>\n",
       "    </tr>\n",
       "    <tr>\n",
       "      <th>1</th>\n",
       "      <td>오라CC</td>\n",
       "      <td>제주시내권</td>\n",
       "      <td>회원제+대중제</td>\n",
       "      <td>36</td>\n",
       "      <td>20211102</td>\n",
       "      <td>155500</td>\n",
       "      <td>1</td>\n",
       "      <td>50.0</td>\n",
       "      <td>비도민</td>\n",
       "      <td>90.0</td>\n",
       "      <td>NaN</td>\n",
       "      <td>NaN</td>\n",
       "      <td>NaN</td>\n",
       "    </tr>\n",
       "    <tr>\n",
       "      <th>2</th>\n",
       "      <td>아덴힐GC</td>\n",
       "      <td>서부권</td>\n",
       "      <td>대중제</td>\n",
       "      <td>18</td>\n",
       "      <td>20211102</td>\n",
       "      <td>155618</td>\n",
       "      <td>2</td>\n",
       "      <td>40.0</td>\n",
       "      <td>도민</td>\n",
       "      <td>NaN</td>\n",
       "      <td>1년미만</td>\n",
       "      <td>1회이하</td>\n",
       "      <td>골프초년생</td>\n",
       "    </tr>\n",
       "    <tr>\n",
       "      <th>3</th>\n",
       "      <td>크라운CC</td>\n",
       "      <td>동부권</td>\n",
       "      <td>회원제</td>\n",
       "      <td>27</td>\n",
       "      <td>20211102</td>\n",
       "      <td>155718</td>\n",
       "      <td>0</td>\n",
       "      <td>NaN</td>\n",
       "      <td>도민</td>\n",
       "      <td>NaN</td>\n",
       "      <td>10년이상</td>\n",
       "      <td>3회</td>\n",
       "      <td>내기파</td>\n",
       "    </tr>\n",
       "    <tr>\n",
       "      <th>4</th>\n",
       "      <td>더클래식CC</td>\n",
       "      <td>동부권</td>\n",
       "      <td>대중제</td>\n",
       "      <td>18</td>\n",
       "      <td>20211102</td>\n",
       "      <td>155800</td>\n",
       "      <td>2</td>\n",
       "      <td>40.0</td>\n",
       "      <td>도민</td>\n",
       "      <td>NaN</td>\n",
       "      <td>1년미만</td>\n",
       "      <td>1회이하</td>\n",
       "      <td>골프초년생</td>\n",
       "    </tr>\n",
       "    <tr>\n",
       "      <th>...</th>\n",
       "      <td>...</td>\n",
       "      <td>...</td>\n",
       "      <td>...</td>\n",
       "      <td>...</td>\n",
       "      <td>...</td>\n",
       "      <td>...</td>\n",
       "      <td>...</td>\n",
       "      <td>...</td>\n",
       "      <td>...</td>\n",
       "      <td>...</td>\n",
       "      <td>...</td>\n",
       "      <td>...</td>\n",
       "      <td>...</td>\n",
       "    </tr>\n",
       "    <tr>\n",
       "      <th>195</th>\n",
       "      <td>샤인빌CC</td>\n",
       "      <td>동부권</td>\n",
       "      <td>대중제</td>\n",
       "      <td>18</td>\n",
       "      <td>20211102</td>\n",
       "      <td>114702</td>\n",
       "      <td>1</td>\n",
       "      <td>40.0</td>\n",
       "      <td>도민</td>\n",
       "      <td>NaN</td>\n",
       "      <td>NaN</td>\n",
       "      <td>NaN</td>\n",
       "      <td>NaN</td>\n",
       "    </tr>\n",
       "    <tr>\n",
       "      <th>196</th>\n",
       "      <td>사이프러스CC</td>\n",
       "      <td>동부권</td>\n",
       "      <td>회원제+대중제</td>\n",
       "      <td>36</td>\n",
       "      <td>20211102</td>\n",
       "      <td>114718</td>\n",
       "      <td>2</td>\n",
       "      <td>40.0</td>\n",
       "      <td>도민</td>\n",
       "      <td>30.0</td>\n",
       "      <td>1~3년</td>\n",
       "      <td>2회</td>\n",
       "      <td>주말골프</td>\n",
       "    </tr>\n",
       "    <tr>\n",
       "      <th>197</th>\n",
       "      <td>제주CC</td>\n",
       "      <td>제주시내권</td>\n",
       "      <td>대중제</td>\n",
       "      <td>18</td>\n",
       "      <td>20211102</td>\n",
       "      <td>114906</td>\n",
       "      <td>2</td>\n",
       "      <td>40.0</td>\n",
       "      <td>도민</td>\n",
       "      <td>30.0</td>\n",
       "      <td>1~3년</td>\n",
       "      <td>2회</td>\n",
       "      <td>주말골프</td>\n",
       "    </tr>\n",
       "    <tr>\n",
       "      <th>198</th>\n",
       "      <td>롯데스카이힐제주CC</td>\n",
       "      <td>중문/서귀포</td>\n",
       "      <td>회원제+대중제</td>\n",
       "      <td>36</td>\n",
       "      <td>20211102</td>\n",
       "      <td>114924</td>\n",
       "      <td>1</td>\n",
       "      <td>40.0</td>\n",
       "      <td>도민</td>\n",
       "      <td>NaN</td>\n",
       "      <td>NaN</td>\n",
       "      <td>NaN</td>\n",
       "      <td>NaN</td>\n",
       "    </tr>\n",
       "    <tr>\n",
       "      <th>199</th>\n",
       "      <td>더클래식CC</td>\n",
       "      <td>동부권</td>\n",
       "      <td>대중제</td>\n",
       "      <td>18</td>\n",
       "      <td>20211102</td>\n",
       "      <td>115030</td>\n",
       "      <td>2</td>\n",
       "      <td>40.0</td>\n",
       "      <td>도민</td>\n",
       "      <td>30.0</td>\n",
       "      <td>1~3년</td>\n",
       "      <td>2회</td>\n",
       "      <td>주말골프</td>\n",
       "    </tr>\n",
       "  </tbody>\n",
       "</table>\n",
       "<p>200 rows × 13 columns</p>\n",
       "</div>"
      ],
      "text/plain": [
       "           골프장명  골프장지역명  대중제,회원제  18      통화일자    통화시간  성별코드    나이 도민,비도민  \\\n",
       "0         라헨느CC   제주시내권      회원제  18  20211102  155435     2  40.0     도민   \n",
       "1         오라CC    제주시내권  회원제+대중제  36  20211102  155500     1  50.0    비도민   \n",
       "2         아덴힐GC     서부권      대중제  18  20211102  155618     2  40.0     도민   \n",
       "3         크라운CC     동부권      회원제  27  20211102  155718     0   NaN     도민   \n",
       "4        더클래식CC     동부권      대중제  18  20211102  155800     2  40.0     도민   \n",
       "..          ...     ...      ...  ..       ...     ...   ...   ...    ...   \n",
       "195       샤인빌CC     동부권      대중제  18  20211102  114702     1  40.0     도민   \n",
       "196     사이프러스CC     동부권  회원제+대중제  36  20211102  114718     2  40.0     도민   \n",
       "197        제주CC   제주시내권      대중제  18  20211102  114906     2  40.0     도민   \n",
       "198  롯데스카이힐제주CC  중문/서귀포  회원제+대중제  36  20211102  114924     1  40.0     도민   \n",
       "199      더클래식CC     동부권      대중제  18  20211102  115030     2  40.0     도민   \n",
       "\n",
       "       실력   골프경력 평균사용값   사용성향  \n",
       "0     NaN   1년미만  1회이하  골프초년생  \n",
       "1    90.0    NaN   NaN    NaN  \n",
       "2     NaN   1년미만  1회이하  골프초년생  \n",
       "3     NaN  10년이상    3회    내기파  \n",
       "4     NaN   1년미만  1회이하  골프초년생  \n",
       "..    ...    ...   ...    ...  \n",
       "195   NaN    NaN   NaN    NaN  \n",
       "196  30.0   1~3년    2회   주말골프  \n",
       "197  30.0   1~3년    2회   주말골프  \n",
       "198   NaN    NaN   NaN    NaN  \n",
       "199  30.0   1~3년    2회   주말골프  \n",
       "\n",
       "[200 rows x 13 columns]"
      ]
     },
     "execution_count": 6,
     "metadata": {},
     "output_type": "execute_result"
    }
   ],
   "source": [
    "golf_df_phone"
   ]
  },
  {
   "cell_type": "code",
   "execution_count": 7,
   "metadata": {},
   "outputs": [
    {
     "data": {
      "text/plain": [
       "제주CC              30\n",
       "크라운CC             29\n",
       "더클래식CC            20\n",
       "스프링데일CC           19\n",
       "에버리스CC            15\n",
       "한라산CC             14\n",
       "샤인빌CC             12\n",
       "그린필드CC(구 제피로스)    11\n",
       "우리들CC              8\n",
       "중문GC               6\n",
       "세인트포CC             6\n",
       "타미우스CC             6\n",
       "에코랜드GC             5\n",
       "아덴힐GC              4\n",
       "라온GC               3\n",
       "해비치CC              3\n",
       "오라CC               2\n",
       "롯데스카이힐제주CC         2\n",
       "사이프러스CC            2\n",
       "핀크스GC              1\n",
       "엘리시안CC             1\n",
       "라헨느CC              1\n",
       "Name: 골프장명, dtype: int64"
      ]
     },
     "execution_count": 7,
     "metadata": {},
     "output_type": "execute_result"
    }
   ],
   "source": [
    "golf_df_phone.골프장명.value_counts()"
   ]
  },
  {
   "cell_type": "code",
   "execution_count": 8,
   "metadata": {},
   "outputs": [],
   "source": [
    "golf_phone_col_list = '골프장명 골프장지역명 대중제,회원제 18 통화일자 통화시간 성별코드 나이 도민,비도민 실력 골프경력 평균사용값 사용성향'.split()\n",
    "a = '0 1 2 3 4 5 15 16 17 18 19 20 21'.split()"
   ]
  },
  {
   "cell_type": "code",
   "execution_count": 9,
   "metadata": {},
   "outputs": [],
   "source": [
    "a = list(map(int,a))"
   ]
  },
  {
   "cell_type": "code",
   "execution_count": 10,
   "metadata": {},
   "outputs": [
    {
     "data": {
      "text/plain": [
       "[0, 1, 2, 3, 4, 5, 15, 16, 17, 18, 19, 20, 21]"
      ]
     },
     "execution_count": 10,
     "metadata": {},
     "output_type": "execute_result"
    }
   ],
   "source": [
    "a"
   ]
  },
  {
   "cell_type": "code",
   "execution_count": 11,
   "metadata": {},
   "outputs": [
    {
     "data": {
      "text/plain": [
       "Int64Index([ 0,  1,  2,  3,  4,  5,  6,  7,  8,  9, 10, 11, 12, 13, 14, 15, 16,\n",
       "            17, 18, 19, 20, 21, 22],\n",
       "           dtype='int64')"
      ]
     },
     "execution_count": 11,
     "metadata": {},
     "output_type": "execute_result"
    }
   ],
   "source": [
    "golf_df.columns"
   ]
  },
  {
   "cell_type": "code",
   "execution_count": 13,
   "metadata": {},
   "outputs": [],
   "source": [
    "golf_df = golf_df[a]"
   ]
  },
  {
   "cell_type": "code",
   "execution_count": 20,
   "metadata": {},
   "outputs": [
    {
     "data": {
      "text/plain": [
       "13"
      ]
     },
     "execution_count": 20,
     "metadata": {},
     "output_type": "execute_result"
    }
   ],
   "source": [
    "len(golf_df.columns)"
   ]
  },
  {
   "cell_type": "code",
   "execution_count": null,
   "metadata": {},
   "outputs": [],
   "source": [
    "(((())))\n",
    "\n",
    "ㅁㄴㅇㅁ\n",
    "ㅁㄴㅇㅁㄴ  \n",
    "    ㅁㄴㅇ"
   ]
  }
 ],
 "metadata": {
  "interpreter": {
   "hash": "3d88519486fb7f303604b42e7326b7f6f54b322c9ba994a96dc12436522773d9"
  },
  "kernelspec": {
   "display_name": "Python 3.9.7 ('base')",
   "language": "python",
   "name": "python3"
  },
  "language_info": {
   "codemirror_mode": {
    "name": "ipython",
    "version": 3
   },
   "file_extension": ".py",
   "mimetype": "text/x-python",
   "name": "python",
   "nbconvert_exporter": "python",
   "pygments_lexer": "ipython3",
   "version": "3.9.7"
  },
  "orig_nbformat": 4
 },
 "nbformat": 4,
 "nbformat_minor": 2
}
