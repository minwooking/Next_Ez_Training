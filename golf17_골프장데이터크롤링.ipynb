{
 "cells": [
  {
   "cell_type": "markdown",
   "metadata": {},
   "source": [
    "# 골프장명을 이용한 크롤링"
   ]
  },
  {
   "cell_type": "markdown",
   "metadata": {
    "tags": []
   },
   "source": [
    "## use lib"
   ]
  },
  {
   "cell_type": "code",
   "execution_count": 22,
   "metadata": {
    "execution": {
     "iopub.execute_input": "2022-03-18T05:07:02.981592Z",
     "iopub.status.busy": "2022-03-18T05:07:02.981380Z",
     "iopub.status.idle": "2022-03-18T05:07:02.986888Z",
     "shell.execute_reply": "2022-03-18T05:07:02.986271Z",
     "shell.execute_reply.started": "2022-03-18T05:07:02.981562Z"
    },
    "tags": []
   },
   "outputs": [],
   "source": [
    "import pandas as pd\n",
    "import numpy as np\n",
    "import matplotlib.pyplot as plt\n",
    "import seaborn as sns\n",
    "import copy\n",
    "import matplotlib as mpl\n",
    "import datetime\n",
    "from datetime import timedelta\n",
    "# from datetime import datetime, date\n",
    "mpl.rcParams['axes.unicode_minus'] = False\n",
    "plt.rcParams['font.family'] = 'Malgun Gothic'\n",
    "import os\n",
    "\n",
    "from bs4 import BeautifulSoup\n",
    "from selenium import webdriver\n",
    "from webdriver_manager.chrome import ChromeDriverManager\n",
    "import time\n",
    "from urllib.parse import quote\n",
    "from selenium.webdriver.common.keys import Keys\n",
    "import time\n",
    "import pyperclip\n",
    "import urllib.request\n",
    "import urllib.parse \n",
    "from urllib import parse\n",
    "import ssl\n",
    "\n",
    "context = ssl._create_unverified_context()\n"
   ]
  },
  {
   "cell_type": "markdown",
   "metadata": {},
   "source": [
    "## use method"
   ]
  },
  {
   "cell_type": "code",
   "execution_count": 39,
   "metadata": {},
   "outputs": [
    {
     "ename": "SyntaxError",
     "evalue": "invalid syntax (Temp/ipykernel_10344/1102136943.py, line 1)",
     "output_type": "error",
     "traceback": [
      "\u001b[1;36m  File \u001b[1;32m\"C:\\Users\\alsdn\\AppData\\Local\\Temp/ipykernel_10344/1102136943.py\"\u001b[1;36m, line \u001b[1;32m1\u001b[0m\n\u001b[1;33m    def\u001b[0m\n\u001b[1;37m       ^\u001b[0m\n\u001b[1;31mSyntaxError\u001b[0m\u001b[1;31m:\u001b[0m invalid syntax\n"
     ]
    }
   ],
   "source": [
    "# def"
   ]
  },
  {
   "cell_type": "markdown",
   "metadata": {
    "jp-MarkdownHeadingCollapsed": true,
    "tags": []
   },
   "source": [
    "## use webdriver"
   ]
  },
  {
   "cell_type": "code",
   "execution_count": 2,
   "metadata": {
    "execution": {
     "iopub.execute_input": "2022-03-18T04:51:06.094346Z",
     "iopub.status.busy": "2022-03-18T04:51:06.093872Z",
     "iopub.status.idle": "2022-03-18T04:51:06.104781Z",
     "shell.execute_reply": "2022-03-18T04:51:06.103417Z",
     "shell.execute_reply.started": "2022-03-18T04:51:06.094242Z"
    }
   },
   "outputs": [
    {
     "data": {
      "text/plain": [
       "'/home/miwoos/WorkSpace/Next_Ez_jejudo'"
      ]
     },
     "execution_count": 2,
     "metadata": {},
     "output_type": "execute_result"
    }
   ],
   "source": [
    "pwd"
   ]
  },
  {
   "cell_type": "code",
   "execution_count": 30,
   "metadata": {
    "execution": {
     "iopub.execute_input": "2022-03-18T05:09:58.283859Z",
     "iopub.status.busy": "2022-03-18T05:09:58.283474Z",
     "iopub.status.idle": "2022-03-18T05:09:59.371702Z",
     "shell.execute_reply": "2022-03-18T05:09:59.370979Z",
     "shell.execute_reply.started": "2022-03-18T05:09:58.283821Z"
    },
    "tags": []
   },
   "outputs": [
    {
     "name": "stderr",
     "output_type": "stream",
     "text": [
      "\n",
      "\n",
      "====== WebDriver manager ======\n",
      "Current google-chrome version is 99.0.4844\n",
      "Get LATEST chromedriver version for 99.0.4844 google-chrome\n",
      "Driver [/home/miwoos/.wdm/drivers/chromedriver/linux64/99.0.4844.51/chromedriver] found in cache\n",
      "/tmp/ipykernel_269569/1503906442.py:1: DeprecationWarning: executable_path has been deprecated, please pass in a Service object\n",
      "  driver = webdriver.Chrome(ChromeDriverManager().install())\n"
     ]
    }
   ],
   "source": [
    "driver = webdriver.Chrome(ChromeDriverManager().install())"
   ]
  },
  {
   "cell_type": "code",
   "execution_count": 15,
   "metadata": {
    "execution": {
     "iopub.execute_input": "2022-03-18T05:02:43.409218Z",
     "iopub.status.busy": "2022-03-18T05:02:43.408729Z",
     "iopub.status.idle": "2022-03-18T05:02:43.416090Z",
     "shell.execute_reply": "2022-03-18T05:02:43.414118Z",
     "shell.execute_reply.started": "2022-03-18T05:02:43.409146Z"
    },
    "tags": []
   },
   "outputs": [],
   "source": [
    "# driver = webdriver.Chrome('D:\\WorkSpace\\Jeju_Electric_Vehicle_analysis\\chromedriver.exe')  # 윈도우 ## open driver for window version\n",
    "# time.sleep(1)"
   ]
  },
  {
   "cell_type": "code",
   "execution_count": null,
   "metadata": {},
   "outputs": [],
   "source": [
    "driver.quit() # close the driver"
   ]
  },
  {
   "cell_type": "markdown",
   "metadata": {
    "jp-MarkdownHeadingCollapsed": true,
    "tags": []
   },
   "source": [
    "## read ID,PASSWORD"
   ]
  },
  {
   "cell_type": "code",
   "execution_count": 34,
   "metadata": {
    "execution": {
     "iopub.execute_input": "2022-03-18T05:11:39.289672Z",
     "iopub.status.busy": "2022-03-18T05:11:39.289238Z",
     "iopub.status.idle": "2022-03-18T05:11:39.304722Z",
     "shell.execute_reply": "2022-03-18T05:11:39.303941Z",
     "shell.execute_reply.started": "2022-03-18T05:11:39.289591Z"
    }
   },
   "outputs": [
    {
     "ename": "FileNotFoundError",
     "evalue": "[Errno 2] 그런 파일이나 디렉터리가 없습니다: 'D:\\\\WorkSpace\\\\mykey\\\\Naver_pw.txt'",
     "output_type": "error",
     "traceback": [
      "\u001b[0;31m---------------------------------------------------------------------------\u001b[0m",
      "\u001b[0;31mFileNotFoundError\u001b[0m                         Traceback (most recent call last)",
      "\u001b[0;32m/tmp/ipykernel_269569/3557492394.py\u001b[0m in \u001b[0;36m<module>\u001b[0;34m\u001b[0m\n\u001b[0;32m----> 1\u001b[0;31m \u001b[0;32mwith\u001b[0m \u001b[0mopen\u001b[0m\u001b[0;34m(\u001b[0m\u001b[0;34m'D:\\\\WorkSpace\\\\mykey\\\\Naver_pw.txt'\u001b[0m\u001b[0;34m)\u001b[0m \u001b[0;32mas\u001b[0m \u001b[0mfile\u001b[0m\u001b[0;34m:\u001b[0m \u001b[0;31m# 윈도우\u001b[0m\u001b[0;34m\u001b[0m\u001b[0;34m\u001b[0m\u001b[0m\n\u001b[0m\u001b[1;32m      2\u001b[0m     \u001b[0mPASSWORD\u001b[0m \u001b[0;34m=\u001b[0m \u001b[0mfile\u001b[0m\u001b[0;34m.\u001b[0m\u001b[0mread\u001b[0m\u001b[0;34m(\u001b[0m\u001b[0;34m)\u001b[0m\u001b[0;34m\u001b[0m\u001b[0;34m\u001b[0m\u001b[0m\n\u001b[1;32m      3\u001b[0m \u001b[0;32mwith\u001b[0m \u001b[0mopen\u001b[0m\u001b[0;34m(\u001b[0m\u001b[0;34m'D:\\\\WorkSpace\\\\mykey\\\\Naver_ID.txt'\u001b[0m\u001b[0;34m)\u001b[0m \u001b[0;32mas\u001b[0m \u001b[0mfile\u001b[0m\u001b[0;34m:\u001b[0m \u001b[0;31m# 윈도우\u001b[0m\u001b[0;34m\u001b[0m\u001b[0;34m\u001b[0m\u001b[0m\n\u001b[1;32m      4\u001b[0m     \u001b[0mID\u001b[0m \u001b[0;34m=\u001b[0m \u001b[0mfile\u001b[0m\u001b[0;34m.\u001b[0m\u001b[0mread\u001b[0m\u001b[0;34m(\u001b[0m\u001b[0;34m)\u001b[0m\u001b[0;34m\u001b[0m\u001b[0;34m\u001b[0m\u001b[0m\n",
      "\u001b[0;31mFileNotFoundError\u001b[0m: [Errno 2] 그런 파일이나 디렉터리가 없습니다: 'D:\\\\WorkSpace\\\\mykey\\\\Naver_pw.txt'"
     ]
    }
   ],
   "source": [
    "with open('D:\\\\WorkSpace\\\\mykey\\\\Naver_pw.txt') as file: # 윈도우\n",
    "    PASSWORD = file.read()\n",
    "with open('D:\\\\WorkSpace\\\\mykey\\\\Naver_ID.txt') as file: # 윈도우 \n",
    "    ID = file.read()"
   ]
  },
  {
   "cell_type": "code",
   "execution_count": 35,
   "metadata": {
    "execution": {
     "iopub.execute_input": "2022-03-18T05:11:58.716228Z",
     "iopub.status.busy": "2022-03-18T05:11:58.716047Z",
     "iopub.status.idle": "2022-03-18T05:11:58.723662Z",
     "shell.execute_reply": "2022-03-18T05:11:58.722839Z",
     "shell.execute_reply.started": "2022-03-18T05:11:58.716213Z"
    },
    "tags": []
   },
   "outputs": [],
   "source": [
    "## 리눅스\n",
    "with open('/home/miwoos/WorkSpace/mykey/Naver_pw.txt') as file: \n",
    "    PASSWORD = file.read()\n",
    "with open('/home/miwoos/WorkSpace/mykey/Naver_ID.txt') as file:\n",
    "    ID = file.read()"
   ]
  },
  {
   "cell_type": "markdown",
   "metadata": {},
   "source": [
    "### test driver"
   ]
  },
  {
   "cell_type": "code",
   "execution_count": 25,
   "metadata": {
    "execution": {
     "iopub.execute_input": "2022-03-18T05:08:37.382680Z",
     "iopub.status.busy": "2022-03-18T05:08:37.382240Z",
     "iopub.status.idle": "2022-03-18T05:08:37.389898Z",
     "shell.execute_reply": "2022-03-18T05:08:37.388735Z",
     "shell.execute_reply.started": "2022-03-18T05:08:37.382603Z"
    }
   },
   "outputs": [],
   "source": [
    "search = '제주전기차'\n",
    "url = 'https://search.naver.com/search.naver?where=post&sm=tab_jum&query=' \n",
    "newurl = url+parse.quote(search)"
   ]
  },
  {
   "cell_type": "code",
   "execution_count": 8,
   "metadata": {},
   "outputs": [],
   "source": [
    "html = urllib.request.urlopen(newurl).read()"
   ]
  },
  {
   "cell_type": "code",
   "execution_count": null,
   "metadata": {},
   "outputs": [],
   "source": [
    "html"
   ]
  },
  {
   "cell_type": "code",
   "execution_count": 10,
   "metadata": {},
   "outputs": [],
   "source": [
    "soup = BeautifulSoup(html,'html.parser')"
   ]
  },
  {
   "cell_type": "code",
   "execution_count": null,
   "metadata": {},
   "outputs": [],
   "source": [
    "soup"
   ]
  },
  {
   "cell_type": "code",
   "execution_count": 12,
   "metadata": {},
   "outputs": [],
   "source": [
    "title = soup.find_all(class_='api_txt_lines dsc_txt')"
   ]
  },
  {
   "cell_type": "code",
   "execution_count": 13,
   "metadata": {},
   "outputs": [
    {
     "data": {
      "text/plain": [
       "'아이오닉 제주 전기차 렌트를 생각보다 빠르게 진행할 수 있었다. 내비게이션... 완전자차로 제주도 차 렌트한 전기차 아이오닉은 트렁크도 넓어 여행가방 2~3개를... '"
      ]
     },
     "execution_count": 13,
     "metadata": {},
     "output_type": "execute_result"
    }
   ],
   "source": [
    "title[1].text"
   ]
  },
  {
   "cell_type": "markdown",
   "metadata": {},
   "source": [
    "## login the website naver"
   ]
  },
  {
   "cell_type": "code",
   "execution_count": 28,
   "metadata": {
    "execution": {
     "iopub.execute_input": "2022-03-18T05:09:46.783935Z",
     "iopub.status.busy": "2022-03-18T05:09:46.783513Z",
     "iopub.status.idle": "2022-03-18T05:09:46.792720Z",
     "shell.execute_reply": "2022-03-18T05:09:46.791416Z",
     "shell.execute_reply.started": "2022-03-18T05:09:46.783841Z"
    },
    "tags": []
   },
   "outputs": [
    {
     "data": {
      "text/plain": [
       "'alsdnji'"
      ]
     },
     "execution_count": 28,
     "metadata": {},
     "output_type": "execute_result"
    }
   ],
   "source": [
    "PASSWORD"
   ]
  },
  {
   "cell_type": "code",
   "execution_count": 37,
   "metadata": {
    "execution": {
     "iopub.execute_input": "2022-03-18T05:12:41.344941Z",
     "iopub.status.busy": "2022-03-18T05:12:41.344723Z",
     "iopub.status.idle": "2022-03-18T05:12:41.348673Z",
     "shell.execute_reply": "2022-03-18T05:12:41.347962Z",
     "shell.execute_reply.started": "2022-03-18T05:12:41.344898Z"
    },
    "tags": []
   },
   "outputs": [],
   "source": [
    "uid = ID\n",
    "upw = PASSWORD"
   ]
  },
  {
   "cell_type": "code",
   "execution_count": 39,
   "metadata": {
    "execution": {
     "iopub.execute_input": "2022-03-18T05:12:53.060310Z",
     "iopub.status.busy": "2022-03-18T05:12:53.059886Z",
     "iopub.status.idle": "2022-03-18T05:12:53.066110Z",
     "shell.execute_reply": "2022-03-18T05:12:53.065490Z",
     "shell.execute_reply.started": "2022-03-18T05:12:53.060249Z"
    },
    "tags": []
   },
   "outputs": [
    {
     "data": {
      "text/plain": [
       "'931811ji!'"
      ]
     },
     "execution_count": 39,
     "metadata": {},
     "output_type": "execute_result"
    }
   ],
   "source": []
  },
  {
   "cell_type": "code",
   "execution_count": 40,
   "metadata": {
    "execution": {
     "iopub.execute_input": "2022-03-18T05:13:15.928124Z",
     "iopub.status.busy": "2022-03-18T05:13:15.927943Z",
     "iopub.status.idle": "2022-03-18T05:13:22.924051Z",
     "shell.execute_reply": "2022-03-18T05:13:22.923187Z",
     "shell.execute_reply.started": "2022-03-18T05:13:15.928101Z"
    },
    "tags": []
   },
   "outputs": [
    {
     "name": "stderr",
     "output_type": "stream",
     "text": [
      "/tmp/ipykernel_269569/3318163898.py:9: DeprecationWarning: find_element_by_name is deprecated. Please use find_element(by=By.NAME, value=name) instead\n",
      "  tag_id = driver.find_element_by_name('id')\n",
      "/tmp/ipykernel_269569/3318163898.py:11: DeprecationWarning: find_element_by_name is deprecated. Please use find_element(by=By.NAME, value=name) instead\n",
      "  tag_pw = driver.find_element_by_name('pw')\n",
      "QXcbClipboard::setMimeData: Cannot set X11 selection owner\n",
      "QXcbClipboard::setMimeData: Cannot set X11 selection owner\n",
      "/tmp/ipykernel_269569/3318163898.py:27: DeprecationWarning: find_element_by_* commands are deprecated. Please use find_element() instead\n",
      "  login_btn = driver.find_element_by_id('log.login')\n"
     ]
    }
   ],
   "source": [
    "url = 'https://nid.naver.com/nidlogin.login?mode=form&url=https%3A%2F%2Fwww.naver.com' \n",
    "# uid = ID\n",
    "# upw = PASSWORD\n",
    "#네이버 로그인 페이지로 이동 \n",
    "driver.get(url) \n",
    "time.sleep(2) #로딩 대기 \n",
    "\n",
    "#아이디 입력폼 \n",
    "tag_id = driver.find_element_by_name('id') \n",
    "#패스워드 입력폼 \n",
    "tag_pw = driver.find_element_by_name('pw')\n",
    "\n",
    "# id 입력 \n",
    "# 입력폼 클릭 -> paperclip에 선언한 uid 내용 복사 -> 붙여넣기 \n",
    "tag_id.click() \n",
    "pyperclip.copy(uid) \n",
    "tag_id.send_keys(Keys.CONTROL, 'v') \n",
    "time.sleep(1) \n",
    "\n",
    "# pw 입력 # 입력폼 클릭 -> paperclip에 선언한 upw 내용 복사 -> 붙여넣기\n",
    "tag_pw.click() \n",
    "pyperclip.copy(upw) \n",
    "tag_pw.send_keys(Keys.CONTROL, 'v')\n",
    "time.sleep(1) \n",
    "\n",
    "#로그인 버튼 클릭 \n",
    "login_btn = driver.find_element_by_id('log.login') \n",
    "login_btn.click() \n",
    "time.sleep(2)\n"
   ]
  },
  {
   "cell_type": "markdown",
   "metadata": {},
   "source": [
    "## Use and read Data"
   ]
  },
  {
   "cell_type": "code",
   "execution_count": 2,
   "metadata": {},
   "outputs": [],
   "source": [
    "# 경로변경\n",
    "os.chdir('G:\\내 드라이브\\Data')\n",
    "!pwd"
   ]
  },
  {
   "cell_type": "code",
   "execution_count": 55,
   "metadata": {},
   "outputs": [],
   "source": [
    "df= pd.read_excel(\"D:\\GoogleDrive\\Data\\Data\\넥스트이지_골프장\\제주골프장_정보(강지희).xlsx\")"
   ]
  },
  {
   "cell_type": "code",
   "execution_count": 56,
   "metadata": {},
   "outputs": [
    {
     "data": {
      "text/plain": [
       "array(['그린필드CC', '나인브릿지CC', '더시에나(구.제주)C.C', '더클래식CC', '라온GC', '라헨느CC',\n",
       "       '레이크힐스CC', '롯데스카이힐제주CC', '부영CC', '블랙스톤CC', '사이프러스CC', '샤인빌CC',\n",
       "       '세인트포CC', '스프링데일CC', '아덴힐GC', '에버리스CC', '에코랜드GC', '엘리시안CC', '오라CC',\n",
       "       '우리들CC', '중문GC', '캐슬렉스제주GC', '크라운CC', '타미우스CC', '테디밸리CC',\n",
       "       '플라자CC제주', '핀크스GC', '한라산CC', '해비치CC'], dtype=object)"
      ]
     },
     "execution_count": 56,
     "metadata": {},
     "output_type": "execute_result"
    }
   ],
   "source": [
    "df.골프장명.values"
   ]
  },
  {
   "cell_type": "markdown",
   "metadata": {},
   "source": [
    "### Coding th algo"
   ]
  },
  {
   "cell_type": "code",
   "execution_count": 57,
   "metadata": {},
   "outputs": [
    {
     "name": "stdout",
     "output_type": "stream",
     "text": [
      "0 그린필드CC\n",
      "1 나인브릿지CC\n",
      "2 더시에나(구.제주)C.C\n",
      "3 더클래식CC\n",
      "4 라온GC\n",
      "5 라헨느CC\n",
      "6 레이크힐스CC\n",
      "7 롯데스카이힐제주CC\n",
      "8 부영CC\n",
      "9 블랙스톤CC\n",
      "10 사이프러스CC\n",
      "11 샤인빌CC\n",
      "12 세인트포CC\n",
      "13 스프링데일CC\n",
      "14 아덴힐GC\n",
      "15 에버리스CC\n",
      "16 에코랜드GC\n",
      "17 엘리시안CC\n",
      "18 오라CC\n",
      "19 우리들CC\n",
      "20 중문GC\n",
      "21 캐슬렉스제주GC\n",
      "22 크라운CC\n",
      "23 타미우스CC\n",
      "24 테디밸리CC\n",
      "25 플라자CC제주\n",
      "26 핀크스GC\n",
      "27 한라산CC\n",
      "28 해비치CC\n"
     ]
    }
   ],
   "source": [
    "for i,item in enumerate(df.골프장명):\n",
    "    \n",
    "    print( str(i)+' '+item)"
   ]
  },
  {
   "cell_type": "code",
   "execution_count": null,
   "metadata": {},
   "outputs": [],
   "source": []
  }
 ],
 "metadata": {
  "interpreter": {
   "hash": "982c78d920726c4e066517e5f806c5a92239fdf1e257c5744bcc49f815c4d4bb"
  },
  "kernelspec": {
   "display_name": "Python 3 (ipykernel)",
   "language": "python",
   "name": "python3"
  },
  "language_info": {
   "codemirror_mode": {
    "name": "ipython",
    "version": 3
   },
   "file_extension": ".py",
   "mimetype": "text/x-python",
   "name": "python",
   "nbconvert_exporter": "python",
   "pygments_lexer": "ipython3",
   "version": "3.9.7"
  }
 },
 "nbformat": 4,
 "nbformat_minor": 4
}
