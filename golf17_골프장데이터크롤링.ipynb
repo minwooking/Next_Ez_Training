{
 "cells": [
  {
   "cell_type": "markdown",
   "metadata": {},
   "source": [
    "# 골프장명을 이용한 크롤링"
   ]
  },
  {
   "cell_type": "markdown",
   "metadata": {
    "tags": []
   },
   "source": [
    "## use lib"
   ]
  },
  {
   "cell_type": "code",
   "execution_count": 12,
   "metadata": {
    "execution": {
     "iopub.execute_input": "2022-03-18T05:07:02.981592Z",
     "iopub.status.busy": "2022-03-18T05:07:02.981380Z",
     "iopub.status.idle": "2022-03-18T05:07:02.986888Z",
     "shell.execute_reply": "2022-03-18T05:07:02.986271Z",
     "shell.execute_reply.started": "2022-03-18T05:07:02.981562Z"
    },
    "tags": []
   },
   "outputs": [],
   "source": [
    "import pandas as pd\n",
    "import numpy as np\n",
    "import matplotlib.pyplot as plt\n",
    "import seaborn as sns\n",
    "import copy\n",
    "import matplotlib as mpl\n",
    "import datetime\n",
    "from datetime import timedelta\n",
    "# from datetime import datetime, date\n",
    "mpl.rcParams['axes.unicode_minus'] = False\n",
    "plt.rcParams['font.family'] = 'Malgun Gothic'\n",
    "import os\n",
    "import re\n",
    "\n",
    "\n",
    "from bs4 import BeautifulSoup\n",
    "from selenium import webdriver\n",
    "# from webdriver_manager.chrome import ChromeDriverManager\n",
    "import time\n",
    "from time import sleep\n",
    "\n",
    "from urllib.parse import quote\n",
    "from selenium.webdriver.common.keys import Keys\n",
    "from selenium.common.exceptions import ElementNotInteractableException\n",
    "from selenium.common.exceptions import NoSuchElementException\n",
    "import time\n",
    "import pyperclip\n",
    "import urllib.request\n",
    "import requests\n",
    "import urllib.parse \n",
    "from urllib import parse\n",
    "import ssl\n",
    "\n",
    "context = ssl._create_unverified_context()\n"
   ]
  },
  {
   "cell_type": "code",
   "execution_count": 74,
   "metadata": {},
   "outputs": [
    {
     "data": {
      "text/plain": [
       "datetime.datetime(2022, 3, 21, 10, 25, 3, 658368)"
      ]
     },
     "execution_count": 74,
     "metadata": {},
     "output_type": "execute_result"
    }
   ],
   "source": [
    "from datetime import datetime, timedelta\n",
    "today = datetime.now()          # datetime.today()\n",
    "today"
   ]
  },
  {
   "cell_type": "markdown",
   "metadata": {},
   "source": [
    "## use method"
   ]
  },
  {
   "cell_type": "code",
   "execution_count": 72,
   "metadata": {},
   "outputs": [],
   "source": [
    "def convert_date(s):\n",
    "    if len(s) == 11:\n",
    "        return s[:-1]\n",
    "\n",
    "    today = datetime.now()\n",
    "    if '어제' in s:\n",
    "        date = today - timedelta(1)\n",
    "    elif '일' in s:\n",
    "        date = today - timedelta(int(s[:-3]))\n",
    "    elif '시간' in s:\n",
    "        date = today - timedelta(hours=int(s[:-4]))\n",
    "    elif '분' in s:\n",
    "        date = today - timedelta(minutes=int(s[:-3]))\n",
    "\n",
    "    return f'{date.year}.{date.month:02d}.{date.day:02d}'"
   ]
  },
  {
   "cell_type": "markdown",
   "metadata": {
    "jp-MarkdownHeadingCollapsed": true,
    "tags": []
   },
   "source": [
    "## use webdriver"
   ]
  },
  {
   "cell_type": "code",
   "execution_count": 2,
   "metadata": {
    "execution": {
     "iopub.execute_input": "2022-03-18T04:51:06.094346Z",
     "iopub.status.busy": "2022-03-18T04:51:06.093872Z",
     "iopub.status.idle": "2022-03-18T04:51:06.104781Z",
     "shell.execute_reply": "2022-03-18T04:51:06.103417Z",
     "shell.execute_reply.started": "2022-03-18T04:51:06.094242Z"
    }
   },
   "outputs": [
    {
     "data": {
      "text/plain": [
       "'d:\\\\WorkSpace\\\\Next_Ez_jejudo'"
      ]
     },
     "execution_count": 2,
     "metadata": {},
     "output_type": "execute_result"
    }
   ],
   "source": [
    "pwd"
   ]
  },
  {
   "cell_type": "code",
   "execution_count": null,
   "metadata": {
    "execution": {
     "iopub.execute_input": "2022-03-18T05:09:58.283859Z",
     "iopub.status.busy": "2022-03-18T05:09:58.283474Z",
     "iopub.status.idle": "2022-03-18T05:09:59.371702Z",
     "shell.execute_reply": "2022-03-18T05:09:59.370979Z",
     "shell.execute_reply.started": "2022-03-18T05:09:58.283821Z"
    },
    "tags": []
   },
   "outputs": [],
   "source": [
    "# driver = webdriver.Chrome(ChromeDriverManager().install()) ## 리눅스"
   ]
  },
  {
   "cell_type": "code",
   "execution_count": 3,
   "metadata": {
    "execution": {
     "iopub.execute_input": "2022-03-18T05:02:43.409218Z",
     "iopub.status.busy": "2022-03-18T05:02:43.408729Z",
     "iopub.status.idle": "2022-03-18T05:02:43.416090Z",
     "shell.execute_reply": "2022-03-18T05:02:43.414118Z",
     "shell.execute_reply.started": "2022-03-18T05:02:43.409146Z"
    },
    "tags": []
   },
   "outputs": [
    {
     "name": "stderr",
     "output_type": "stream",
     "text": [
      "C:\\Users\\alsdn\\AppData\\Local\\Temp/ipykernel_1596/1437496389.py:1: DeprecationWarning: executable_path has been deprecated, please pass in a Service object\n",
      "  driver = webdriver.Chrome('D:\\WorkSpace\\Jeju_Electric_Vehicle_analysis\\chromedriver.exe')  # 윈도우 ## open driver for window version\n"
     ]
    }
   ],
   "source": [
    "driver = webdriver.Chrome('D:\\WorkSpace\\Jeju_Electric_Vehicle_analysis\\chromedriver.exe')  # 윈도우 ## open driver for window version\n",
    "time.sleep(1)"
   ]
  },
  {
   "cell_type": "code",
   "execution_count": null,
   "metadata": {},
   "outputs": [],
   "source": [
    "driver.quit() # close the driver"
   ]
  },
  {
   "cell_type": "markdown",
   "metadata": {
    "jp-MarkdownHeadingCollapsed": true,
    "tags": []
   },
   "source": [
    "## read ID,PASSWORD"
   ]
  },
  {
   "cell_type": "code",
   "execution_count": 4,
   "metadata": {
    "execution": {
     "iopub.execute_input": "2022-03-18T05:11:39.289672Z",
     "iopub.status.busy": "2022-03-18T05:11:39.289238Z",
     "iopub.status.idle": "2022-03-18T05:11:39.304722Z",
     "shell.execute_reply": "2022-03-18T05:11:39.303941Z",
     "shell.execute_reply.started": "2022-03-18T05:11:39.289591Z"
    }
   },
   "outputs": [],
   "source": [
    "with open('D:\\\\WorkSpace\\\\mykey\\\\Naver_pw.txt') as file: # 윈도우\n",
    "    PASSWORD = file.read()\n",
    "with open('D:\\\\WorkSpace\\\\mykey\\\\Naver_ID.txt') as file: # 윈도우 \n",
    "    ID = file.read()"
   ]
  },
  {
   "cell_type": "code",
   "execution_count": 35,
   "metadata": {
    "execution": {
     "iopub.execute_input": "2022-03-18T05:11:58.716228Z",
     "iopub.status.busy": "2022-03-18T05:11:58.716047Z",
     "iopub.status.idle": "2022-03-18T05:11:58.723662Z",
     "shell.execute_reply": "2022-03-18T05:11:58.722839Z",
     "shell.execute_reply.started": "2022-03-18T05:11:58.716213Z"
    },
    "tags": []
   },
   "outputs": [],
   "source": [
    "## 리눅스\n",
    "with open('/home/miwoos/WorkSpace/mykey/Naver_pw.txt') as file: \n",
    "    PASSWORD = file.read()\n",
    "with open('/home/miwoos/WorkSpace/mykey/Naver_ID.txt') as file:\n",
    "    ID = file.read()"
   ]
  },
  {
   "cell_type": "markdown",
   "metadata": {},
   "source": [
    "### test driver"
   ]
  },
  {
   "cell_type": "code",
   "execution_count": 5,
   "metadata": {
    "execution": {
     "iopub.execute_input": "2022-03-18T05:08:37.382680Z",
     "iopub.status.busy": "2022-03-18T05:08:37.382240Z",
     "iopub.status.idle": "2022-03-18T05:08:37.389898Z",
     "shell.execute_reply": "2022-03-18T05:08:37.388735Z",
     "shell.execute_reply.started": "2022-03-18T05:08:37.382603Z"
    }
   },
   "outputs": [],
   "source": [
    "search = '제주전기차'\n",
    "url = 'https://search.naver.com/search.naver?where=post&sm=tab_jum&query=' \n",
    "newurl = url+parse.quote(search)"
   ]
  },
  {
   "cell_type": "code",
   "execution_count": 6,
   "metadata": {},
   "outputs": [],
   "source": [
    "html = urllib.request.urlopen(newurl).read()"
   ]
  },
  {
   "cell_type": "code",
   "execution_count": null,
   "metadata": {},
   "outputs": [],
   "source": [
    "html"
   ]
  },
  {
   "cell_type": "code",
   "execution_count": 10,
   "metadata": {},
   "outputs": [],
   "source": [
    "soup = BeautifulSoup(html,'html.parser')"
   ]
  },
  {
   "cell_type": "code",
   "execution_count": null,
   "metadata": {},
   "outputs": [],
   "source": [
    "soup"
   ]
  },
  {
   "cell_type": "code",
   "execution_count": 12,
   "metadata": {},
   "outputs": [],
   "source": [
    "title = soup.find_all(class_='api_txt_lines dsc_txt')"
   ]
  },
  {
   "cell_type": "code",
   "execution_count": 13,
   "metadata": {},
   "outputs": [
    {
     "data": {
      "text/plain": [
       "'아이오닉 제주 전기차 렌트를 생각보다 빠르게 진행할 수 있었다. 내비게이션... 완전자차로 제주도 차 렌트한 전기차 아이오닉은 트렁크도 넓어 여행가방 2~3개를... '"
      ]
     },
     "execution_count": 13,
     "metadata": {},
     "output_type": "execute_result"
    }
   ],
   "source": [
    "title[1].text"
   ]
  },
  {
   "cell_type": "markdown",
   "metadata": {},
   "source": [
    "## login the website naver"
   ]
  },
  {
   "cell_type": "code",
   "execution_count": 28,
   "metadata": {
    "execution": {
     "iopub.execute_input": "2022-03-18T05:09:46.783935Z",
     "iopub.status.busy": "2022-03-18T05:09:46.783513Z",
     "iopub.status.idle": "2022-03-18T05:09:46.792720Z",
     "shell.execute_reply": "2022-03-18T05:09:46.791416Z",
     "shell.execute_reply.started": "2022-03-18T05:09:46.783841Z"
    },
    "tags": []
   },
   "outputs": [
    {
     "data": {
      "text/plain": [
       "'alsdnji'"
      ]
     },
     "execution_count": 28,
     "metadata": {},
     "output_type": "execute_result"
    }
   ],
   "source": [
    "PASSWORD"
   ]
  },
  {
   "cell_type": "code",
   "execution_count": 37,
   "metadata": {
    "execution": {
     "iopub.execute_input": "2022-03-18T05:12:41.344941Z",
     "iopub.status.busy": "2022-03-18T05:12:41.344723Z",
     "iopub.status.idle": "2022-03-18T05:12:41.348673Z",
     "shell.execute_reply": "2022-03-18T05:12:41.347962Z",
     "shell.execute_reply.started": "2022-03-18T05:12:41.344898Z"
    },
    "tags": []
   },
   "outputs": [],
   "source": [
    "uid = ID\n",
    "upw = PASSWORD"
   ]
  },
  {
   "cell_type": "code",
   "execution_count": 39,
   "metadata": {
    "execution": {
     "iopub.execute_input": "2022-03-18T05:12:53.060310Z",
     "iopub.status.busy": "2022-03-18T05:12:53.059886Z",
     "iopub.status.idle": "2022-03-18T05:12:53.066110Z",
     "shell.execute_reply": "2022-03-18T05:12:53.065490Z",
     "shell.execute_reply.started": "2022-03-18T05:12:53.060249Z"
    },
    "tags": []
   },
   "outputs": [
    {
     "data": {
      "text/plain": [
       "'931811ji!'"
      ]
     },
     "execution_count": 39,
     "metadata": {},
     "output_type": "execute_result"
    }
   ],
   "source": []
  },
  {
   "cell_type": "code",
   "execution_count": 40,
   "metadata": {
    "execution": {
     "iopub.execute_input": "2022-03-18T05:13:15.928124Z",
     "iopub.status.busy": "2022-03-18T05:13:15.927943Z",
     "iopub.status.idle": "2022-03-18T05:13:22.924051Z",
     "shell.execute_reply": "2022-03-18T05:13:22.923187Z",
     "shell.execute_reply.started": "2022-03-18T05:13:15.928101Z"
    },
    "tags": []
   },
   "outputs": [
    {
     "name": "stderr",
     "output_type": "stream",
     "text": [
      "/tmp/ipykernel_269569/3318163898.py:9: DeprecationWarning: find_element_by_name is deprecated. Please use find_element(by=By.NAME, value=name) instead\n",
      "  tag_id = driver.find_element_by_name('id')\n",
      "/tmp/ipykernel_269569/3318163898.py:11: DeprecationWarning: find_element_by_name is deprecated. Please use find_element(by=By.NAME, value=name) instead\n",
      "  tag_pw = driver.find_element_by_name('pw')\n",
      "QXcbClipboard::setMimeData: Cannot set X11 selection owner\n",
      "QXcbClipboard::setMimeData: Cannot set X11 selection owner\n",
      "/tmp/ipykernel_269569/3318163898.py:27: DeprecationWarning: find_element_by_* commands are deprecated. Please use find_element() instead\n",
      "  login_btn = driver.find_element_by_id('log.login')\n"
     ]
    }
   ],
   "source": [
    "url = 'https://nid.naver.com/nidlogin.login?mode=form&url=https%3A%2F%2Fwww.naver.com' \n",
    "# uid = ID\n",
    "# upw = PASSWORD\n",
    "#네이버 로그인 페이지로 이동 \n",
    "driver.get(url) \n",
    "time.sleep(2) #로딩 대기 \n",
    "\n",
    "#아이디 입력폼 \n",
    "tag_id = driver.find_element_by_name('id') \n",
    "#패스워드 입력폼 \n",
    "tag_pw = driver.find_element_by_name('pw')\n",
    "\n",
    "# id 입력 \n",
    "# 입력폼 클릭 -> paperclip에 선언한 uid 내용 복사 -> 붙여넣기 \n",
    "tag_id.click() \n",
    "pyperclip.copy(uid) \n",
    "tag_id.send_keys(Keys.CONTROL, 'v') \n",
    "time.sleep(1) \n",
    "\n",
    "# pw 입력 # 입력폼 클릭 -> paperclip에 선언한 upw 내용 복사 -> 붙여넣기\n",
    "tag_pw.click() \n",
    "pyperclip.copy(upw) \n",
    "tag_pw.send_keys(Keys.CONTROL, 'v')\n",
    "time.sleep(1) \n",
    "\n",
    "#로그인 버튼 클릭 \n",
    "login_btn = driver.find_element_by_id('log.login') \n",
    "login_btn.click() \n",
    "time.sleep(2)\n"
   ]
  },
  {
   "cell_type": "markdown",
   "metadata": {},
   "source": [
    "## Use and read Data"
   ]
  },
  {
   "cell_type": "code",
   "execution_count": 2,
   "metadata": {},
   "outputs": [],
   "source": [
    "# 경로변경\n",
    "os.chdir('G:\\내 드라이브\\Data')\n",
    "!pwd"
   ]
  },
  {
   "cell_type": "code",
   "execution_count": 8,
   "metadata": {},
   "outputs": [],
   "source": [
    "df= pd.read_excel(\"D:\\GoogleDrive\\Data\\Data\\넥스트이지_골프장\\제주골프장_정보(강지희).xlsx\")"
   ]
  },
  {
   "cell_type": "code",
   "execution_count": 9,
   "metadata": {},
   "outputs": [
    {
     "data": {
      "text/plain": [
       "array(['그린필드CC', '나인브릿지CC', '더시에나(구.제주)C.C', '더클래식CC', '라온GC', '라헨느CC',\n",
       "       '레이크힐스CC', '롯데스카이힐제주CC', '부영CC', '블랙스톤CC', '사이프러스CC', '샤인빌CC',\n",
       "       '세인트포CC', '스프링데일CC', '아덴힐GC', '에버리스CC', '에코랜드GC', '엘리시안CC', '오라CC',\n",
       "       '우리들CC', '중문GC', '캐슬렉스제주GC', '크라운CC', '타미우스CC', '테디밸리CC',\n",
       "       '플라자CC제주', '핀크스GC', '한라산CC', '해비치CC'], dtype=object)"
      ]
     },
     "execution_count": 9,
     "metadata": {},
     "output_type": "execute_result"
    }
   ],
   "source": [
    "df.골프장명.values"
   ]
  },
  {
   "cell_type": "markdown",
   "metadata": {},
   "source": [
    "### Coding th algo"
   ]
  },
  {
   "cell_type": "code",
   "execution_count": 10,
   "metadata": {},
   "outputs": [
    {
     "name": "stdout",
     "output_type": "stream",
     "text": [
      "0 그린필드CC\n",
      "1 나인브릿지CC\n",
      "2 더시에나(구.제주)C.C\n",
      "3 더클래식CC\n",
      "4 라온GC\n",
      "5 라헨느CC\n",
      "6 레이크힐스CC\n",
      "7 롯데스카이힐제주CC\n",
      "8 부영CC\n",
      "9 블랙스톤CC\n",
      "10 사이프러스CC\n",
      "11 샤인빌CC\n",
      "12 세인트포CC\n",
      "13 스프링데일CC\n",
      "14 아덴힐GC\n",
      "15 에버리스CC\n",
      "16 에코랜드GC\n",
      "17 엘리시안CC\n",
      "18 오라CC\n",
      "19 우리들CC\n",
      "20 중문GC\n",
      "21 캐슬렉스제주GC\n",
      "22 크라운CC\n",
      "23 타미우스CC\n",
      "24 테디밸리CC\n",
      "25 플라자CC제주\n",
      "26 핀크스GC\n",
      "27 한라산CC\n",
      "28 해비치CC\n"
     ]
    }
   ],
   "source": [
    "for i,item in enumerate(df.골프장명):\n",
    "    \n",
    "    print( str(i)+' '+item)"
   ]
  },
  {
   "cell_type": "code",
   "execution_count": 36,
   "metadata": {},
   "outputs": [],
   "source": [
    "golf_course_name=df.골프장명.values"
   ]
  },
  {
   "cell_type": "code",
   "execution_count": 41,
   "metadata": {},
   "outputs": [],
   "source": [
    "golf_course_name=list(golf_course_name)\n",
    "golf_course_name.append('제주CC')"
   ]
  },
  {
   "cell_type": "code",
   "execution_count": 80,
   "metadata": {},
   "outputs": [
    {
     "data": {
      "text/plain": [
       "['그린필드CC',\n",
       " '나인브릿지CC',\n",
       " '더시에나(구.제주)C.C',\n",
       " '더클래식CC',\n",
       " '라온GC',\n",
       " '라헨느CC',\n",
       " '레이크힐스CC',\n",
       " '롯데스카이힐제주CC',\n",
       " '부영CC',\n",
       " '블랙스톤CC',\n",
       " '사이프러스CC',\n",
       " '샤인빌CC',\n",
       " '세인트포CC',\n",
       " '스프링데일CC',\n",
       " '아덴힐GC',\n",
       " '에버리스CC',\n",
       " '에코랜드GC',\n",
       " '엘리시안CC',\n",
       " '오라CC',\n",
       " '우리들CC',\n",
       " '중문GC',\n",
       " '캐슬렉스제주GC',\n",
       " '크라운CC',\n",
       " '타미우스CC',\n",
       " '테디밸리CC',\n",
       " '플라자CC제주',\n",
       " '핀크스GC',\n",
       " '한라산CC',\n",
       " '해비치CC',\n",
       " '제주CC']"
      ]
     },
     "execution_count": 80,
     "metadata": {},
     "output_type": "execute_result"
    }
   ],
   "source": [
    "golf_course_name"
   ]
  },
  {
   "cell_type": "code",
   "execution_count": 81,
   "metadata": {},
   "outputs": [
    {
     "name": "stderr",
     "output_type": "stream",
     "text": [
      "C:\\Users\\alsdn\\AppData\\Local\\Temp/ipykernel_1596/2278853513.py:7: DeprecationWarning: executable_path has been deprecated, please pass in a Service object\n",
      "  driver = webdriver.Chrome('D:\\WorkSpace\\Jeju_Electric_Vehicle_analysis\\chromedriver.exe')\n",
      "C:\\Users\\alsdn\\AppData\\Local\\Temp/ipykernel_1596/2278853513.py:10: DeprecationWarning: find_element_by_tag_name is deprecated. Please use find_element(by=By.TAG_NAME, value=name) instead\n",
      "  body = driver.find_element_by_tag_name('body')\n"
     ]
    }
   ],
   "source": [
    "golf_course_name\n",
    "url = []\n",
    "lines = []\n",
    "for i,name in enumerate(golf_course_name):\n",
    "    try:   \n",
    "        url.append(f'https://search.naver.com/search.naver?where=view&sm=tab_jum&query={quote(golf_course_name[i])}')\n",
    "        driver = webdriver.Chrome('D:\\WorkSpace\\Jeju_Electric_Vehicle_analysis\\chromedriver.exe')\n",
    "        driver.get(url[i])\n",
    "        time.sleep(2)\n",
    "        body = driver.find_element_by_tag_name('body')\n",
    "        for _ in range(50):\n",
    "            body.send_keys(Keys.PAGE_DOWN)\n",
    "            time.sleep(1)\n",
    "            soup = BeautifulSoup(driver.page_source)\n",
    "            lis = soup.select('li.bx._svp_item')\n",
    "            len(lis)\n",
    "        for li in lis:\n",
    "            try:\n",
    "                title = li.select_one('a.api_txt_lines.total_tit._cross_trigger').get_text().strip()\n",
    "                date = li.select_one('.sub_time.sub_txt').get_text().strip()\n",
    "                desc = li.select_one('.api_txt_lines.dsc_txt').get_text().strip()\n",
    "                href = li.select_one('a.api_txt_lines.total_tit._cross_trigger')['href']\n",
    "                name = golf_course_name[i]\n",
    "                lines.append([title,convert_date(date),desc,href,name])\n",
    "            except:\n",
    "                 if li.select_one('a.api_txt_lines.total_tit._cross_trigger').get_text().strip() == None:\n",
    "                        title = '내용이없습니다.'\n",
    "                 if li.select_one('.api_txt_lines.dsc_txt').get_text()==None:\n",
    "                        desc == '내용이없습니다.'\n",
    "    except:\n",
    "        pass"
   ]
  },
  {
   "cell_type": "code",
   "execution_count": 75,
   "metadata": {},
   "outputs": [],
   "source": [
    "driver.quit()"
   ]
  },
  {
   "cell_type": "code",
   "execution_count": 67,
   "metadata": {},
   "outputs": [
    {
     "name": "stderr",
     "output_type": "stream",
     "text": [
      "C:\\Users\\alsdn\\AppData\\Local\\Temp/ipykernel_1596/1812352079.py:2: DeprecationWarning: executable_path has been deprecated, please pass in a Service object\n",
      "  driver = webdriver.Chrome('D:\\WorkSpace\\Jeju_Electric_Vehicle_analysis\\chromedriver.exe')\n"
     ]
    }
   ],
   "source": []
  },
  {
   "cell_type": "code",
   "execution_count": 82,
   "metadata": {},
   "outputs": [
    {
     "data": {
      "text/html": [
       "<div>\n",
       "<style scoped>\n",
       "    .dataframe tbody tr th:only-of-type {\n",
       "        vertical-align: middle;\n",
       "    }\n",
       "\n",
       "    .dataframe tbody tr th {\n",
       "        vertical-align: top;\n",
       "    }\n",
       "\n",
       "    .dataframe thead th {\n",
       "        text-align: right;\n",
       "    }\n",
       "</style>\n",
       "<table border=\"1\" class=\"dataframe\">\n",
       "  <thead>\n",
       "    <tr style=\"text-align: right;\">\n",
       "      <th></th>\n",
       "      <th>제목</th>\n",
       "      <th>날짜</th>\n",
       "      <th>내용</th>\n",
       "      <th>href</th>\n",
       "      <th>골프장명</th>\n",
       "    </tr>\n",
       "  </thead>\n",
       "  <tbody>\n",
       "    <tr>\n",
       "      <th>0</th>\n",
       "      <td>제주도 골프장 제주 그린필드CC 가성비 부킹 예약 라운드 괜찮음!</td>\n",
       "      <td>2021.08.19</td>\n",
       "      <td>비오는날 가봤던 제주도 골프장 제주 그린필드CC 부킹 예약 라운드 후기 입니다. 제...</td>\n",
       "      <td>https://blog.naver.com/ufohaw0359/222476351752</td>\n",
       "      <td>그린필드CC</td>\n",
       "    </tr>\n",
       "    <tr>\n",
       "      <th>1</th>\n",
       "      <td>감탄했던 제주 그린필드cc 맛집</td>\n",
       "      <td>2022.02.07</td>\n",
       "      <td>친구들과 떠난 제주 여행에서 들린 제주 그린필드cc 맛집 바다풍경횟집 소개해드릴께요...</td>\n",
       "      <td>https://blog.naver.com/ogiya8282/222638917594</td>\n",
       "      <td>그린필드CC</td>\n",
       "    </tr>\n",
       "    <tr>\n",
       "      <th>2</th>\n",
       "      <td>제주도 골프장 그린필드cc 2인 라운딩 후기, 제주 골프 여행 예약은 골프부킹황제</td>\n",
       "      <td>2021.09.22</td>\n",
       "      <td>있는 그린필드 컨트리클럽에서 와이프와 2인 라운딩을 즐길 수 있었습니다. 가성비 좋...</td>\n",
       "      <td>https://blog.naver.com/double_bogey/222513188289</td>\n",
       "      <td>그린필드CC</td>\n",
       "    </tr>\n",
       "    <tr>\n",
       "      <th>3</th>\n",
       "      <td>제주 그린필드cc 2인 조인 예약 가격대비 실화?</td>\n",
       "      <td>2022.03.10</td>\n",
       "      <td>제가 골프장 예약부터 이동 차량까지 확실하게 준비해 드리겠습니다 ^_^ #제주그린필...</td>\n",
       "      <td>https://blog.naver.com/tourjejudo064/222668966033</td>\n",
       "      <td>그린필드CC</td>\n",
       "    </tr>\n",
       "    <tr>\n",
       "      <th>4</th>\n",
       "      <td>그린필드CC 2인라운딩 제주도골프장</td>\n",
       "      <td>2021.09.14</td>\n",
       "      <td>그린필드CC 2인라운딩 제주도골프장 그린필드CC 위치안내 : 제주공항에서 약30분 ...</td>\n",
       "      <td>https://blog.naver.com/ieeo/222504464418</td>\n",
       "      <td>그린필드CC</td>\n",
       "    </tr>\n",
       "  </tbody>\n",
       "</table>\n",
       "</div>"
      ],
      "text/plain": [
       "                                              제목          날짜  \\\n",
       "0           제주도 골프장 제주 그린필드CC 가성비 부킹 예약 라운드 괜찮음!  2021.08.19   \n",
       "1                              감탄했던 제주 그린필드cc 맛집  2022.02.07   \n",
       "2  제주도 골프장 그린필드cc 2인 라운딩 후기, 제주 골프 여행 예약은 골프부킹황제  2021.09.22   \n",
       "3                    제주 그린필드cc 2인 조인 예약 가격대비 실화?  2022.03.10   \n",
       "4                            그린필드CC 2인라운딩 제주도골프장  2021.09.14   \n",
       "\n",
       "                                                  내용  \\\n",
       "0  비오는날 가봤던 제주도 골프장 제주 그린필드CC 부킹 예약 라운드 후기 입니다. 제...   \n",
       "1  친구들과 떠난 제주 여행에서 들린 제주 그린필드cc 맛집 바다풍경횟집 소개해드릴께요...   \n",
       "2  있는 그린필드 컨트리클럽에서 와이프와 2인 라운딩을 즐길 수 있었습니다. 가성비 좋...   \n",
       "3  제가 골프장 예약부터 이동 차량까지 확실하게 준비해 드리겠습니다 ^_^ #제주그린필...   \n",
       "4  그린필드CC 2인라운딩 제주도골프장 그린필드CC 위치안내 : 제주공항에서 약30분 ...   \n",
       "\n",
       "                                                href    골프장명  \n",
       "0     https://blog.naver.com/ufohaw0359/222476351752  그린필드CC  \n",
       "1      https://blog.naver.com/ogiya8282/222638917594  그린필드CC  \n",
       "2   https://blog.naver.com/double_bogey/222513188289  그린필드CC  \n",
       "3  https://blog.naver.com/tourjejudo064/222668966033  그린필드CC  \n",
       "4           https://blog.naver.com/ieeo/222504464418  그린필드CC  "
      ]
     },
     "execution_count": 82,
     "metadata": {},
     "output_type": "execute_result"
    }
   ],
   "source": [
    "df = pd.DataFrame(lines, columns=['제목','날짜','내용','href','골프장명'])\n",
    "df[['제목','날짜','내용','href','골프장명']].head()"
   ]
  },
  {
   "cell_type": "code",
   "execution_count": 96,
   "metadata": {},
   "outputs": [
    {
     "data": {
      "text/plain": [
       "<AxesSubplot:>"
      ]
     },
     "execution_count": 96,
     "metadata": {},
     "output_type": "execute_result"
    },
    {
     "data": {
      "image/png": "[encoded data removed]",
      "text/plain": [
       "<Figure size 1800x1440 with 1 Axes>"
      ]
     },
     "metadata": {
      "needs_background": "light"
     },
     "output_type": "display_data"
    }
   ],
   "source": [
    "plt.figure(figsize=(25,20))\n",
    "df.골프장명.value_counts().plot.barh(fontsize=20)"
   ]
  },
  {
   "cell_type": "code",
   "execution_count": 93,
   "metadata": {},
   "outputs": [
    {
     "data": {
      "text/plain": [
       "2022.03.11    38\n",
       "2022.03.10    34\n",
       "2022.03.04    32\n",
       "2022.03.08    30\n",
       "2022.03.17    30\n",
       "              ..\n",
       "2018.06.07     1\n",
       "2018.05.16     1\n",
       "2018.11.26     1\n",
       "2019.07.14     1\n",
       "2021.07.26     1\n",
       "Name: 날짜, Length: 774, dtype: int64"
      ]
     },
     "execution_count": 93,
     "metadata": {},
     "output_type": "execute_result"
    }
   ],
   "source": [
    "df.날짜.value_counts()"
   ]
  },
  {
   "cell_type": "code",
   "execution_count": 97,
   "metadata": {},
   "outputs": [],
   "source": [
    "df.to_csv('골프장네이버크롤링.csv',index=False)"
   ]
  },
  {
   "cell_type": "code",
   "execution_count": null,
   "metadata": {},
   "outputs": [],
   "source": []
  }
 ],
 "metadata": {
  "interpreter": {
   "hash": "982c78d920726c4e066517e5f806c5a92239fdf1e257c5744bcc49f815c4d4bb"
  },
  "kernelspec": {
   "display_name": "Python 3 (ipykernel)",
   "language": "python",
   "name": "python3"
  },
  "language_info": {
   "codemirror_mode": {
    "name": "ipython",
    "version": 3
   },
   "file_extension": ".py",
   "mimetype": "text/x-python",
   "name": "python",
   "nbconvert_exporter": "python",
   "pygments_lexer": "ipython3",
   "version": "3.9.7"
  }
 },
 "nbformat": 4,
 "nbformat_minor": 4
}
