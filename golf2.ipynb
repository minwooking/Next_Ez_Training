{
 "cells": [
  {
   "cell_type": "code",
   "execution_count": 52,
   "metadata": {},
   "outputs": [],
   "source": [
    "import numpy as np\n",
    "import pandas as pd\n",
    "import copy\n",
    "import seaborn as sns\n",
    "import matplotlib "
   ]
  },
  {
   "cell_type": "code",
   "execution_count": 2,
   "metadata": {},
   "outputs": [],
   "source": [
    "df = pd.read_csv('골프장데이터합친거.csv')"
   ]
  },
  {
   "cell_type": "code",
   "execution_count": 7,
   "metadata": {},
   "outputs": [
    {
     "data": {
      "text/plain": [
       "골프장명           0\n",
       "골프장지역명         0\n",
       "대중제,회원제        0\n",
       "18             0\n",
       "사용일자           0\n",
       "사용시간           0\n",
       "성별코드           0\n",
       "나이         15228\n",
       "도민,비도민         0\n",
       "실력         23448\n",
       "골프경력       25557\n",
       "평균사용값      25561\n",
       "사용성향       26709\n",
       "판매업체명          0\n",
       "dtype: int64"
      ]
     },
     "execution_count": 7,
     "metadata": {},
     "output_type": "execute_result"
    }
   ],
   "source": [
    "df.isnull().sum()"
   ]
  },
  {
   "cell_type": "code",
   "execution_count": 15,
   "metadata": {},
   "outputs": [],
   "source": [
    "del df['골프경력']"
   ]
  },
  {
   "cell_type": "code",
   "execution_count": 20,
   "metadata": {},
   "outputs": [],
   "source": [
    "df.dropna(axis=0,inplace=True)"
   ]
  },
  {
   "cell_type": "code",
   "execution_count": 26,
   "metadata": {},
   "outputs": [],
   "source": [
    "df.reset_index(drop=True,inplace=True)"
   ]
  },
  {
   "cell_type": "code",
   "execution_count": 27,
   "metadata": {},
   "outputs": [
    {
     "data": {
      "text/html": [
       "<div>\n",
       "<style scoped>\n",
       "    .dataframe tbody tr th:only-of-type {\n",
       "        vertical-align: middle;\n",
       "    }\n",
       "\n",
       "    .dataframe tbody tr th {\n",
       "        vertical-align: top;\n",
       "    }\n",
       "\n",
       "    .dataframe thead th {\n",
       "        text-align: right;\n",
       "    }\n",
       "</style>\n",
       "<table border=\"1\" class=\"dataframe\">\n",
       "  <thead>\n",
       "    <tr style=\"text-align: right;\">\n",
       "      <th></th>\n",
       "      <th>골프장명</th>\n",
       "      <th>골프장지역명</th>\n",
       "      <th>대중제,회원제</th>\n",
       "      <th>18</th>\n",
       "      <th>사용일자</th>\n",
       "      <th>사용시간</th>\n",
       "      <th>성별코드</th>\n",
       "      <th>나이</th>\n",
       "      <th>도민,비도민</th>\n",
       "      <th>판매업체명</th>\n",
       "    </tr>\n",
       "  </thead>\n",
       "  <tbody>\n",
       "    <tr>\n",
       "      <th>0</th>\n",
       "      <td>중문GC</td>\n",
       "      <td>서귀포권</td>\n",
       "      <td>대중제</td>\n",
       "      <td>18</td>\n",
       "      <td>20210531</td>\n",
       "      <td>83537</td>\n",
       "      <td>1</td>\n",
       "      <td>40.0</td>\n",
       "      <td>도민</td>\n",
       "      <td>통화</td>\n",
       "    </tr>\n",
       "    <tr>\n",
       "      <th>1</th>\n",
       "      <td>더클래식CC</td>\n",
       "      <td>동부권</td>\n",
       "      <td>대중제</td>\n",
       "      <td>18</td>\n",
       "      <td>20210706</td>\n",
       "      <td>133106</td>\n",
       "      <td>2</td>\n",
       "      <td>40.0</td>\n",
       "      <td>도민</td>\n",
       "      <td>통화</td>\n",
       "    </tr>\n",
       "    <tr>\n",
       "      <th>2</th>\n",
       "      <td>더클래식CC</td>\n",
       "      <td>동부권</td>\n",
       "      <td>대중제</td>\n",
       "      <td>18</td>\n",
       "      <td>20210706</td>\n",
       "      <td>134812</td>\n",
       "      <td>2</td>\n",
       "      <td>40.0</td>\n",
       "      <td>도민</td>\n",
       "      <td>통화</td>\n",
       "    </tr>\n",
       "    <tr>\n",
       "      <th>3</th>\n",
       "      <td>제주CC</td>\n",
       "      <td>제주시권</td>\n",
       "      <td>대중제</td>\n",
       "      <td>18</td>\n",
       "      <td>20210706</td>\n",
       "      <td>134846</td>\n",
       "      <td>2</td>\n",
       "      <td>40.0</td>\n",
       "      <td>도민</td>\n",
       "      <td>통화</td>\n",
       "    </tr>\n",
       "    <tr>\n",
       "      <th>4</th>\n",
       "      <td>스프링데일CC</td>\n",
       "      <td>동부권</td>\n",
       "      <td>대중제</td>\n",
       "      <td>18</td>\n",
       "      <td>20210706</td>\n",
       "      <td>135804</td>\n",
       "      <td>1</td>\n",
       "      <td>40.0</td>\n",
       "      <td>도민</td>\n",
       "      <td>통화</td>\n",
       "    </tr>\n",
       "    <tr>\n",
       "      <th>...</th>\n",
       "      <td>...</td>\n",
       "      <td>...</td>\n",
       "      <td>...</td>\n",
       "      <td>...</td>\n",
       "      <td>...</td>\n",
       "      <td>...</td>\n",
       "      <td>...</td>\n",
       "      <td>...</td>\n",
       "      <td>...</td>\n",
       "      <td>...</td>\n",
       "    </tr>\n",
       "    <tr>\n",
       "      <th>30093</th>\n",
       "      <td>라온GC</td>\n",
       "      <td>서부권</td>\n",
       "      <td>대중제</td>\n",
       "      <td>27</td>\n",
       "      <td>20201224</td>\n",
       "      <td>1132</td>\n",
       "      <td>2</td>\n",
       "      <td>30.0</td>\n",
       "      <td>도민</td>\n",
       "      <td>라온GC</td>\n",
       "    </tr>\n",
       "    <tr>\n",
       "      <th>30094</th>\n",
       "      <td>아덴힐GC</td>\n",
       "      <td>서부권</td>\n",
       "      <td>대중제</td>\n",
       "      <td>18</td>\n",
       "      <td>20210115</td>\n",
       "      <td>809</td>\n",
       "      <td>1</td>\n",
       "      <td>40.0</td>\n",
       "      <td>도민</td>\n",
       "      <td>아덴힐GC</td>\n",
       "    </tr>\n",
       "    <tr>\n",
       "      <th>30095</th>\n",
       "      <td>아덴힐GC</td>\n",
       "      <td>서부권</td>\n",
       "      <td>대중제</td>\n",
       "      <td>18</td>\n",
       "      <td>20210113</td>\n",
       "      <td>816</td>\n",
       "      <td>2</td>\n",
       "      <td>40.0</td>\n",
       "      <td>도민</td>\n",
       "      <td>아덴힐GC</td>\n",
       "    </tr>\n",
       "    <tr>\n",
       "      <th>30096</th>\n",
       "      <td>아덴힐GC</td>\n",
       "      <td>서부권</td>\n",
       "      <td>대중제</td>\n",
       "      <td>18</td>\n",
       "      <td>20201228</td>\n",
       "      <td>1215</td>\n",
       "      <td>2</td>\n",
       "      <td>40.0</td>\n",
       "      <td>도민</td>\n",
       "      <td>아덴힐GC</td>\n",
       "    </tr>\n",
       "    <tr>\n",
       "      <th>30097</th>\n",
       "      <td>더클래식CC</td>\n",
       "      <td>동부권</td>\n",
       "      <td>대중제</td>\n",
       "      <td>18</td>\n",
       "      <td>20210119</td>\n",
       "      <td>756</td>\n",
       "      <td>1</td>\n",
       "      <td>40.0</td>\n",
       "      <td>도민</td>\n",
       "      <td>섬프로</td>\n",
       "    </tr>\n",
       "  </tbody>\n",
       "</table>\n",
       "<p>30098 rows × 10 columns</p>\n",
       "</div>"
      ],
      "text/plain": [
       "          골프장명 골프장지역명 대중제,회원제  18      사용일자    사용시간  성별코드    나이 도민,비도민  판매업체명\n",
       "0         중문GC   서귀포권     대중제  18  20210531   83537     1  40.0     도민     통화\n",
       "1       더클래식CC    동부권     대중제  18  20210706  133106     2  40.0     도민     통화\n",
       "2       더클래식CC    동부권     대중제  18  20210706  134812     2  40.0     도민     통화\n",
       "3         제주CC   제주시권     대중제  18  20210706  134846     2  40.0     도민     통화\n",
       "4      스프링데일CC    동부권     대중제  18  20210706  135804     1  40.0     도민     통화\n",
       "...        ...    ...     ...  ..       ...     ...   ...   ...    ...    ...\n",
       "30093     라온GC    서부권     대중제  27  20201224    1132     2  30.0     도민   라온GC\n",
       "30094    아덴힐GC    서부권     대중제  18  20210115     809     1  40.0     도민  아덴힐GC\n",
       "30095    아덴힐GC    서부권     대중제  18  20210113     816     2  40.0     도민  아덴힐GC\n",
       "30096    아덴힐GC    서부권     대중제  18  20201228    1215     2  40.0     도민  아덴힐GC\n",
       "30097   더클래식CC    동부권     대중제  18  20210119     756     1  40.0     도민    섬프로\n",
       "\n",
       "[30098 rows x 10 columns]"
      ]
     },
     "execution_count": 27,
     "metadata": {},
     "output_type": "execute_result"
    }
   ],
   "source": [
    "df"
   ]
  },
  {
   "cell_type": "code",
   "execution_count": 33,
   "metadata": {},
   "outputs": [],
   "source": [
    "df.성별코드=df.성별코드.apply(lambda x: 2 if x==0 else x)"
   ]
  },
  {
   "cell_type": "code",
   "execution_count": 34,
   "metadata": {},
   "outputs": [
    {
     "data": {
      "text/plain": [
       "1    22069\n",
       "2     8029\n",
       "Name: 성별코드, dtype: int64"
      ]
     },
     "execution_count": 34,
     "metadata": {},
     "output_type": "execute_result"
    }
   ],
   "source": [
    "df.성별코드.value_counts()"
   ]
  },
  {
   "cell_type": "code",
   "execution_count": 36,
   "metadata": {},
   "outputs": [
    {
     "data": {
      "text/plain": [
       "40.0    15244\n",
       "50.0     7252\n",
       "30.0     5432\n",
       "60.0     1105\n",
       "20.0      950\n",
       "10.0       95\n",
       "70.0       20\n",
       "Name: 나이, dtype: int64"
      ]
     },
     "execution_count": 36,
     "metadata": {},
     "output_type": "execute_result"
    }
   ],
   "source": [
    "df.나이.value_counts()"
   ]
  },
  {
   "cell_type": "code",
   "execution_count": 40,
   "metadata": {},
   "outputs": [
    {
     "data": {
      "text/plain": [
       "대중제        21256\n",
       "회원제+대중제     5170\n",
       "회원제         3672\n",
       "Name: 대중제,회원제, dtype: int64"
      ]
     },
     "execution_count": 40,
     "metadata": {},
     "output_type": "execute_result"
    }
   ],
   "source": [
    "df['대중제,회원제'].value_counts()"
   ]
  },
  {
   "cell_type": "code",
   "execution_count": 43,
   "metadata": {},
   "outputs": [
    {
     "data": {
      "text/plain": [
       "18    15005\n",
       "27     9257\n",
       "36     5403\n",
       "9       433\n",
       "Name: 18, dtype: int64"
      ]
     },
     "execution_count": 43,
     "metadata": {},
     "output_type": "execute_result"
    }
   ],
   "source": [
    "df['18'].value_counts()"
   ]
  },
  {
   "cell_type": "code",
   "execution_count": 49,
   "metadata": {},
   "outputs": [
    {
     "data": {
      "text/plain": [
       "골프장명           중문GC\n",
       "골프장지역명         서귀포권\n",
       "대중제,회원제         대중제\n",
       "홀수               18\n",
       "사용일자       20210531\n",
       "사용시간          83537\n",
       "성별코드              1\n",
       "나이             40.0\n",
       "도민,비도민           도민\n",
       "판매업체명            통화\n",
       "Name: 0, dtype: object"
      ]
     },
     "execution_count": 49,
     "metadata": {},
     "output_type": "execute_result"
    }
   ],
   "source": [
    "df.rename(columns={'18':'홀수'},inplace=True)\n",
    "df.iloc[0][:]"
   ]
  },
  {
   "cell_type": "code",
   "execution_count": 50,
   "metadata": {},
   "outputs": [],
   "source": [
    "df.to_csv('정제한골프장데이터.csv',index=False)"
   ]
  },
  {
   "cell_type": "code",
   "execution_count": 51,
   "metadata": {},
   "outputs": [
    {
     "data": {
      "text/plain": [
       "통화               12923\n",
       "라온GC              5031\n",
       "아덴힐GC             3623\n",
       "섬프로               3346\n",
       "해비치CC             3023\n",
       "사이프러스CC            509\n",
       "(주)부민가자투어          508\n",
       "슬기로운골프생활           387\n",
       "섬프로(롯데스카이힐)        339\n",
       "섬프로(타미우스)          281\n",
       "(주)부민가자투어(오라)       47\n",
       "오라CC                38\n",
       "섬프로(해비치)            30\n",
       "엘리시안C.C             13\n",
       "Name: 판매업체명, dtype: int64"
      ]
     },
     "execution_count": 51,
     "metadata": {},
     "output_type": "execute_result"
    }
   ],
   "source": [
    "df['판매업체명'].value_counts()"
   ]
  },
  {
   "cell_type": "code",
   "execution_count": null,
   "metadata": {},
   "outputs": [],
   "source": []
  }
 ],
 "metadata": {
  "interpreter": {
   "hash": "3d88519486fb7f303604b42e7326b7f6f54b322c9ba994a96dc12436522773d9"
  },
  "kernelspec": {
   "display_name": "Python 3.9.7 ('base')",
   "language": "python",
   "name": "python3"
  },
  "language_info": {
   "codemirror_mode": {
    "name": "ipython",
    "version": 3
   },
   "file_extension": ".py",
   "mimetype": "text/x-python",
   "name": "python",
   "nbconvert_exporter": "python",
   "pygments_lexer": "ipython3",
   "version": "3.9.7"
  },
  "orig_nbformat": 4
 },
 "nbformat": 4,
 "nbformat_minor": 2
}
