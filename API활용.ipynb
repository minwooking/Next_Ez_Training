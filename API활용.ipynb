{
 "cells": [
  {
   "cell_type": "code",
   "execution_count": 35,
   "metadata": {},
   "outputs": [],
   "source": [
    "import requests\n",
    "import pprint\n",
    "import json\n",
    "mykey = 'o0eoer208r041oobtt24r441b_1b1poo'\n",
    "url = 'https://open.jejudatahub.net/api/proxy/5D5a577taba7tbb71at1b1bt9tatata9/o0eoer208r041oobtt24r441b_1b1poo?startDate=201601&endDate=201812'"
   ]
  },
  {
   "cell_type": "code",
   "execution_count": 36,
   "metadata": {},
   "outputs": [],
   "source": [
    "response = requests.get(url)"
   ]
  },
  {
   "cell_type": "code",
   "execution_count": 37,
   "metadata": {},
   "outputs": [],
   "source": [
    "contents = response.text"
   ]
  },
  {
   "cell_type": "code",
   "execution_count": 41,
   "metadata": {},
   "outputs": [
    {
     "data": {
      "text/plain": [
       "'{\"totCnt\":19573,\"hasMore\":true,\"data\":[{\"sido\":\"제주도\",\"sigungu\":\"제주시\",\"cityGubun\":\"읍면\",\"marketType\":\"유흥\",\"userType\":\"제주도민\",\"ageGroup\":\"60대이상\",\"gender\":\"여\",\"dtYearMonth\":\"201812\",\"userCount\":23,\"useCount\":29,\"useCost\":4240100},{\"sido\":\"제주도\",\"sigungu\":\"제주시\",\"cityGubun\":\"읍면\",\"marketType\":\"유흥\",\"userType\":\"제주도민\",\"ageGroup\":\"60대이상\",\"gender\":\"남\",\"dtYearMonth\":\"201812\",\"userCount\":114,\"useCount\":190,\"useCost\":27414000},{\"sido\":\"제주도\",\"sigungu\":\"제주시\",\"cityGubun\":\"읍면\",\"marketType\":\"유흥\",\"userType\":\"제주도민\",\"ageGroup\":\"50대\",\"gender\":\"여\",\"dtYearMonth\":\"201812\",\"userCount\":52,\"useCount\":71,\"useCost\":6848000},{\"sido\":\"제주도\",\"sigungu\":\"제주시\",\"cityGubun\":\"읍면\",\"marketType\":\"유흥\",\"userType\":\"제주도민\",\"ageGroup\":\"50대\",\"gender\":\"남\",\"dtYearMonth\":\"201812\",\"userCount\":259,\"useCount\":458,\"useCost\":91468500},{\"sido\":\"제주도\",\"sigungu\":\"제주시\",\"cityGubun\":\"읍면\",\"marketType\":\"유흥\",\"userType\":\"제주도민\",\"ageGroup\":\"40대\",\"gender\":\"여\",\"dtYearMonth\":\"201812\",\"userCount\":77,\"useCount\":99,\"useCost\":10021600},{\"sido\":\"제주도\",\"sigungu\":\"제주시\",\"cityGubun\":\"읍면\",\"marketType\":\"유흥\",\"userType\":\"제주도민\",\"ageGroup\":\"40대\",\"gender\":\"남\",\"dtYearMonth\":\"201812\",\"userCount\":238,\"useCount\":375,\"useCost\":63455500},{\"sido\":\"제주도\",\"sigungu\":\"제주시\",\"cityGubun\":\"읍면\",\"marketType\":\"유흥\",\"userType\":\"제주도민\",\"ageGroup\":\"30대\",\"gender\":\"여\",\"dtYearMonth\":\"201812\",\"userCount\":43,\"useCount\":61,\"useCost\":8359000},{\"sido\":\"제주도\",\"sigungu\":\"제주시\",\"cityGubun\":\"읍면\",\"marketType\":\"유흥\",\"userType\":\"제주도민\",\"ageGroup\":\"30대\",\"gender\":\"남\",\"dtYearMonth\":\"201812\",\"userCount\":129,\"useCount\":188,\"useCost\":25670700},{\"sido\":\"제주도\",\"sigungu\":\"제주시\",\"cityGubun\":\"읍면\",\"marketType\":\"유흥\",\"userType\":\"제주도민\",\"ageGroup\":\"20대미만\",\"gender\":\"남\",\"dtYearMonth\":\"201812\",\"userCount\":1,\"useCount\":3,\"useCost\":680000},{\"sido\":\"제주도\",\"sigungu\":\"제주시\",\"cityGubun\":\"읍면\",\"marketType\":\"유흥\",\"userType\":\"제주도민\",\"ageGroup\":\"20대\",\"gender\":\"여\",\"dtYearMonth\":\"201812\",\"userCount\":38,\"useCount\":43,\"useCost\":2391000}]}'"
      ]
     },
     "execution_count": 41,
     "metadata": {},
     "output_type": "execute_result"
    }
   ],
   "source": [
    "contents"
   ]
  },
  {
   "cell_type": "code",
   "execution_count": null,
   "metadata": {},
   "outputs": [],
   "source": []
  }
 ],
 "metadata": {
  "interpreter": {
   "hash": "3d88519486fb7f303604b42e7326b7f6f54b322c9ba994a96dc12436522773d9"
  },
  "kernelspec": {
   "display_name": "Python 3.9.7 ('base')",
   "language": "python",
   "name": "python3"
  },
  "language_info": {
   "codemirror_mode": {
    "name": "ipython",
    "version": 3
   },
   "file_extension": ".py",
   "mimetype": "text/x-python",
   "name": "python",
   "nbconvert_exporter": "python",
   "pygments_lexer": "ipython3",
   "version": "3.9.7"
  },
  "orig_nbformat": 4
 },
 "nbformat": 4,
 "nbformat_minor": 2
}
