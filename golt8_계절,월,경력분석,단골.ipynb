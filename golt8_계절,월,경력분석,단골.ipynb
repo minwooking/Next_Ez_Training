{
 "cells": [
  {
   "cell_type": "markdown",
   "metadata": {},
   "source": [
    "# 골프장 계절, 및 지역 분석"
   ]
  },
  {
   "cell_type": "markdown",
   "metadata": {},
   "source": [
    "## 사용라이브러리"
   ]
  },
  {
   "cell_type": "code",
   "execution_count": 2,
   "metadata": {},
   "outputs": [],
   "source": [
    "import pandas as pd\n",
    "import numpy as np\n",
    "import copy\n",
    "import matplotlib.pyplot as plt\n",
    "import matplotlib as mpl\n",
    "mpl.rcParams['axes.unicode_minus'] = False\n",
    "plt.rcParams['font.family'] = 'Malgun Gothic'"
   ]
  },
  {
   "cell_type": "markdown",
   "metadata": {},
   "source": [
    "## 사용데이터"
   ]
  },
  {
   "cell_type": "code",
   "execution_count": 173,
   "metadata": {},
   "outputs": [
    {
     "name": "stderr",
     "output_type": "stream",
     "text": [
      "C:\\src\\anaconda3\\lib\\site-packages\\IPython\\core\\interactiveshell.py:3444: DtypeWarning: Columns (6,9) have mixed types.Specify dtype option on import or set low_memory=False.\n",
      "  exec(code_obj, self.user_global_ns, self.user_ns)\n"
     ]
    },
    {
     "data": {
      "text/html": [
       "<div>\n",
       "<style scoped>\n",
       "    .dataframe tbody tr th:only-of-type {\n",
       "        vertical-align: middle;\n",
       "    }\n",
       "\n",
       "    .dataframe tbody tr th {\n",
       "        vertical-align: top;\n",
       "    }\n",
       "\n",
       "    .dataframe thead th {\n",
       "        text-align: right;\n",
       "    }\n",
       "</style>\n",
       "<table border=\"1\" class=\"dataframe\">\n",
       "  <thead>\n",
       "    <tr style=\"text-align: right;\">\n",
       "      <th></th>\n",
       "      <th>골프장명</th>\n",
       "      <th>골프장지역명</th>\n",
       "      <th>골프장멤버십값</th>\n",
       "      <th>골프장유형값</th>\n",
       "      <th>사용일자</th>\n",
       "      <th>사용시간값</th>\n",
       "      <th>사용유형명</th>\n",
       "      <th>거주자금액</th>\n",
       "      <th>비거주자금액</th>\n",
       "      <th>결제수단명</th>\n",
       "      <th>...</th>\n",
       "      <th>예약자연령대코드</th>\n",
       "      <th>예약자거주지값</th>\n",
       "      <th>예약자평균값</th>\n",
       "      <th>예약자골프경력값</th>\n",
       "      <th>예약자평균사용값</th>\n",
       "      <th>예약자사용성향값</th>\n",
       "      <th>통화일자</th>\n",
       "      <th>통화시간</th>\n",
       "      <th>해당년도</th>\n",
       "      <th>통화,사용일자년도</th>\n",
       "    </tr>\n",
       "  </thead>\n",
       "  <tbody>\n",
       "    <tr>\n",
       "      <th>0</th>\n",
       "      <td>해비치CC</td>\n",
       "      <td>동부권</td>\n",
       "      <td>회원제+대중제</td>\n",
       "      <td>36</td>\n",
       "      <td>202101.0</td>\n",
       "      <td>815.0</td>\n",
       "      <td>SKY</td>\n",
       "      <td>170000.0</td>\n",
       "      <td>170000.0</td>\n",
       "      <td>현장결제</td>\n",
       "      <td>...</td>\n",
       "      <td>50.0</td>\n",
       "      <td>비도민</td>\n",
       "      <td>8</td>\n",
       "      <td>NaN</td>\n",
       "      <td>NaN</td>\n",
       "      <td>NaN</td>\n",
       "      <td>NaN</td>\n",
       "      <td>NaN</td>\n",
       "      <td>2021.0</td>\n",
       "      <td>2021</td>\n",
       "    </tr>\n",
       "    <tr>\n",
       "      <th>1</th>\n",
       "      <td>아덴힐GC</td>\n",
       "      <td>서부권</td>\n",
       "      <td>대중제</td>\n",
       "      <td>18</td>\n",
       "      <td>202101.0</td>\n",
       "      <td>809.0</td>\n",
       "      <td>왕이메</td>\n",
       "      <td>90000.0</td>\n",
       "      <td>135000.0</td>\n",
       "      <td>현장결제</td>\n",
       "      <td>...</td>\n",
       "      <td>50.0</td>\n",
       "      <td>비도민</td>\n",
       "      <td>8</td>\n",
       "      <td>NaN</td>\n",
       "      <td>NaN</td>\n",
       "      <td>NaN</td>\n",
       "      <td>NaN</td>\n",
       "      <td>NaN</td>\n",
       "      <td>2021.0</td>\n",
       "      <td>2021</td>\n",
       "    </tr>\n",
       "    <tr>\n",
       "      <th>2</th>\n",
       "      <td>아덴힐GC</td>\n",
       "      <td>서부권</td>\n",
       "      <td>대중제</td>\n",
       "      <td>18</td>\n",
       "      <td>202101.0</td>\n",
       "      <td>823.0</td>\n",
       "      <td>왕이메</td>\n",
       "      <td>90000.0</td>\n",
       "      <td>135000.0</td>\n",
       "      <td>현장결제</td>\n",
       "      <td>...</td>\n",
       "      <td>50.0</td>\n",
       "      <td>도민</td>\n",
       "      <td>14</td>\n",
       "      <td>NaN</td>\n",
       "      <td>NaN</td>\n",
       "      <td>NaN</td>\n",
       "      <td>NaN</td>\n",
       "      <td>NaN</td>\n",
       "      <td>2021.0</td>\n",
       "      <td>2021</td>\n",
       "    </tr>\n",
       "  </tbody>\n",
       "</table>\n",
       "<p>3 rows × 27 columns</p>\n",
       "</div>"
      ],
      "text/plain": [
       "    골프장명 골프장지역명  골프장멤버십값  골프장유형값      사용일자  사용시간값 사용유형명     거주자금액    비거주자금액  \\\n",
       "0  해비치CC    동부권  회원제+대중제      36  202101.0  815.0   SKY  170000.0  170000.0   \n",
       "1  아덴힐GC    서부권      대중제      18  202101.0  809.0   왕이메   90000.0  135000.0   \n",
       "2  아덴힐GC    서부권      대중제      18  202101.0  823.0   왕이메   90000.0  135000.0   \n",
       "\n",
       "  결제수단명  ...  예약자연령대코드  예약자거주지값  예약자평균값  예약자골프경력값  예약자평균사용값 예약자사용성향값  통화일자  \\\n",
       "0  현장결제  ...      50.0      비도민       8       NaN       NaN      NaN   NaN   \n",
       "1  현장결제  ...      50.0      비도민       8       NaN       NaN      NaN   NaN   \n",
       "2  현장결제  ...      50.0       도민      14       NaN       NaN      NaN   NaN   \n",
       "\n",
       "   통화시간    해당년도 통화,사용일자년도  \n",
       "0   NaN  2021.0      2021  \n",
       "1   NaN  2021.0      2021  \n",
       "2   NaN  2021.0      2021  \n",
       "\n",
       "[3 rows x 27 columns]"
      ]
     },
     "execution_count": 173,
     "metadata": {},
     "output_type": "execute_result"
    }
   ],
   "source": [
    "# df = pd.read_csv('C:\\\\workspace\\\\Next_Ez_Training\\\\data\\\\golflike\\\\골프장데이터_해당년도_추가.csv')\n",
    "df.head(3)"
   ]
  },
  {
   "cell_type": "markdown",
   "metadata": {},
   "source": [
    "## 계절별 칼럼 추가하기\n",
    "- 겨울 12 , 1 ,2 봄 3,4,5 여름 6,7,8 가을 9,10,11"
   ]
  },
  {
   "cell_type": "code",
   "execution_count": 174,
   "metadata": {},
   "outputs": [],
   "source": [
    "df['계절']='사계절' ## 빈칼럼 새성 "
   ]
  },
  {
   "cell_type": "code",
   "execution_count": 175,
   "metadata": {},
   "outputs": [
    {
     "data": {
      "text/html": [
       "<div>\n",
       "<style scoped>\n",
       "    .dataframe tbody tr th:only-of-type {\n",
       "        vertical-align: middle;\n",
       "    }\n",
       "\n",
       "    .dataframe tbody tr th {\n",
       "        vertical-align: top;\n",
       "    }\n",
       "\n",
       "    .dataframe thead th {\n",
       "        text-align: right;\n",
       "    }\n",
       "</style>\n",
       "<table border=\"1\" class=\"dataframe\">\n",
       "  <thead>\n",
       "    <tr style=\"text-align: right;\">\n",
       "      <th></th>\n",
       "      <th>골프장명</th>\n",
       "      <th>골프장지역명</th>\n",
       "      <th>골프장멤버십값</th>\n",
       "      <th>골프장유형값</th>\n",
       "      <th>사용일자</th>\n",
       "      <th>사용시간값</th>\n",
       "      <th>사용유형명</th>\n",
       "      <th>거주자금액</th>\n",
       "      <th>비거주자금액</th>\n",
       "      <th>결제수단명</th>\n",
       "      <th>...</th>\n",
       "      <th>예약자거주지값</th>\n",
       "      <th>예약자평균값</th>\n",
       "      <th>예약자골프경력값</th>\n",
       "      <th>예약자평균사용값</th>\n",
       "      <th>예약자사용성향값</th>\n",
       "      <th>통화일자</th>\n",
       "      <th>통화시간</th>\n",
       "      <th>해당년도</th>\n",
       "      <th>통화,사용일자년도</th>\n",
       "      <th>계절</th>\n",
       "    </tr>\n",
       "  </thead>\n",
       "  <tbody>\n",
       "    <tr>\n",
       "      <th>0</th>\n",
       "      <td>해비치CC</td>\n",
       "      <td>동부권</td>\n",
       "      <td>회원제+대중제</td>\n",
       "      <td>36</td>\n",
       "      <td>202101.0</td>\n",
       "      <td>815.0</td>\n",
       "      <td>SKY</td>\n",
       "      <td>170000.0</td>\n",
       "      <td>170000.0</td>\n",
       "      <td>현장결제</td>\n",
       "      <td>...</td>\n",
       "      <td>비도민</td>\n",
       "      <td>8</td>\n",
       "      <td>NaN</td>\n",
       "      <td>NaN</td>\n",
       "      <td>NaN</td>\n",
       "      <td>NaN</td>\n",
       "      <td>NaN</td>\n",
       "      <td>2021.0</td>\n",
       "      <td>2021</td>\n",
       "      <td>사계절</td>\n",
       "    </tr>\n",
       "    <tr>\n",
       "      <th>1</th>\n",
       "      <td>아덴힐GC</td>\n",
       "      <td>서부권</td>\n",
       "      <td>대중제</td>\n",
       "      <td>18</td>\n",
       "      <td>202101.0</td>\n",
       "      <td>809.0</td>\n",
       "      <td>왕이메</td>\n",
       "      <td>90000.0</td>\n",
       "      <td>135000.0</td>\n",
       "      <td>현장결제</td>\n",
       "      <td>...</td>\n",
       "      <td>비도민</td>\n",
       "      <td>8</td>\n",
       "      <td>NaN</td>\n",
       "      <td>NaN</td>\n",
       "      <td>NaN</td>\n",
       "      <td>NaN</td>\n",
       "      <td>NaN</td>\n",
       "      <td>2021.0</td>\n",
       "      <td>2021</td>\n",
       "      <td>사계절</td>\n",
       "    </tr>\n",
       "    <tr>\n",
       "      <th>2</th>\n",
       "      <td>아덴힐GC</td>\n",
       "      <td>서부권</td>\n",
       "      <td>대중제</td>\n",
       "      <td>18</td>\n",
       "      <td>202101.0</td>\n",
       "      <td>823.0</td>\n",
       "      <td>왕이메</td>\n",
       "      <td>90000.0</td>\n",
       "      <td>135000.0</td>\n",
       "      <td>현장결제</td>\n",
       "      <td>...</td>\n",
       "      <td>도민</td>\n",
       "      <td>14</td>\n",
       "      <td>NaN</td>\n",
       "      <td>NaN</td>\n",
       "      <td>NaN</td>\n",
       "      <td>NaN</td>\n",
       "      <td>NaN</td>\n",
       "      <td>2021.0</td>\n",
       "      <td>2021</td>\n",
       "      <td>사계절</td>\n",
       "    </tr>\n",
       "  </tbody>\n",
       "</table>\n",
       "<p>3 rows × 28 columns</p>\n",
       "</div>"
      ],
      "text/plain": [
       "    골프장명 골프장지역명  골프장멤버십값  골프장유형값      사용일자  사용시간값 사용유형명     거주자금액    비거주자금액  \\\n",
       "0  해비치CC    동부권  회원제+대중제      36  202101.0  815.0   SKY  170000.0  170000.0   \n",
       "1  아덴힐GC    서부권      대중제      18  202101.0  809.0   왕이메   90000.0  135000.0   \n",
       "2  아덴힐GC    서부권      대중제      18  202101.0  823.0   왕이메   90000.0  135000.0   \n",
       "\n",
       "  결제수단명  ...  예약자거주지값  예약자평균값  예약자골프경력값  예약자평균사용값  예약자사용성향값 통화일자  통화시간  \\\n",
       "0  현장결제  ...      비도민       8       NaN       NaN       NaN  NaN   NaN   \n",
       "1  현장결제  ...      비도민       8       NaN       NaN       NaN  NaN   NaN   \n",
       "2  현장결제  ...       도민      14       NaN       NaN       NaN  NaN   NaN   \n",
       "\n",
       "     해당년도 통화,사용일자년도   계절  \n",
       "0  2021.0      2021  사계절  \n",
       "1  2021.0      2021  사계절  \n",
       "2  2021.0      2021  사계절  \n",
       "\n",
       "[3 rows x 28 columns]"
      ]
     },
     "execution_count": 175,
     "metadata": {},
     "output_type": "execute_result"
    }
   ],
   "source": [
    "df.head(3)"
   ]
  },
  {
   "cell_type": "code",
   "execution_count": 176,
   "metadata": {},
   "outputs": [
    {
     "name": "stderr",
     "output_type": "stream",
     "text": [
      "C:\\Users\\alsdn\\AppData\\Local\\Temp/ipykernel_11236/741572053.py:5: SettingWithCopyWarning: \n",
      "A value is trying to be set on a copy of a slice from a DataFrame\n",
      "\n",
      "See the caveats in the documentation: https://pandas.pydata.org/pandas-docs/stable/user_guide/indexing.html#returning-a-view-versus-a-copy\n",
      "  df.계절[df.계절=='미분류']=df['통화일자'].apply(lambda x: '봄' if ( x%100 in [3,4,5]) else\n"
     ]
    }
   ],
   "source": [
    "df['계절'] = df['사용일자'].apply(lambda x: '봄' if ( x%100 in [3,4,5]) else \n",
    "                                    '여름' if ( x%100 in [6,7,8]) else \n",
    "                                    '가을' if ( x%100 in [9,10,11]) else \n",
    "                                    '겨울'  if ( x%100 in [12,1,2]) else '미분류')\n",
    "df.계절[df.계절=='미분류']=df['통화일자'].apply(lambda x: '봄' if ( x%100 in [3,4,5]) else \n",
    "                                    '여름' if ( x%100 in [6,7,8]) else \n",
    "                                    '가을' if ( x%100 in [9,10,11]) else \n",
    "                                    '겨울'  if ( x%100 in [12,1,2]) else '미분류')\n"
   ]
  },
  {
   "cell_type": "code",
   "execution_count": 177,
   "metadata": {},
   "outputs": [],
   "source": [
    "# df.to_csv('골프장데이터(계절추가).csv',index=False)"
   ]
  },
  {
   "cell_type": "code",
   "execution_count": 178,
   "metadata": {},
   "outputs": [
    {
     "data": {
      "text/plain": [
       "가을    19375\n",
       "여름    18410\n",
       "봄      4272\n",
       "겨울     3269\n",
       "Name: 계절, dtype: int64"
      ]
     },
     "execution_count": 178,
     "metadata": {},
     "output_type": "execute_result"
    }
   ],
   "source": [
    "df.계절.value_counts()"
   ]
  },
  {
   "cell_type": "markdown",
   "metadata": {},
   "source": [
    "## 분석"
   ]
  },
  {
   "cell_type": "code",
   "execution_count": 189,
   "metadata": {},
   "outputs": [
    {
     "data": {
      "text/plain": [
       "2021    34231\n",
       "2020    11095\n",
       "Name: 통화,사용일자년도, dtype: int64"
      ]
     },
     "execution_count": 189,
     "metadata": {},
     "output_type": "execute_result"
    }
   ],
   "source": [
    "df['통화,사용일자년도'].value_counts()"
   ]
  },
  {
   "cell_type": "code",
   "execution_count": 185,
   "metadata": {},
   "outputs": [
    {
     "data": {
      "text/plain": [
       "<AxesSubplot:ylabel='계절'>"
      ]
     },
     "execution_count": 185,
     "metadata": {},
     "output_type": "execute_result"
    },
    {
     "data": {
      "image/png": "[encoded data removed]",
      "text/plain": [
       "<Figure size 432x288 with 1 Axes>"
      ]
     },
     "metadata": {
      "needs_background": "light"
     },
     "output_type": "display_data"
    }
   ],
   "source": [
    "df.groupby(df.통,df.계절).골프장명.count().plot.barh()"
   ]
  },
  {
   "cell_type": "markdown",
   "metadata": {},
   "source": [
    "## 월별 추가"
   ]
  },
  {
   "cell_type": "code",
   "execution_count": 4,
   "metadata": {},
   "outputs": [
    {
     "name": "stderr",
     "output_type": "stream",
     "text": [
      "C:\\src\\anaconda3\\lib\\site-packages\\IPython\\core\\interactiveshell.py:3444: DtypeWarning: Columns (6,9) have mixed types.Specify dtype option on import or set low_memory=False.\n",
      "  exec(code_obj, self.user_global_ns, self.user_ns)\n"
     ]
    }
   ],
   "source": [
    "df= pd.read_csv('골프장데이터(계절추가).csv')"
   ]
  },
  {
   "cell_type": "code",
   "execution_count": 5,
   "metadata": {},
   "outputs": [
    {
     "data": {
      "text/html": [
       "<div>\n",
       "<style scoped>\n",
       "    .dataframe tbody tr th:only-of-type {\n",
       "        vertical-align: middle;\n",
       "    }\n",
       "\n",
       "    .dataframe tbody tr th {\n",
       "        vertical-align: top;\n",
       "    }\n",
       "\n",
       "    .dataframe thead th {\n",
       "        text-align: right;\n",
       "    }\n",
       "</style>\n",
       "<table border=\"1\" class=\"dataframe\">\n",
       "  <thead>\n",
       "    <tr style=\"text-align: right;\">\n",
       "      <th></th>\n",
       "      <th>골프장명</th>\n",
       "      <th>골프장지역명</th>\n",
       "      <th>골프장멤버십값</th>\n",
       "      <th>골프장유형값</th>\n",
       "      <th>사용일자</th>\n",
       "      <th>사용시간값</th>\n",
       "      <th>사용유형명</th>\n",
       "      <th>거주자금액</th>\n",
       "      <th>비거주자금액</th>\n",
       "      <th>결제수단명</th>\n",
       "      <th>...</th>\n",
       "      <th>예약자거주지값</th>\n",
       "      <th>예약자평균값</th>\n",
       "      <th>예약자골프경력값</th>\n",
       "      <th>예약자평균사용값</th>\n",
       "      <th>예약자사용성향값</th>\n",
       "      <th>통화일자</th>\n",
       "      <th>통화시간</th>\n",
       "      <th>해당년도</th>\n",
       "      <th>통화,사용일자년도</th>\n",
       "      <th>계절</th>\n",
       "    </tr>\n",
       "  </thead>\n",
       "  <tbody>\n",
       "    <tr>\n",
       "      <th>0</th>\n",
       "      <td>해비치CC</td>\n",
       "      <td>동부권</td>\n",
       "      <td>회원제+대중제</td>\n",
       "      <td>36</td>\n",
       "      <td>202101.0</td>\n",
       "      <td>815.0</td>\n",
       "      <td>SKY</td>\n",
       "      <td>170000.0</td>\n",
       "      <td>170000.0</td>\n",
       "      <td>현장결제</td>\n",
       "      <td>...</td>\n",
       "      <td>비도민</td>\n",
       "      <td>8</td>\n",
       "      <td>NaN</td>\n",
       "      <td>NaN</td>\n",
       "      <td>NaN</td>\n",
       "      <td>NaN</td>\n",
       "      <td>NaN</td>\n",
       "      <td>2021.0</td>\n",
       "      <td>2021</td>\n",
       "      <td>겨울</td>\n",
       "    </tr>\n",
       "    <tr>\n",
       "      <th>1</th>\n",
       "      <td>아덴힐GC</td>\n",
       "      <td>서부권</td>\n",
       "      <td>대중제</td>\n",
       "      <td>18</td>\n",
       "      <td>202101.0</td>\n",
       "      <td>809.0</td>\n",
       "      <td>왕이메</td>\n",
       "      <td>90000.0</td>\n",
       "      <td>135000.0</td>\n",
       "      <td>현장결제</td>\n",
       "      <td>...</td>\n",
       "      <td>비도민</td>\n",
       "      <td>8</td>\n",
       "      <td>NaN</td>\n",
       "      <td>NaN</td>\n",
       "      <td>NaN</td>\n",
       "      <td>NaN</td>\n",
       "      <td>NaN</td>\n",
       "      <td>2021.0</td>\n",
       "      <td>2021</td>\n",
       "      <td>겨울</td>\n",
       "    </tr>\n",
       "    <tr>\n",
       "      <th>2</th>\n",
       "      <td>아덴힐GC</td>\n",
       "      <td>서부권</td>\n",
       "      <td>대중제</td>\n",
       "      <td>18</td>\n",
       "      <td>202101.0</td>\n",
       "      <td>823.0</td>\n",
       "      <td>왕이메</td>\n",
       "      <td>90000.0</td>\n",
       "      <td>135000.0</td>\n",
       "      <td>현장결제</td>\n",
       "      <td>...</td>\n",
       "      <td>도민</td>\n",
       "      <td>14</td>\n",
       "      <td>NaN</td>\n",
       "      <td>NaN</td>\n",
       "      <td>NaN</td>\n",
       "      <td>NaN</td>\n",
       "      <td>NaN</td>\n",
       "      <td>2021.0</td>\n",
       "      <td>2021</td>\n",
       "      <td>겨울</td>\n",
       "    </tr>\n",
       "    <tr>\n",
       "      <th>3</th>\n",
       "      <td>아덴힐GC</td>\n",
       "      <td>서부권</td>\n",
       "      <td>대중제</td>\n",
       "      <td>18</td>\n",
       "      <td>202101.0</td>\n",
       "      <td>809.0</td>\n",
       "      <td>왕이메</td>\n",
       "      <td>90000.0</td>\n",
       "      <td>135000.0</td>\n",
       "      <td>현장결제</td>\n",
       "      <td>...</td>\n",
       "      <td>도민</td>\n",
       "      <td>NaN</td>\n",
       "      <td>NaN</td>\n",
       "      <td>NaN</td>\n",
       "      <td>NaN</td>\n",
       "      <td>NaN</td>\n",
       "      <td>NaN</td>\n",
       "      <td>2021.0</td>\n",
       "      <td>2021</td>\n",
       "      <td>겨울</td>\n",
       "    </tr>\n",
       "    <tr>\n",
       "      <th>4</th>\n",
       "      <td>아덴힐GC</td>\n",
       "      <td>서부권</td>\n",
       "      <td>대중제</td>\n",
       "      <td>18</td>\n",
       "      <td>202102.0</td>\n",
       "      <td>1121.0</td>\n",
       "      <td>새별</td>\n",
       "      <td>110000.0</td>\n",
       "      <td>145000.0</td>\n",
       "      <td>현장결제</td>\n",
       "      <td>...</td>\n",
       "      <td>도민</td>\n",
       "      <td>30</td>\n",
       "      <td>NaN</td>\n",
       "      <td>NaN</td>\n",
       "      <td>NaN</td>\n",
       "      <td>NaN</td>\n",
       "      <td>NaN</td>\n",
       "      <td>2021.0</td>\n",
       "      <td>2021</td>\n",
       "      <td>겨울</td>\n",
       "    </tr>\n",
       "    <tr>\n",
       "      <th>...</th>\n",
       "      <td>...</td>\n",
       "      <td>...</td>\n",
       "      <td>...</td>\n",
       "      <td>...</td>\n",
       "      <td>...</td>\n",
       "      <td>...</td>\n",
       "      <td>...</td>\n",
       "      <td>...</td>\n",
       "      <td>...</td>\n",
       "      <td>...</td>\n",
       "      <td>...</td>\n",
       "      <td>...</td>\n",
       "      <td>...</td>\n",
       "      <td>...</td>\n",
       "      <td>...</td>\n",
       "      <td>...</td>\n",
       "      <td>...</td>\n",
       "      <td>...</td>\n",
       "      <td>...</td>\n",
       "      <td>...</td>\n",
       "      <td>...</td>\n",
       "    </tr>\n",
       "    <tr>\n",
       "      <th>45321</th>\n",
       "      <td>제주CC</td>\n",
       "      <td>제주시권</td>\n",
       "      <td>대중제</td>\n",
       "      <td>18</td>\n",
       "      <td>NaN</td>\n",
       "      <td>NaN</td>\n",
       "      <td>NaN</td>\n",
       "      <td>NaN</td>\n",
       "      <td>NaN</td>\n",
       "      <td>NaN</td>\n",
       "      <td>...</td>\n",
       "      <td>도민</td>\n",
       "      <td>40</td>\n",
       "      <td>NaN</td>\n",
       "      <td>NaN</td>\n",
       "      <td>NaN</td>\n",
       "      <td>202106.0</td>\n",
       "      <td>103439.0</td>\n",
       "      <td>NaN</td>\n",
       "      <td>2021</td>\n",
       "      <td>여름</td>\n",
       "    </tr>\n",
       "    <tr>\n",
       "      <th>45322</th>\n",
       "      <td>더클래식CC</td>\n",
       "      <td>동부권</td>\n",
       "      <td>대중제</td>\n",
       "      <td>18</td>\n",
       "      <td>NaN</td>\n",
       "      <td>NaN</td>\n",
       "      <td>NaN</td>\n",
       "      <td>NaN</td>\n",
       "      <td>NaN</td>\n",
       "      <td>NaN</td>\n",
       "      <td>...</td>\n",
       "      <td>도민</td>\n",
       "      <td>NaN</td>\n",
       "      <td>1~3년</td>\n",
       "      <td>2회</td>\n",
       "      <td>골프초년생</td>\n",
       "      <td>202106.0</td>\n",
       "      <td>104114.0</td>\n",
       "      <td>NaN</td>\n",
       "      <td>2021</td>\n",
       "      <td>여름</td>\n",
       "    </tr>\n",
       "    <tr>\n",
       "      <th>45323</th>\n",
       "      <td>더클래식CC</td>\n",
       "      <td>동부권</td>\n",
       "      <td>대중제</td>\n",
       "      <td>18</td>\n",
       "      <td>NaN</td>\n",
       "      <td>NaN</td>\n",
       "      <td>NaN</td>\n",
       "      <td>NaN</td>\n",
       "      <td>NaN</td>\n",
       "      <td>NaN</td>\n",
       "      <td>...</td>\n",
       "      <td>도민</td>\n",
       "      <td>NaN</td>\n",
       "      <td>1~3년</td>\n",
       "      <td>2회</td>\n",
       "      <td>골프초년생</td>\n",
       "      <td>202106.0</td>\n",
       "      <td>104132.0</td>\n",
       "      <td>NaN</td>\n",
       "      <td>2021</td>\n",
       "      <td>여름</td>\n",
       "    </tr>\n",
       "    <tr>\n",
       "      <th>45324</th>\n",
       "      <td>더클래식CC</td>\n",
       "      <td>동부권</td>\n",
       "      <td>대중제</td>\n",
       "      <td>18</td>\n",
       "      <td>NaN</td>\n",
       "      <td>NaN</td>\n",
       "      <td>NaN</td>\n",
       "      <td>NaN</td>\n",
       "      <td>NaN</td>\n",
       "      <td>NaN</td>\n",
       "      <td>...</td>\n",
       "      <td>도민</td>\n",
       "      <td>NaN</td>\n",
       "      <td>1~3년</td>\n",
       "      <td>2회</td>\n",
       "      <td>골프초년생</td>\n",
       "      <td>202106.0</td>\n",
       "      <td>104224.0</td>\n",
       "      <td>NaN</td>\n",
       "      <td>2021</td>\n",
       "      <td>여름</td>\n",
       "    </tr>\n",
       "    <tr>\n",
       "      <th>45325</th>\n",
       "      <td>제주CC</td>\n",
       "      <td>제주시권</td>\n",
       "      <td>대중제</td>\n",
       "      <td>18</td>\n",
       "      <td>NaN</td>\n",
       "      <td>NaN</td>\n",
       "      <td>NaN</td>\n",
       "      <td>NaN</td>\n",
       "      <td>NaN</td>\n",
       "      <td>NaN</td>\n",
       "      <td>...</td>\n",
       "      <td>도민</td>\n",
       "      <td>NaN</td>\n",
       "      <td>1~3년</td>\n",
       "      <td>2회</td>\n",
       "      <td>골프초년생</td>\n",
       "      <td>202106.0</td>\n",
       "      <td>104250.0</td>\n",
       "      <td>NaN</td>\n",
       "      <td>2021</td>\n",
       "      <td>여름</td>\n",
       "    </tr>\n",
       "  </tbody>\n",
       "</table>\n",
       "<p>45326 rows × 28 columns</p>\n",
       "</div>"
      ],
      "text/plain": [
       "         골프장명 골프장지역명  골프장멤버십값  골프장유형값      사용일자   사용시간값 사용유형명     거주자금액  \\\n",
       "0       해비치CC    동부권  회원제+대중제      36  202101.0   815.0   SKY  170000.0   \n",
       "1       아덴힐GC    서부권      대중제      18  202101.0   809.0   왕이메   90000.0   \n",
       "2       아덴힐GC    서부권      대중제      18  202101.0   823.0   왕이메   90000.0   \n",
       "3       아덴힐GC    서부권      대중제      18  202101.0   809.0   왕이메   90000.0   \n",
       "4       아덴힐GC    서부권      대중제      18  202102.0  1121.0    새별  110000.0   \n",
       "...       ...    ...      ...     ...       ...     ...   ...       ...   \n",
       "45321    제주CC   제주시권      대중제      18       NaN     NaN   NaN       NaN   \n",
       "45322  더클래식CC    동부권      대중제      18       NaN     NaN   NaN       NaN   \n",
       "45323  더클래식CC    동부권      대중제      18       NaN     NaN   NaN       NaN   \n",
       "45324  더클래식CC    동부권      대중제      18       NaN     NaN   NaN       NaN   \n",
       "45325    제주CC   제주시권      대중제      18       NaN     NaN   NaN       NaN   \n",
       "\n",
       "         비거주자금액 결제수단명  ...  예약자거주지값  예약자평균값  예약자골프경력값  예약자평균사용값  예약자사용성향값  \\\n",
       "0      170000.0  현장결제  ...      비도민       8       NaN       NaN       NaN   \n",
       "1      135000.0  현장결제  ...      비도민       8       NaN       NaN       NaN   \n",
       "2      135000.0  현장결제  ...       도민      14       NaN       NaN       NaN   \n",
       "3      135000.0  현장결제  ...       도민     NaN       NaN       NaN       NaN   \n",
       "4      145000.0  현장결제  ...       도민      30       NaN       NaN       NaN   \n",
       "...         ...   ...  ...      ...     ...       ...       ...       ...   \n",
       "45321       NaN   NaN  ...       도민      40       NaN       NaN       NaN   \n",
       "45322       NaN   NaN  ...       도민     NaN      1~3년        2회     골프초년생   \n",
       "45323       NaN   NaN  ...       도민     NaN      1~3년        2회     골프초년생   \n",
       "45324       NaN   NaN  ...       도민     NaN      1~3년        2회     골프초년생   \n",
       "45325       NaN   NaN  ...       도민     NaN      1~3년        2회     골프초년생   \n",
       "\n",
       "           통화일자      통화시간    해당년도 통화,사용일자년도  계절  \n",
       "0           NaN       NaN  2021.0      2021  겨울  \n",
       "1           NaN       NaN  2021.0      2021  겨울  \n",
       "2           NaN       NaN  2021.0      2021  겨울  \n",
       "3           NaN       NaN  2021.0      2021  겨울  \n",
       "4           NaN       NaN  2021.0      2021  겨울  \n",
       "...         ...       ...     ...       ...  ..  \n",
       "45321  202106.0  103439.0     NaN      2021  여름  \n",
       "45322  202106.0  104114.0     NaN      2021  여름  \n",
       "45323  202106.0  104132.0     NaN      2021  여름  \n",
       "45324  202106.0  104224.0     NaN      2021  여름  \n",
       "45325  202106.0  104250.0     NaN      2021  여름  \n",
       "\n",
       "[45326 rows x 28 columns]"
      ]
     },
     "execution_count": 5,
     "metadata": {},
     "output_type": "execute_result"
    }
   ],
   "source": [
    "df"
   ]
  },
  {
   "cell_type": "code",
   "execution_count": 6,
   "metadata": {},
   "outputs": [
    {
     "name": "stderr",
     "output_type": "stream",
     "text": [
      "C:\\Users\\alsdn\\AppData\\Local\\Temp/ipykernel_11956/998732859.py:5: SettingWithCopyWarning: \n",
      "A value is trying to be set on a copy of a slice from a DataFrame\n",
      "\n",
      "See the caveats in the documentation: https://pandas.pydata.org/pandas-docs/stable/user_guide/indexing.html#returning-a-view-versus-a-copy\n",
      "  df.월[df.월=='미분류']=df['통화일자'].apply(lambda x: f'{int(x)%100}월' if ( x%100 in [3,4,5]) else\n"
     ]
    }
   ],
   "source": [
    "df['월'] = df['사용일자'].apply(lambda x: f'{int(x)%100}월' if ( x%100 in [3,4,5]) else \n",
    "                                    f'{int(x)%100}월' if ( x%100 in [6,7,8]) else \n",
    "                                   f'{int(x)%100}월' if ( x%100 in [9,10,11]) else \n",
    "                                    f'{int(x)%100}월'  if ( x%100 in [12,1,2]) else '미분류')\n",
    "df.월[df.월=='미분류']=df['통화일자'].apply(lambda x: f'{int(x)%100}월' if ( x%100 in [3,4,5]) else \n",
    "                                    f'{int(x)%100}월' if ( x%100 in [6,7,8]) else \n",
    "                                   f'{int(x)%100}월' if ( x%100 in [9,10,11]) else \n",
    "                                    f'{int(x)%100}월'  if ( x%100 in [12,1,2]) else '미분류')\n"
   ]
  },
  {
   "cell_type": "code",
   "execution_count": 8,
   "metadata": {},
   "outputs": [],
   "source": [
    "# df.to_csv('골프장데이터_계절_월_add.csv')"
   ]
  },
  {
   "cell_type": "markdown",
   "metadata": {},
   "source": [
    "## 월별분석"
   ]
  },
  {
   "cell_type": "code",
   "execution_count": 202,
   "metadata": {},
   "outputs": [
    {
     "data": {
      "text/plain": [
       "0        1월\n",
       "1        1월\n",
       "2        1월\n",
       "3        1월\n",
       "4        2월\n",
       "         ..\n",
       "45321    6월\n",
       "45322    6월\n",
       "45323    6월\n",
       "45324    6월\n",
       "45325    6월\n",
       "Name: 월, Length: 45326, dtype: object"
      ]
     },
     "execution_count": 202,
     "metadata": {},
     "output_type": "execute_result"
    }
   ],
   "source": [
    "df.월"
   ]
  },
  {
   "cell_type": "code",
   "execution_count": 204,
   "metadata": {},
   "outputs": [
    {
     "data": {
      "text/plain": [
       "<AxesSubplot:ylabel='월'>"
      ]
     },
     "execution_count": 204,
     "metadata": {},
     "output_type": "execute_result"
    },
    {
     "data": {
      "image/png": "[encoded data removed]",
      "text/plain": [
       "<Figure size 432x288 with 1 Axes>"
      ]
     },
     "metadata": {
      "needs_background": "light"
     },
     "output_type": "display_data"
    }
   ],
   "source": [
    "df.groupby(df.월).골프장명.count().plot.barh()"
   ]
  },
  {
   "cell_type": "code",
   "execution_count": 213,
   "metadata": {},
   "outputs": [
    {
     "data": {
      "text/plain": [
       "월    골프장지역명\n",
       "10월  동부권       4369\n",
       "     서귀포권       470\n",
       "     서부권       2406\n",
       "     제주시권      1976\n",
       "Name: 골프장명, dtype: int64"
      ]
     },
     "execution_count": 213,
     "metadata": {},
     "output_type": "execute_result"
    }
   ],
   "source": [
    "df.groupby([df.월[df.월=='10월'],df.골프장지역명]).골프장명.count()"
   ]
  },
  {
   "cell_type": "code",
   "execution_count": 221,
   "metadata": {},
   "outputs": [
    {
     "data": {
      "text/plain": [
       "해당년도    월    골프장지역명  계절\n",
       "2020.0  10월  동부권     가을    1374\n",
       "             서귀포권    가을      86\n",
       "             서부권     가을     536\n",
       "        11월  동부권     가을     602\n",
       "             서부권     가을      80\n",
       "                           ... \n",
       "2021.0  8월   서부권     여름    1804\n",
       "             제주시권    여름      97\n",
       "        9월   동부권     가을     613\n",
       "             서부권     가을    1938\n",
       "             제주시권    가을     150\n",
       "Name: 골프장명, Length: 64, dtype: int64"
      ]
     },
     "execution_count": 221,
     "metadata": {},
     "output_type": "execute_result"
    }
   ],
   "source": [
    "df.groupby([df.해당년도,df.월,df.골프장지역명,df.계절]).골프장명.count()"
   ]
  },
  {
   "cell_type": "code",
   "execution_count": 222,
   "metadata": {},
   "outputs": [
    {
     "data": {
      "text/html": [
       "<div>\n",
       "<style scoped>\n",
       "    .dataframe tbody tr th:only-of-type {\n",
       "        vertical-align: middle;\n",
       "    }\n",
       "\n",
       "    .dataframe tbody tr th {\n",
       "        vertical-align: top;\n",
       "    }\n",
       "\n",
       "    .dataframe thead th {\n",
       "        text-align: right;\n",
       "    }\n",
       "</style>\n",
       "<table border=\"1\" class=\"dataframe\">\n",
       "  <thead>\n",
       "    <tr style=\"text-align: right;\">\n",
       "      <th></th>\n",
       "      <th>골프장명</th>\n",
       "      <th>골프장지역명</th>\n",
       "      <th>골프장멤버십값</th>\n",
       "      <th>골프장유형값</th>\n",
       "      <th>사용일자</th>\n",
       "      <th>사용시간값</th>\n",
       "      <th>사용유형명</th>\n",
       "      <th>거주자금액</th>\n",
       "      <th>비거주자금액</th>\n",
       "      <th>결제수단명</th>\n",
       "      <th>...</th>\n",
       "      <th>예약자평균값</th>\n",
       "      <th>예약자골프경력값</th>\n",
       "      <th>예약자평균사용값</th>\n",
       "      <th>예약자사용성향값</th>\n",
       "      <th>통화일자</th>\n",
       "      <th>통화시간</th>\n",
       "      <th>해당년도</th>\n",
       "      <th>통화,사용일자년도</th>\n",
       "      <th>계절</th>\n",
       "      <th>월</th>\n",
       "    </tr>\n",
       "  </thead>\n",
       "  <tbody>\n",
       "    <tr>\n",
       "      <th>0</th>\n",
       "      <td>해비치CC</td>\n",
       "      <td>동부권</td>\n",
       "      <td>회원제+대중제</td>\n",
       "      <td>36</td>\n",
       "      <td>202101.0</td>\n",
       "      <td>815.0</td>\n",
       "      <td>SKY</td>\n",
       "      <td>170000.0</td>\n",
       "      <td>170000.0</td>\n",
       "      <td>현장결제</td>\n",
       "      <td>...</td>\n",
       "      <td>8</td>\n",
       "      <td>NaN</td>\n",
       "      <td>NaN</td>\n",
       "      <td>NaN</td>\n",
       "      <td>NaN</td>\n",
       "      <td>NaN</td>\n",
       "      <td>2021.0</td>\n",
       "      <td>2021</td>\n",
       "      <td>겨울</td>\n",
       "      <td>1월</td>\n",
       "    </tr>\n",
       "    <tr>\n",
       "      <th>1</th>\n",
       "      <td>아덴힐GC</td>\n",
       "      <td>서부권</td>\n",
       "      <td>대중제</td>\n",
       "      <td>18</td>\n",
       "      <td>202101.0</td>\n",
       "      <td>809.0</td>\n",
       "      <td>왕이메</td>\n",
       "      <td>90000.0</td>\n",
       "      <td>135000.0</td>\n",
       "      <td>현장결제</td>\n",
       "      <td>...</td>\n",
       "      <td>8</td>\n",
       "      <td>NaN</td>\n",
       "      <td>NaN</td>\n",
       "      <td>NaN</td>\n",
       "      <td>NaN</td>\n",
       "      <td>NaN</td>\n",
       "      <td>2021.0</td>\n",
       "      <td>2021</td>\n",
       "      <td>겨울</td>\n",
       "      <td>1월</td>\n",
       "    </tr>\n",
       "    <tr>\n",
       "      <th>2</th>\n",
       "      <td>아덴힐GC</td>\n",
       "      <td>서부권</td>\n",
       "      <td>대중제</td>\n",
       "      <td>18</td>\n",
       "      <td>202101.0</td>\n",
       "      <td>823.0</td>\n",
       "      <td>왕이메</td>\n",
       "      <td>90000.0</td>\n",
       "      <td>135000.0</td>\n",
       "      <td>현장결제</td>\n",
       "      <td>...</td>\n",
       "      <td>14</td>\n",
       "      <td>NaN</td>\n",
       "      <td>NaN</td>\n",
       "      <td>NaN</td>\n",
       "      <td>NaN</td>\n",
       "      <td>NaN</td>\n",
       "      <td>2021.0</td>\n",
       "      <td>2021</td>\n",
       "      <td>겨울</td>\n",
       "      <td>1월</td>\n",
       "    </tr>\n",
       "    <tr>\n",
       "      <th>3</th>\n",
       "      <td>아덴힐GC</td>\n",
       "      <td>서부권</td>\n",
       "      <td>대중제</td>\n",
       "      <td>18</td>\n",
       "      <td>202101.0</td>\n",
       "      <td>809.0</td>\n",
       "      <td>왕이메</td>\n",
       "      <td>90000.0</td>\n",
       "      <td>135000.0</td>\n",
       "      <td>현장결제</td>\n",
       "      <td>...</td>\n",
       "      <td>NaN</td>\n",
       "      <td>NaN</td>\n",
       "      <td>NaN</td>\n",
       "      <td>NaN</td>\n",
       "      <td>NaN</td>\n",
       "      <td>NaN</td>\n",
       "      <td>2021.0</td>\n",
       "      <td>2021</td>\n",
       "      <td>겨울</td>\n",
       "      <td>1월</td>\n",
       "    </tr>\n",
       "    <tr>\n",
       "      <th>4</th>\n",
       "      <td>아덴힐GC</td>\n",
       "      <td>서부권</td>\n",
       "      <td>대중제</td>\n",
       "      <td>18</td>\n",
       "      <td>202102.0</td>\n",
       "      <td>1121.0</td>\n",
       "      <td>새별</td>\n",
       "      <td>110000.0</td>\n",
       "      <td>145000.0</td>\n",
       "      <td>현장결제</td>\n",
       "      <td>...</td>\n",
       "      <td>30</td>\n",
       "      <td>NaN</td>\n",
       "      <td>NaN</td>\n",
       "      <td>NaN</td>\n",
       "      <td>NaN</td>\n",
       "      <td>NaN</td>\n",
       "      <td>2021.0</td>\n",
       "      <td>2021</td>\n",
       "      <td>겨울</td>\n",
       "      <td>2월</td>\n",
       "    </tr>\n",
       "    <tr>\n",
       "      <th>...</th>\n",
       "      <td>...</td>\n",
       "      <td>...</td>\n",
       "      <td>...</td>\n",
       "      <td>...</td>\n",
       "      <td>...</td>\n",
       "      <td>...</td>\n",
       "      <td>...</td>\n",
       "      <td>...</td>\n",
       "      <td>...</td>\n",
       "      <td>...</td>\n",
       "      <td>...</td>\n",
       "      <td>...</td>\n",
       "      <td>...</td>\n",
       "      <td>...</td>\n",
       "      <td>...</td>\n",
       "      <td>...</td>\n",
       "      <td>...</td>\n",
       "      <td>...</td>\n",
       "      <td>...</td>\n",
       "      <td>...</td>\n",
       "      <td>...</td>\n",
       "    </tr>\n",
       "    <tr>\n",
       "      <th>45321</th>\n",
       "      <td>제주CC</td>\n",
       "      <td>제주시권</td>\n",
       "      <td>대중제</td>\n",
       "      <td>18</td>\n",
       "      <td>NaN</td>\n",
       "      <td>NaN</td>\n",
       "      <td>NaN</td>\n",
       "      <td>NaN</td>\n",
       "      <td>NaN</td>\n",
       "      <td>NaN</td>\n",
       "      <td>...</td>\n",
       "      <td>40</td>\n",
       "      <td>NaN</td>\n",
       "      <td>NaN</td>\n",
       "      <td>NaN</td>\n",
       "      <td>202106.0</td>\n",
       "      <td>103439.0</td>\n",
       "      <td>NaN</td>\n",
       "      <td>2021</td>\n",
       "      <td>여름</td>\n",
       "      <td>6월</td>\n",
       "    </tr>\n",
       "    <tr>\n",
       "      <th>45322</th>\n",
       "      <td>더클래식CC</td>\n",
       "      <td>동부권</td>\n",
       "      <td>대중제</td>\n",
       "      <td>18</td>\n",
       "      <td>NaN</td>\n",
       "      <td>NaN</td>\n",
       "      <td>NaN</td>\n",
       "      <td>NaN</td>\n",
       "      <td>NaN</td>\n",
       "      <td>NaN</td>\n",
       "      <td>...</td>\n",
       "      <td>NaN</td>\n",
       "      <td>1~3년</td>\n",
       "      <td>2회</td>\n",
       "      <td>골프초년생</td>\n",
       "      <td>202106.0</td>\n",
       "      <td>104114.0</td>\n",
       "      <td>NaN</td>\n",
       "      <td>2021</td>\n",
       "      <td>여름</td>\n",
       "      <td>6월</td>\n",
       "    </tr>\n",
       "    <tr>\n",
       "      <th>45323</th>\n",
       "      <td>더클래식CC</td>\n",
       "      <td>동부권</td>\n",
       "      <td>대중제</td>\n",
       "      <td>18</td>\n",
       "      <td>NaN</td>\n",
       "      <td>NaN</td>\n",
       "      <td>NaN</td>\n",
       "      <td>NaN</td>\n",
       "      <td>NaN</td>\n",
       "      <td>NaN</td>\n",
       "      <td>...</td>\n",
       "      <td>NaN</td>\n",
       "      <td>1~3년</td>\n",
       "      <td>2회</td>\n",
       "      <td>골프초년생</td>\n",
       "      <td>202106.0</td>\n",
       "      <td>104132.0</td>\n",
       "      <td>NaN</td>\n",
       "      <td>2021</td>\n",
       "      <td>여름</td>\n",
       "      <td>6월</td>\n",
       "    </tr>\n",
       "    <tr>\n",
       "      <th>45324</th>\n",
       "      <td>더클래식CC</td>\n",
       "      <td>동부권</td>\n",
       "      <td>대중제</td>\n",
       "      <td>18</td>\n",
       "      <td>NaN</td>\n",
       "      <td>NaN</td>\n",
       "      <td>NaN</td>\n",
       "      <td>NaN</td>\n",
       "      <td>NaN</td>\n",
       "      <td>NaN</td>\n",
       "      <td>...</td>\n",
       "      <td>NaN</td>\n",
       "      <td>1~3년</td>\n",
       "      <td>2회</td>\n",
       "      <td>골프초년생</td>\n",
       "      <td>202106.0</td>\n",
       "      <td>104224.0</td>\n",
       "      <td>NaN</td>\n",
       "      <td>2021</td>\n",
       "      <td>여름</td>\n",
       "      <td>6월</td>\n",
       "    </tr>\n",
       "    <tr>\n",
       "      <th>45325</th>\n",
       "      <td>제주CC</td>\n",
       "      <td>제주시권</td>\n",
       "      <td>대중제</td>\n",
       "      <td>18</td>\n",
       "      <td>NaN</td>\n",
       "      <td>NaN</td>\n",
       "      <td>NaN</td>\n",
       "      <td>NaN</td>\n",
       "      <td>NaN</td>\n",
       "      <td>NaN</td>\n",
       "      <td>...</td>\n",
       "      <td>NaN</td>\n",
       "      <td>1~3년</td>\n",
       "      <td>2회</td>\n",
       "      <td>골프초년생</td>\n",
       "      <td>202106.0</td>\n",
       "      <td>104250.0</td>\n",
       "      <td>NaN</td>\n",
       "      <td>2021</td>\n",
       "      <td>여름</td>\n",
       "      <td>6월</td>\n",
       "    </tr>\n",
       "  </tbody>\n",
       "</table>\n",
       "<p>45326 rows × 29 columns</p>\n",
       "</div>"
      ],
      "text/plain": [
       "         골프장명 골프장지역명  골프장멤버십값  골프장유형값      사용일자   사용시간값 사용유형명     거주자금액  \\\n",
       "0       해비치CC    동부권  회원제+대중제      36  202101.0   815.0   SKY  170000.0   \n",
       "1       아덴힐GC    서부권      대중제      18  202101.0   809.0   왕이메   90000.0   \n",
       "2       아덴힐GC    서부권      대중제      18  202101.0   823.0   왕이메   90000.0   \n",
       "3       아덴힐GC    서부권      대중제      18  202101.0   809.0   왕이메   90000.0   \n",
       "4       아덴힐GC    서부권      대중제      18  202102.0  1121.0    새별  110000.0   \n",
       "...       ...    ...      ...     ...       ...     ...   ...       ...   \n",
       "45321    제주CC   제주시권      대중제      18       NaN     NaN   NaN       NaN   \n",
       "45322  더클래식CC    동부권      대중제      18       NaN     NaN   NaN       NaN   \n",
       "45323  더클래식CC    동부권      대중제      18       NaN     NaN   NaN       NaN   \n",
       "45324  더클래식CC    동부권      대중제      18       NaN     NaN   NaN       NaN   \n",
       "45325    제주CC   제주시권      대중제      18       NaN     NaN   NaN       NaN   \n",
       "\n",
       "         비거주자금액 결제수단명  ...  예약자평균값  예약자골프경력값  예약자평균사용값  예약자사용성향값      통화일자  \\\n",
       "0      170000.0  현장결제  ...       8       NaN       NaN       NaN       NaN   \n",
       "1      135000.0  현장결제  ...       8       NaN       NaN       NaN       NaN   \n",
       "2      135000.0  현장결제  ...      14       NaN       NaN       NaN       NaN   \n",
       "3      135000.0  현장결제  ...     NaN       NaN       NaN       NaN       NaN   \n",
       "4      145000.0  현장결제  ...      30       NaN       NaN       NaN       NaN   \n",
       "...         ...   ...  ...     ...       ...       ...       ...       ...   \n",
       "45321       NaN   NaN  ...      40       NaN       NaN       NaN  202106.0   \n",
       "45322       NaN   NaN  ...     NaN      1~3년        2회     골프초년생  202106.0   \n",
       "45323       NaN   NaN  ...     NaN      1~3년        2회     골프초년생  202106.0   \n",
       "45324       NaN   NaN  ...     NaN      1~3년        2회     골프초년생  202106.0   \n",
       "45325       NaN   NaN  ...     NaN      1~3년        2회     골프초년생  202106.0   \n",
       "\n",
       "           통화시간    해당년도  통화,사용일자년도  계절   월  \n",
       "0           NaN  2021.0       2021  겨울  1월  \n",
       "1           NaN  2021.0       2021  겨울  1월  \n",
       "2           NaN  2021.0       2021  겨울  1월  \n",
       "3           NaN  2021.0       2021  겨울  1월  \n",
       "4           NaN  2021.0       2021  겨울  2월  \n",
       "...         ...     ...        ...  ..  ..  \n",
       "45321  103439.0     NaN       2021  여름  6월  \n",
       "45322  104114.0     NaN       2021  여름  6월  \n",
       "45323  104132.0     NaN       2021  여름  6월  \n",
       "45324  104224.0     NaN       2021  여름  6월  \n",
       "45325  104250.0     NaN       2021  여름  6월  \n",
       "\n",
       "[45326 rows x 29 columns]"
      ]
     },
     "execution_count": 222,
     "metadata": {},
     "output_type": "execute_result"
    }
   ],
   "source": [
    "df"
   ]
  },
  {
   "cell_type": "markdown",
   "metadata": {},
   "source": [
    "## 골프경력 분석"
   ]
  },
  {
   "cell_type": "code",
   "execution_count": 230,
   "metadata": {},
   "outputs": [
    {
     "data": {
      "image/png": "[encoded data removed]",
      "text/plain": [
       "<Figure size 432x288 with 1 Axes>"
      ]
     },
     "metadata": {
      "needs_background": "light"
     },
     "output_type": "display_data"
    }
   ],
   "source": [
    "df.예약자골프경력값.value_counts().plot.bar()\n",
    "df.예약자골프경력값.value_counts().plot()\n",
    "plt.grid()"
   ]
  },
  {
   "cell_type": "code",
   "execution_count": 238,
   "metadata": {},
   "outputs": [
    {
     "data": {
      "text/plain": [
       "1~3년     7290\n",
       "4~6년     5490\n",
       "10년이상    4027\n",
       "1년미만     2962\n",
       "Name: 예약자골프경력값, dtype: int64"
      ]
     },
     "execution_count": 238,
     "metadata": {},
     "output_type": "execute_result"
    }
   ],
   "source": [
    "df.예약자골프경력값.value_counts()"
   ]
  },
  {
   "cell_type": "code",
   "execution_count": 237,
   "metadata": {},
   "outputs": [
    {
     "data": {
      "text/plain": [
       "<AxesSubplot:ylabel='예약자골프경력값,골프장명'>"
      ]
     },
     "execution_count": 237,
     "metadata": {},
     "output_type": "execute_result"
    },
    {
     "data": {
      "image/png": "[encoded data removed]",
      "text/plain": [
       "<Figure size 432x288 with 1 Axes>"
      ]
     },
     "metadata": {
      "needs_background": "light"
     },
     "output_type": "display_data"
    }
   ],
   "source": [
    "df.groupby([df.예약자골프경력값[df.예약자골프경력값=='10년이상'],df.골프장명]).골프장명.count().plot.barh()"
   ]
  },
  {
   "cell_type": "code",
   "execution_count": 239,
   "metadata": {},
   "outputs": [
    {
     "data": {
      "text/plain": [
       "<AxesSubplot:ylabel='예약자골프경력값,골프장명'>"
      ]
     },
     "execution_count": 239,
     "metadata": {},
     "output_type": "execute_result"
    },
    {
     "data": {
      "image/png": "[encoded data removed]",
      "text/plain": [
       "<Figure size 432x288 with 1 Axes>"
      ]
     },
     "metadata": {
      "needs_background": "light"
     },
     "output_type": "display_data"
    }
   ],
   "source": [
    "df.groupby([df.예약자골프경력값[df.예약자골프경력값=='4~6년'],df.골프장명]).골프장명.count().plot.barh()"
   ]
  },
  {
   "cell_type": "code",
   "execution_count": 240,
   "metadata": {},
   "outputs": [
    {
     "data": {
      "text/plain": [
       "<AxesSubplot:ylabel='예약자골프경력값,골프장명'>"
      ]
     },
     "execution_count": 240,
     "metadata": {},
     "output_type": "execute_result"
    },
    {
     "data": {
      "image/png": "[encoded data removed]",
      "text/plain": [
       "<Figure size 432x288 with 1 Axes>"
      ]
     },
     "metadata": {
      "needs_background": "light"
     },
     "output_type": "display_data"
    }
   ],
   "source": [
    "df.groupby([df.예약자골프경력값[df.예약자골프경력값=='1년미만'],df.골프장명]).골프장명.count().plot.barh()"
   ]
  },
  {
   "cell_type": "code",
   "execution_count": 241,
   "metadata": {},
   "outputs": [
    {
     "data": {
      "text/plain": [
       "<AxesSubplot:ylabel='예약자골프경력값,골프장명'>"
      ]
     },
     "execution_count": 241,
     "metadata": {},
     "output_type": "execute_result"
    },
    {
     "data": {
      "image/png": "[encoded data removed]",
      "text/plain": [
       "<Figure size 432x288 with 1 Axes>"
      ]
     },
     "metadata": {
      "needs_background": "light"
     },
     "output_type": "display_data"
    }
   ],
   "source": [
    "df.groupby([df.예약자골프경력값[df.예약자골프경력값=='1~3년'],df.골프장명]).골프장명.count().plot.barh()"
   ]
  },
  {
   "cell_type": "markdown",
   "metadata": {},
   "source": [
    "## 단골 조사"
   ]
  },
  {
   "cell_type": "code",
   "execution_count": 10,
   "metadata": {},
   "outputs": [
    {
     "data": {
      "text/plain": [
       "2회      6131\n",
       "3회      4060\n",
       "4회      3735\n",
       "5회이상    3119\n",
       "1회이하    2720\n",
       "Name: 예약자평균사용값, dtype: int64"
      ]
     },
     "execution_count": 10,
     "metadata": {},
     "output_type": "execute_result"
    }
   ],
   "source": [
    "df.예약자평균사용값.value_counts()"
   ]
  },
  {
   "cell_type": "code",
   "execution_count": 11,
   "metadata": {},
   "outputs": [
    {
     "data": {
      "text/plain": [
       "<AxesSubplot:ylabel='예약자평균사용값,골프장명'>"
      ]
     },
     "execution_count": 11,
     "metadata": {},
     "output_type": "execute_result"
    },
    {
     "data": {
      "image/png": "[encoded data removed]",
      "text/plain": [
       "<Figure size 432x288 with 1 Axes>"
      ]
     },
     "metadata": {
      "needs_background": "light"
     },
     "output_type": "display_data"
    }
   ],
   "source": [
    "df.groupby([df.예약자평균사용값[df.예약자평균사용값=='2회'],df.골프장명]).골프장명.count().plot.barh()"
   ]
  },
  {
   "cell_type": "code",
   "execution_count": 12,
   "metadata": {},
   "outputs": [
    {
     "data": {
      "text/plain": [
       "<AxesSubplot:ylabel='예약자평균사용값,골프장명'>"
      ]
     },
     "execution_count": 12,
     "metadata": {},
     "output_type": "execute_result"
    },
    {
     "data": {
      "image/png": "[encoded data removed]",
      "text/plain": [
       "<Figure size 432x288 with 1 Axes>"
      ]
     },
     "metadata": {
      "needs_background": "light"
     },
     "output_type": "display_data"
    }
   ],
   "source": [
    "df.groupby([df.예약자평균사용값[df.예약자평균사용값=='3회'],df.골프장명]).골프장명.count().plot.barh()"
   ]
  },
  {
   "cell_type": "code",
   "execution_count": 13,
   "metadata": {},
   "outputs": [
    {
     "data": {
      "text/plain": [
       "<AxesSubplot:ylabel='예약자평균사용값,골프장명'>"
      ]
     },
     "execution_count": 13,
     "metadata": {},
     "output_type": "execute_result"
    },
    {
     "data": {
      "image/png": "[encoded data removed]",
      "text/plain": [
       "<Figure size 432x288 with 1 Axes>"
      ]
     },
     "metadata": {
      "needs_background": "light"
     },
     "output_type": "display_data"
    }
   ],
   "source": [
    "df.groupby([df.예약자평균사용값[df.예약자평균사용값=='5회이상'],df.골프장명]).골프장명.count().plot.barh()"
   ]
  },
  {
   "cell_type": "code",
   "execution_count": 14,
   "metadata": {},
   "outputs": [
    {
     "data": {
      "text/plain": [
       "<AxesSubplot:ylabel='예약자평균사용값,골프장명'>"
      ]
     },
     "execution_count": 14,
     "metadata": {},
     "output_type": "execute_result"
    },
    {
     "data": {
      "image/png": "[encoded data removed]",
      "text/plain": [
       "<Figure size 432x288 with 1 Axes>"
      ]
     },
     "metadata": {
      "needs_background": "light"
     },
     "output_type": "display_data"
    }
   ],
   "source": [
    "df.groupby([df.예약자평균사용값[df.예약자평균사용값=='1회이하'],df.골프장명]).골프장명.count().plot.barh()"
   ]
  },
  {
   "cell_type": "code",
   "execution_count": null,
   "metadata": {},
   "outputs": [],
   "source": []
  }
 ],
 "metadata": {
  "interpreter": {
   "hash": "3d88519486fb7f303604b42e7326b7f6f54b322c9ba994a96dc12436522773d9"
  },
  "kernelspec": {
   "display_name": "Python 3.9.7 ('base')",
   "language": "python",
   "name": "python3"
  },
  "language_info": {
   "codemirror_mode": {
    "name": "ipython",
    "version": 3
   },
   "file_extension": ".py",
   "mimetype": "text/x-python",
   "name": "python",
   "nbconvert_exporter": "python",
   "pygments_lexer": "ipython3",
   "version": "3.9.7"
  },
  "orig_nbformat": 4
 },
 "nbformat": 4,
 "nbformat_minor": 2
}
