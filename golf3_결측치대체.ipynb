{
 "cells": [
  {
   "cell_type": "code",
   "execution_count": 9,
   "metadata": {},
   "outputs": [],
   "source": [
    "import pandas as pd\n",
    "import numpy as np\n",
    "import copy"
   ]
  },
  {
   "cell_type": "code",
   "execution_count": 2,
   "metadata": {},
   "outputs": [],
   "source": [
    "df = pd.read_csv('골프장데이터합친거.csv')"
   ]
  },
  {
   "cell_type": "code",
   "execution_count": 4,
   "metadata": {},
   "outputs": [
    {
     "data": {
      "text/plain": [
       "골프장명           0\n",
       "골프장지역명         0\n",
       "대중제,회원제        0\n",
       "18             0\n",
       "사용일자           0\n",
       "사용시간           0\n",
       "성별코드           0\n",
       "나이         15228\n",
       "도민,비도민         0\n",
       "실력         23448\n",
       "골프경력       25557\n",
       "평균사용값      25561\n",
       "사용성향       26709\n",
       "판매업체명          0\n",
       "dtype: int64"
      ]
     },
     "execution_count": 4,
     "metadata": {},
     "output_type": "execute_result"
    }
   ],
   "source": [
    "df.isnull().sum()"
   ]
  },
  {
   "cell_type": "code",
   "execution_count": 5,
   "metadata": {},
   "outputs": [],
   "source": [
    "df_결측치대체 = df.fillna('미기재',inplace=True)"
   ]
  },
  {
   "cell_type": "code",
   "execution_count": 10,
   "metadata": {},
   "outputs": [],
   "source": [
    "df_결측치대체 = df.copy()"
   ]
  },
  {
   "cell_type": "code",
   "execution_count": 12,
   "metadata": {},
   "outputs": [],
   "source": [
    "df_결측치대체.to_csv('골프장_결측치대체',index=False)"
   ]
  },
  {
   "cell_type": "code",
   "execution_count": 14,
   "metadata": {},
   "outputs": [],
   "source": [
    "df_결측치대체.rename(columns={'18':'홀수'},inplace=True)"
   ]
  },
  {
   "cell_type": "code",
   "execution_count": 16,
   "metadata": {},
   "outputs": [],
   "source": [
    "df_결측치대체.to_csv('골프장_결측치대체.csv',index=False)"
   ]
  },
  {
   "cell_type": "code",
   "execution_count": 33,
   "metadata": {},
   "outputs": [
    {
     "data": {
      "text/plain": [
       "40.0    15244\n",
       "미기재     15228\n",
       "50.0     7252\n",
       "30.0     5432\n",
       "60.0     1105\n",
       "20.0      950\n",
       "10.0       95\n",
       "70.0       20\n",
       "Name: 나이, dtype: int64"
      ]
     },
     "execution_count": 33,
     "metadata": {},
     "output_type": "execute_result"
    }
   ],
   "source": [
    "df_결측치대체.나이.value_counts()"
   ]
  },
  {
   "cell_type": "code",
   "execution_count": 32,
   "metadata": {},
   "outputs": [
    {
     "data": {
      "text/plain": [
       "26709"
      ]
     },
     "execution_count": 32,
     "metadata": {},
     "output_type": "execute_result"
    }
   ],
   "source": [
    "df_결측치대체.사용성향.value_counts()[0]"
   ]
  },
  {
   "cell_type": "code",
   "execution_count": 36,
   "metadata": {},
   "outputs": [
    {
     "data": {
      "text/html": [
       "<div>\n",
       "<style scoped>\n",
       "    .dataframe tbody tr th:only-of-type {\n",
       "        vertical-align: middle;\n",
       "    }\n",
       "\n",
       "    .dataframe tbody tr th {\n",
       "        vertical-align: top;\n",
       "    }\n",
       "\n",
       "    .dataframe thead th {\n",
       "        text-align: right;\n",
       "    }\n",
       "</style>\n",
       "<table border=\"1\" class=\"dataframe\">\n",
       "  <thead>\n",
       "    <tr style=\"text-align: right;\">\n",
       "      <th></th>\n",
       "      <th>골프장명</th>\n",
       "      <th>골프장지역명</th>\n",
       "      <th>대중제,회원제</th>\n",
       "      <th>홀수</th>\n",
       "      <th>사용일자</th>\n",
       "      <th>사용시간</th>\n",
       "      <th>성별코드</th>\n",
       "      <th>나이</th>\n",
       "      <th>도민,비도민</th>\n",
       "      <th>실력</th>\n",
       "      <th>골프경력</th>\n",
       "      <th>평균사용값</th>\n",
       "      <th>사용성향</th>\n",
       "      <th>판매업체명</th>\n",
       "    </tr>\n",
       "  </thead>\n",
       "  <tbody>\n",
       "    <tr>\n",
       "      <th>0</th>\n",
       "      <td>중문GC</td>\n",
       "      <td>서귀포권</td>\n",
       "      <td>대중제</td>\n",
       "      <td>18</td>\n",
       "      <td>20210531</td>\n",
       "      <td>83537</td>\n",
       "      <td>1</td>\n",
       "      <td>40.0</td>\n",
       "      <td>도민</td>\n",
       "      <td>144</td>\n",
       "      <td>미기재</td>\n",
       "      <td>미기재</td>\n",
       "      <td>미기재</td>\n",
       "      <td>통화</td>\n",
       "    </tr>\n",
       "    <tr>\n",
       "      <th>1</th>\n",
       "      <td>더클래식CC</td>\n",
       "      <td>동부권</td>\n",
       "      <td>대중제</td>\n",
       "      <td>18</td>\n",
       "      <td>20210706</td>\n",
       "      <td>133106</td>\n",
       "      <td>2</td>\n",
       "      <td>40.0</td>\n",
       "      <td>도민</td>\n",
       "      <td>미기재</td>\n",
       "      <td>미기재</td>\n",
       "      <td>미기재</td>\n",
       "      <td>미기재</td>\n",
       "      <td>통화</td>\n",
       "    </tr>\n",
       "    <tr>\n",
       "      <th>2</th>\n",
       "      <td>더클래식CC</td>\n",
       "      <td>동부권</td>\n",
       "      <td>대중제</td>\n",
       "      <td>18</td>\n",
       "      <td>20210706</td>\n",
       "      <td>134812</td>\n",
       "      <td>2</td>\n",
       "      <td>40.0</td>\n",
       "      <td>도민</td>\n",
       "      <td>미기재</td>\n",
       "      <td>1~3년</td>\n",
       "      <td>2회</td>\n",
       "      <td>주말골프</td>\n",
       "      <td>통화</td>\n",
       "    </tr>\n",
       "    <tr>\n",
       "      <th>3</th>\n",
       "      <td>제주CC</td>\n",
       "      <td>제주시권</td>\n",
       "      <td>대중제</td>\n",
       "      <td>18</td>\n",
       "      <td>20210706</td>\n",
       "      <td>134846</td>\n",
       "      <td>2</td>\n",
       "      <td>40.0</td>\n",
       "      <td>도민</td>\n",
       "      <td>미기재</td>\n",
       "      <td>1~3년</td>\n",
       "      <td>2회</td>\n",
       "      <td>주말골프</td>\n",
       "      <td>통화</td>\n",
       "    </tr>\n",
       "    <tr>\n",
       "      <th>4</th>\n",
       "      <td>스프링데일CC</td>\n",
       "      <td>동부권</td>\n",
       "      <td>대중제</td>\n",
       "      <td>18</td>\n",
       "      <td>20210706</td>\n",
       "      <td>135804</td>\n",
       "      <td>1</td>\n",
       "      <td>40.0</td>\n",
       "      <td>도민</td>\n",
       "      <td>미기재</td>\n",
       "      <td>미기재</td>\n",
       "      <td>미기재</td>\n",
       "      <td>미기재</td>\n",
       "      <td>통화</td>\n",
       "    </tr>\n",
       "    <tr>\n",
       "      <th>...</th>\n",
       "      <td>...</td>\n",
       "      <td>...</td>\n",
       "      <td>...</td>\n",
       "      <td>...</td>\n",
       "      <td>...</td>\n",
       "      <td>...</td>\n",
       "      <td>...</td>\n",
       "      <td>...</td>\n",
       "      <td>...</td>\n",
       "      <td>...</td>\n",
       "      <td>...</td>\n",
       "      <td>...</td>\n",
       "      <td>...</td>\n",
       "      <td>...</td>\n",
       "    </tr>\n",
       "    <tr>\n",
       "      <th>45321</th>\n",
       "      <td>해비치CC</td>\n",
       "      <td>동부권</td>\n",
       "      <td>회원제+대중제</td>\n",
       "      <td>36</td>\n",
       "      <td>20201231</td>\n",
       "      <td>1227</td>\n",
       "      <td>0</td>\n",
       "      <td>미기재</td>\n",
       "      <td>도민</td>\n",
       "      <td>미기재</td>\n",
       "      <td>미기재</td>\n",
       "      <td>미기재</td>\n",
       "      <td>미기재</td>\n",
       "      <td>해비치CC</td>\n",
       "    </tr>\n",
       "    <tr>\n",
       "      <th>45322</th>\n",
       "      <td>라온GC</td>\n",
       "      <td>서부권</td>\n",
       "      <td>대중제</td>\n",
       "      <td>27</td>\n",
       "      <td>20201226</td>\n",
       "      <td>1132</td>\n",
       "      <td>0</td>\n",
       "      <td>미기재</td>\n",
       "      <td>도민</td>\n",
       "      <td>미기재</td>\n",
       "      <td>미기재</td>\n",
       "      <td>미기재</td>\n",
       "      <td>미기재</td>\n",
       "      <td>라온GC</td>\n",
       "    </tr>\n",
       "    <tr>\n",
       "      <th>45323</th>\n",
       "      <td>더클래식CC</td>\n",
       "      <td>동부권</td>\n",
       "      <td>대중제</td>\n",
       "      <td>18</td>\n",
       "      <td>20210127</td>\n",
       "      <td>743</td>\n",
       "      <td>2</td>\n",
       "      <td>미기재</td>\n",
       "      <td>도민</td>\n",
       "      <td>미기재</td>\n",
       "      <td>4~6년</td>\n",
       "      <td>1회이하</td>\n",
       "      <td>주중골프</td>\n",
       "      <td>섬프로</td>\n",
       "    </tr>\n",
       "    <tr>\n",
       "      <th>45324</th>\n",
       "      <td>아덴힐GC</td>\n",
       "      <td>서부권</td>\n",
       "      <td>대중제</td>\n",
       "      <td>18</td>\n",
       "      <td>20201228</td>\n",
       "      <td>1215</td>\n",
       "      <td>2</td>\n",
       "      <td>40.0</td>\n",
       "      <td>도민</td>\n",
       "      <td>미기재</td>\n",
       "      <td>미기재</td>\n",
       "      <td>미기재</td>\n",
       "      <td>미기재</td>\n",
       "      <td>아덴힐GC</td>\n",
       "    </tr>\n",
       "    <tr>\n",
       "      <th>45325</th>\n",
       "      <td>더클래식CC</td>\n",
       "      <td>동부권</td>\n",
       "      <td>대중제</td>\n",
       "      <td>18</td>\n",
       "      <td>20210119</td>\n",
       "      <td>756</td>\n",
       "      <td>1</td>\n",
       "      <td>40.0</td>\n",
       "      <td>도민</td>\n",
       "      <td>미기재</td>\n",
       "      <td>1~3년</td>\n",
       "      <td>4회</td>\n",
       "      <td>주중골프</td>\n",
       "      <td>섬프로</td>\n",
       "    </tr>\n",
       "  </tbody>\n",
       "</table>\n",
       "<p>45326 rows × 14 columns</p>\n",
       "</div>"
      ],
      "text/plain": [
       "          골프장명 골프장지역명  대중제,회원제  홀수      사용일자    사용시간  성별코드    나이 도민,비도민   실력  \\\n",
       "0         중문GC   서귀포권      대중제  18  20210531   83537     1  40.0     도민  144   \n",
       "1       더클래식CC    동부권      대중제  18  20210706  133106     2  40.0     도민  미기재   \n",
       "2       더클래식CC    동부권      대중제  18  20210706  134812     2  40.0     도민  미기재   \n",
       "3         제주CC   제주시권      대중제  18  20210706  134846     2  40.0     도민  미기재   \n",
       "4      스프링데일CC    동부권      대중제  18  20210706  135804     1  40.0     도민  미기재   \n",
       "...        ...    ...      ...  ..       ...     ...   ...   ...    ...  ...   \n",
       "45321    해비치CC    동부권  회원제+대중제  36  20201231    1227     0   미기재     도민  미기재   \n",
       "45322     라온GC    서부권      대중제  27  20201226    1132     0   미기재     도민  미기재   \n",
       "45323   더클래식CC    동부권      대중제  18  20210127     743     2   미기재     도민  미기재   \n",
       "45324    아덴힐GC    서부권      대중제  18  20201228    1215     2  40.0     도민  미기재   \n",
       "45325   더클래식CC    동부권      대중제  18  20210119     756     1  40.0     도민  미기재   \n",
       "\n",
       "       골프경력 평균사용값  사용성향  판매업체명  \n",
       "0       미기재   미기재   미기재     통화  \n",
       "1       미기재   미기재   미기재     통화  \n",
       "2      1~3년    2회  주말골프     통화  \n",
       "3      1~3년    2회  주말골프     통화  \n",
       "4       미기재   미기재   미기재     통화  \n",
       "...     ...   ...   ...    ...  \n",
       "45321   미기재   미기재   미기재  해비치CC  \n",
       "45322   미기재   미기재   미기재   라온GC  \n",
       "45323  4~6년  1회이하  주중골프    섬프로  \n",
       "45324   미기재   미기재   미기재  아덴힐GC  \n",
       "45325  1~3년    4회  주중골프    섬프로  \n",
       "\n",
       "[45326 rows x 14 columns]"
      ]
     },
     "execution_count": 36,
     "metadata": {},
     "output_type": "execute_result"
    }
   ],
   "source": [
    "df_결측치대체"
   ]
  },
  {
   "cell_type": "code",
   "execution_count": 1,
   "metadata": {},
   "outputs": [
    {
     "ename": "NameError",
     "evalue": "name 'df_결측치대체' is not defined",
     "output_type": "error",
     "traceback": [
      "\u001b[1;31m---------------------------------------------------------------------------\u001b[0m",
      "\u001b[1;31mNameError\u001b[0m                                 Traceback (most recent call last)",
      "\u001b[1;32m~\\AppData\\Local\\Temp/ipykernel_9660/2839603935.py\u001b[0m in \u001b[0;36m<module>\u001b[1;34m\u001b[0m\n\u001b[1;32m----> 1\u001b[1;33m \u001b[0mdf_결측치대체\u001b[0m\u001b[1;33m\u001b[0m\u001b[1;33m\u001b[0m\u001b[0m\n\u001b[0m",
      "\u001b[1;31mNameError\u001b[0m: name 'df_결측치대체' is not defined"
     ]
    }
   ],
   "source": [
    "df_결측치대체"
   ]
  },
  {
   "cell_type": "code",
   "execution_count": 2,
   "metadata": {},
   "outputs": [],
   "source": [
    "import pandas as pd\n"
   ]
  },
  {
   "cell_type": "code",
   "execution_count": null,
   "metadata": {},
   "outputs": [],
   "source": []
  }
 ],
 "metadata": {
  "interpreter": {
   "hash": "3d88519486fb7f303604b42e7326b7f6f54b322c9ba994a96dc12436522773d9"
  },
  "kernelspec": {
   "display_name": "Python 3.9.7 ('base')",
   "language": "python",
   "name": "python3"
  },
  "language_info": {
   "codemirror_mode": {
    "name": "ipython",
    "version": 3
   },
   "file_extension": ".py",
   "mimetype": "text/x-python",
   "name": "python",
   "nbconvert_exporter": "python",
   "pygments_lexer": "ipython3",
   "version": "3.9.7"
  },
  "orig_nbformat": 4
 },
 "nbformat": 4,
 "nbformat_minor": 2
}
