{
 "cells": [
  {
   "cell_type": "code",
   "execution_count": 1,
   "metadata": {},
   "outputs": [],
   "source": [
    "import pandas as pd\n",
    "import numpy as np\n",
    "import matplotlib.pyplot as plt\n",
    "import seaborn as sns\n",
    "import copy\n",
    "import matplotlib as mpl\n",
    "import datetime\n",
    "from datetime import timedelta\n",
    "mpl.rcParams['axes.unicode_minus'] = False\n",
    "plt.rcParams['font.family'] = 'Malgun Gothic'\n",
    "import os"
   ]
  },
  {
   "cell_type": "code",
   "execution_count": 5,
   "metadata": {},
   "outputs": [],
   "source": [
    "os.chdir('/media/minwooking/9C33-6BBD/WorkSpace/Next_Ez_jejudo/data/골프장데이터년도별/예약취소 데이터')"
   ]
  },
  {
   "cell_type": "code",
   "execution_count": 7,
   "metadata": {},
   "outputs": [
    {
     "name": "stdout",
     "output_type": "stream",
     "text": [
      "/media/minwooking/9C33-6BBD/WorkSpace/Next_Ez_jejudo/data/골프장데이터년도별/예약취소 데이터\n"
     ]
    }
   ],
   "source": [
    "!pwd"
   ]
  },
  {
   "cell_type": "code",
   "execution_count": 22,
   "metadata": {},
   "outputs": [],
   "source": [
    "# df1 = pd.read_csv('제주골프장_예약취소_22.03.csv',encoding='euc-kr',header=None)\n",
    "# df2 = pd.read_csv('제주골프장_예약취소_2020.csv',encoding='euc-kr',header=None)\n",
    "# df3 = pd.read_csv('제주골프장_예약취소_2021.csv',encoding='euc-kr',header=None)"
   ]
  },
  {
   "cell_type": "code",
   "execution_count": 31,
   "metadata": {},
   "outputs": [
    {
     "data": {
      "text/html": [
       "<div>\n",
       "<style scoped>\n",
       "    .dataframe tbody tr th:only-of-type {\n",
       "        vertical-align: middle;\n",
       "    }\n",
       "\n",
       "    .dataframe tbody tr th {\n",
       "        vertical-align: top;\n",
       "    }\n",
       "\n",
       "    .dataframe thead th {\n",
       "        text-align: right;\n",
       "    }\n",
       "</style>\n",
       "<table border=\"1\" class=\"dataframe\">\n",
       "  <thead>\n",
       "    <tr style=\"text-align: right;\">\n",
       "      <th></th>\n",
       "      <th>0</th>\n",
       "      <th>1</th>\n",
       "      <th>2</th>\n",
       "      <th>3</th>\n",
       "      <th>4</th>\n",
       "      <th>5</th>\n",
       "      <th>6</th>\n",
       "      <th>7</th>\n",
       "      <th>8</th>\n",
       "      <th>9</th>\n",
       "      <th>...</th>\n",
       "      <th>15</th>\n",
       "      <th>16</th>\n",
       "      <th>17</th>\n",
       "      <th>18</th>\n",
       "      <th>19</th>\n",
       "      <th>20</th>\n",
       "      <th>21</th>\n",
       "      <th>22</th>\n",
       "      <th>23</th>\n",
       "      <th>24</th>\n",
       "    </tr>\n",
       "  </thead>\n",
       "  <tbody>\n",
       "    <tr>\n",
       "      <th>0</th>\n",
       "      <td>그린필드CC</td>\n",
       "      <td>제주시내권</td>\n",
       "      <td>회원제</td>\n",
       "      <td>18</td>\n",
       "      <td>20220314</td>\n",
       "      <td>756</td>\n",
       "      <td>M</td>\n",
       "      <td>132000</td>\n",
       "      <td>132000</td>\n",
       "      <td>선결제</td>\n",
       "      <td>...</td>\n",
       "      <td>20220301</td>\n",
       "      <td>101643</td>\n",
       "      <td>(주)부민가자투어</td>\n",
       "      <td>1</td>\n",
       "      <td>NaN</td>\n",
       "      <td>도민</td>\n",
       "      <td>20</td>\n",
       "      <td>NaN</td>\n",
       "      <td>NaN</td>\n",
       "      <td>NaN</td>\n",
       "    </tr>\n",
       "    <tr>\n",
       "      <th>1</th>\n",
       "      <td>그린필드CC</td>\n",
       "      <td>제주시내권</td>\n",
       "      <td>회원제</td>\n",
       "      <td>18</td>\n",
       "      <td>20220314</td>\n",
       "      <td>749</td>\n",
       "      <td>M</td>\n",
       "      <td>132000</td>\n",
       "      <td>132000</td>\n",
       "      <td>선결제</td>\n",
       "      <td>...</td>\n",
       "      <td>20220301</td>\n",
       "      <td>101646</td>\n",
       "      <td>(주)부민가자투어</td>\n",
       "      <td>2</td>\n",
       "      <td>40.0</td>\n",
       "      <td>도민</td>\n",
       "      <td>25</td>\n",
       "      <td>NaN</td>\n",
       "      <td>NaN</td>\n",
       "      <td>NaN</td>\n",
       "    </tr>\n",
       "    <tr>\n",
       "      <th>2</th>\n",
       "      <td>아덴힐GC</td>\n",
       "      <td>서부권</td>\n",
       "      <td>대중제</td>\n",
       "      <td>18</td>\n",
       "      <td>20220308</td>\n",
       "      <td>1128</td>\n",
       "      <td>왕이메</td>\n",
       "      <td>130000</td>\n",
       "      <td>190000</td>\n",
       "      <td>현장결제</td>\n",
       "      <td>...</td>\n",
       "      <td>20220301</td>\n",
       "      <td>115117</td>\n",
       "      <td>아덴힐GC</td>\n",
       "      <td>2</td>\n",
       "      <td>40.0</td>\n",
       "      <td>도민</td>\n",
       "      <td>20</td>\n",
       "      <td>4~6년</td>\n",
       "      <td>4회</td>\n",
       "      <td>골프초년생</td>\n",
       "    </tr>\n",
       "  </tbody>\n",
       "</table>\n",
       "<p>3 rows × 25 columns</p>\n",
       "</div>"
      ],
      "text/plain": [
       "       0      1    2   3         4     5    6       7       8     9   ...  \\\n",
       "0  그린필드CC  제주시내권  회원제  18  20220314   756    M  132000  132000   선결제  ...   \n",
       "1  그린필드CC  제주시내권  회원제  18  20220314   749    M  132000  132000   선결제  ...   \n",
       "2   아덴힐GC    서부권  대중제  18  20220308  1128  왕이메  130000  190000  현장결제  ...   \n",
       "\n",
       "         15      16         17  18    19  20  21    22   23     24  \n",
       "0  20220301  101643  (주)부민가자투어   1   NaN  도민  20   NaN  NaN    NaN  \n",
       "1  20220301  101646  (주)부민가자투어   2  40.0  도민  25   NaN  NaN    NaN  \n",
       "2  20220301  115117      아덴힐GC   2  40.0  도민  20  4~6년   4회  골프초년생  \n",
       "\n",
       "[3 rows x 25 columns]"
      ]
     },
     "execution_count": 31,
     "metadata": {},
     "output_type": "execute_result"
    }
   ],
   "source": [
    "# df_cancel=pd.concat([df1,df2,df3],ignore_index=True)\n",
    "# df_cancel.head(3)"
   ]
  },
  {
   "cell_type": "code",
   "execution_count": 34,
   "metadata": {},
   "outputs": [],
   "source": [
    "col_list = '''골프장명\n",
    "골프장지역명\n",
    "골프장멤버십값\n",
    "골프장유형값\n",
    "사용일자\n",
    "사용시간값\n",
    "사용유형명\n",
    "거주자금액\n",
    "비거주자금액\n",
    "결제수단명\n",
    "총인원수\n",
    "거주자인원수\n",
    "비거주자인원수\n",
    "예약일자\n",
    "예약시간\n",
    "취소일자\n",
    "취소시간\n",
    "판매업체명\n",
    "예약자성별코드\n",
    "예약자연령대코드\n",
    "예약자거주지값\n",
    "예약자평균값\n",
    "예약자골프경력값\n",
    "예약자평균사용값\n",
    "예약자사용성향값'''.split('\\n')"
   ]
  },
  {
   "cell_type": "code",
   "execution_count": 35,
   "metadata": {},
   "outputs": [],
   "source": [
    "df_cancel.columns=col_list"
   ]
  },
  {
   "cell_type": "code",
   "execution_count": 41,
   "metadata": {},
   "outputs": [],
   "source": [
    "df_cancel.to_csv('예약취소데이터merge.csv',index=False)"
   ]
  },
  {
   "cell_type": "code",
   "execution_count": 40,
   "metadata": {},
   "outputs": [
    {
     "data": {
      "text/plain": [
       "'/media/minwooking/9C33-6BBD/WorkSpace/Next_Ez_jejudo/data/골프장데이터년도별/예약취소 데이터'"
      ]
     },
     "execution_count": 40,
     "metadata": {},
     "output_type": "execute_result"
    }
   ],
   "source": [
    "pwd"
   ]
  },
  {
   "cell_type": "code",
   "execution_count": 45,
   "metadata": {},
   "outputs": [],
   "source": [
    "# df4 = pd.read_csv('/media/minwooking/9C33-6BBD/WorkSpace/Next_Ez_jejudo/data/골프장데이터년도별/예약데이터/제주골프장_예약_22.03.csv',encoding='euc-kr',header=None)\n",
    "# df5 = pd.read_csv('/media/minwooking/9C33-6BBD/WorkSpace/Next_Ez_jejudo/data/골프장데이터년도별/예약데이터/제주골프장_예약_2020.csv',encoding='euc-kr',header=None)\n",
    "# df6 = pd.read_csv('/media/minwooking/9C33-6BBD/WorkSpace/Next_Ez_jejudo/data/골프장데이터년도별/예약데이터/제주골프장_예약_2021.csv',encoding='euc-kr',header=None)\n",
    "# df_merge=pd.concat([df4,df5,df6],ignore_index=True)\n",
    "# df_merge.to_csv('예약데이터 합친거(0314).csv',index=False)"
   ]
  },
  {
   "cell_type": "code",
   "execution_count": 46,
   "metadata": {},
   "outputs": [],
   "source": [
    "# df7 = pd.read_csv('/media/minwooking/9C33-6BBD/WorkSpace/Next_Ez_jejudo/data/골프장데이터년도별/전화데이터/제주골프장_전화_22.03.csv',encoding='euc-kr',header=None)\n",
    "# df8 = pd.read_csv('/media/minwooking/9C33-6BBD/WorkSpace/Next_Ez_jejudo/data/골프장데이터년도별/전화데이터/제주골프장_전화_2021.csv',encoding='euc-kr',header=None)\n",
    "# df_call=pd.concat([df7,df8],ignore_index=True)\n",
    "# df_call.to_csv('예약데이터전화.csv',index=False)"
   ]
  },
  {
   "cell_type": "code",
   "execution_count": null,
   "metadata": {},
   "outputs": [],
   "source": []
  }
 ],
 "metadata": {
  "interpreter": {
   "hash": "c7b83978bccacdacd91f931f2997a11eedad6abb32ff1f9a13b7565fe9ed5629"
  },
  "kernelspec": {
   "display_name": "Python 3.9.7 ('base')",
   "language": "python",
   "name": "python3"
  },
  "language_info": {
   "codemirror_mode": {
    "name": "ipython",
    "version": 3
   },
   "file_extension": ".py",
   "mimetype": "text/x-python",
   "name": "python",
   "nbconvert_exporter": "python",
   "pygments_lexer": "ipython3",
   "version": "3.9.7"
  },
  "orig_nbformat": 4
 },
 "nbformat": 4,
 "nbformat_minor": 2
}
